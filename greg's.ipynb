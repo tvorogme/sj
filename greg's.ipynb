{
 "cells": [
  {
   "cell_type": "code",
   "execution_count": 2,
   "metadata": {
    "ExecuteTime": {
     "end_time": "2018-02-14T11:48:10.769230Z",
     "start_time": "2018-02-14T11:48:10.033224Z"
    }
   },
   "outputs": [],
   "source": [
    "\n",
    "import os, glob\n",
    "import pickle\n",
    "import pymorphy2\n",
    "import nltk\n",
    "import numpy as np\n",
    "import re\n",
    "from typing import List\n",
    "import collections\n",
    "import datetime\n",
    "from cytoolz import pipe\n",
    "from tqdm import tqdm"
   ]
  },
  {
   "cell_type": "code",
   "execution_count": null,
   "metadata": {
    "ExecuteTime": {
     "end_time": "2018-02-13T11:14:41.621475Z",
     "start_time": "2018-02-13T11:14:41.009839Z"
    },
    "collapsed": true
   },
   "outputs": [],
   "source": [
    "morph = pymorphy2.MorphAnalyzer()\n",
    "stopwords = nltk.corpus.stopwords.words(\n",
    "    'russian') + nltk.corpus.stopwords.words('english')\n",
    "stopwords += [\n",
    "    'отличный', 'метр', 'наш', 'клиент', 'банка', 'проект', 'литр',\n",
    "    'желательный', 'др', 'самый', 'мочь', 'хороший', 'год', 'чел', 'обязательный'\n",
    "]\n",
    "\n",
    "cache = {}\n",
    "\n",
    "\n",
    "def remove_numbers(text):\n",
    "    return re.sub(r'\\d+', '', text)\n",
    "\n",
    "\n",
    "def _get_POS(word):\n",
    "    if word not in cache:\n",
    "        cache[word] = morph.parse(word)[0]\n",
    "    return cache[word].tag.POS\n",
    "\n",
    "\n",
    "def normal_form(word):\n",
    "    if word not in cache:\n",
    "        cache[word] = morph.parse(word)[0]\n",
    "    return cache[word].normal_form\n",
    "\n",
    "\n",
    "def is_word_pos_in(word: str, pos: List[str] = None) -> bool:\n",
    "    if not pos:\n",
    "        pos = ['NOUN', \"ADJF\", 'INFN', 'VERB', 'ADJS']\n",
    "\n",
    "    return _get_POS(word) in pos\n",
    "\n",
    "\n",
    "def get_words(text):\n",
    "    return re.findall(r'\\w+', text)\n",
    "\n",
    "\n",
    "def nonempty(x):\n",
    "    if isinstance(x, Sequence):\n",
    "        return filter(lambda x: len(x) > 0 and x != ' ', x)\n",
    "    return x\n",
    "\n",
    "helper = {}\n",
    "\n",
    "\n",
    "def remove_numbers(text):\n",
    "    return re.sub(r'\\d+', '', text)\n",
    "\n",
    "\n",
    "def normalize_skill(skill: str):\n",
    "    parsed = tuple(\n",
    "        pipe(\n",
    "            skill,\n",
    "            lambda x: x.lower(),\n",
    "            remove_numbers,\n",
    "            get_words,\n",
    "        ))\n",
    "    \n",
    "    clear_skill = []\n",
    "    dirty_skill = []\n",
    "    \n",
    "    # Последнее стоп слово для dirty_skill\n",
    "    last_stopword = None\n",
    "    \n",
    "    # Для каждого слова в скилле\n",
    "    for i in parsed:\n",
    "        # Нормализуем слово\n",
    "        word = normal_form(i)\n",
    "        \n",
    "        # Если стоп слово - запомним его\n",
    "        if word in nltk.corpus.stopwords.words('russian'):\n",
    "            last_stopword = word\n",
    "            \n",
    "            if word == \"без\":\n",
    "                clear_skill.append(word)\n",
    "        \n",
    "        # Проверим на часть речи, длинну и стоплова\n",
    "        elif is_word_pos_in(word) and len(word) > 3 and word not in stopwords:\n",
    "            \n",
    "            # Если до этого было стоп слово, добавим его в dirty\n",
    "            if last_stopword and len(dirty_skill) > 0:\n",
    "                dirty_skill.append(last_stopword)\n",
    "                last_stopword = None\n",
    "            \n",
    "            # Добавим в чистый скилл слово\n",
    "            clear_skill.append(word)\n",
    "            \n",
    "            if is_word_pos_in(word, ['NOUN', 'ADJF']):\n",
    "                dirty_skill.append(i)\n",
    "    #f len(clear_skill) > 1 and len(clear_skill) < 8:\n",
    "    return clear_skill, dirty_skill"
   ]
  },
  {
   "cell_type": "code",
   "execution_count": null,
   "metadata": {
    "collapsed": true
   },
   "outputs": [],
   "source": [
    "tmp_vector = np.array([0] * 300, dtype=np.float32)\n",
    "def _word2vec(word):\n",
    "    for i in [\"_NOUN\", \"_ADJ\", \"_VERB\"]:\n",
    "        tmp = \"{}{}\".format(word, i)\n",
    "        if tmp in model:\n",
    "            return model[tmp]\n",
    "        else:\n",
    "            return tmp_vector\n",
    "skill_to_vec = lambda x: np.mean(list(map(_word2vec, x)))"
   ]
  },
  {
   "cell_type": "code",
   "execution_count": null,
   "metadata": {
    "collapsed": true
   },
   "outputs": [],
   "source": [
    "def add_clear_vac_name(vac):\n",
    "    vac = vac.copy()\n",
    "    vac['profession_tree_name_vec'] = skill_to_vec(normalize_skill(vac['profession_tree_name'])[1])\n",
    "    return vac"
   ]
  },
  {
   "cell_type": "code",
   "execution_count": null,
   "metadata": {},
   "outputs": [],
   "source": [
    "_word2vec(normalize_skill(data[2500]['profession_tree_name'])[0][0])"
   ]
  },
  {
   "cell_type": "code",
   "execution_count": null,
   "metadata": {
    "collapsed": true
   },
   "outputs": [],
   "source": [
    "def find_vac_number(prof):\n",
    "    norm_prof=normalize_skill(prof)\n",
    "    for i in  range(len(data)):\n",
    "        if(data[i]['profession_normalized'] == norm_prof or data[i]['profession_tree_name_normalized'] == norm_prof):\n",
    "            return i\n",
    "    return -1"
   ]
  },
  {
   "cell_type": "code",
   "execution_count": 22,
   "metadata": {
    "ExecuteTime": {
     "end_time": "2018-02-14T12:06:42.262294Z",
     "start_time": "2018-02-14T12:06:21.502345Z"
    }
   },
   "outputs": [],
   "source": [
    "resume = pickle.load(open(\"resume.pck\", \"rb\"))\n",
    "vacancy = pickle.load(open(\"vacancy.pck\", \"rb\"))"
   ]
  },
  {
   "cell_type": "code",
   "execution_count": 43,
   "metadata": {
    "ExecuteTime": {
     "end_time": "2018-02-14T12:19:37.832215Z",
     "start_time": "2018-02-14T12:19:37.828787Z"
    },
    "collapsed": true
   },
   "outputs": [],
   "source": [
    "def get_jobs(resume_id):\n",
    "    ans = {}\n",
    "    for job in resume[resume_id]['work_history']:\n",
    "        ans[int(job['monthbeg'])/12 + int(job['yearbeg'])] = job\n",
    "    return dict(collections.OrderedDict(sorted(ans.items())))"
   ]
  },
  {
   "cell_type": "code",
   "execution_count": 51,
   "metadata": {
    "ExecuteTime": {
     "end_time": "2018-02-14T12:57:09.775874Z",
     "start_time": "2018-02-14T12:57:09.771118Z"
    }
   },
   "outputs": [
    {
     "data": {
      "text/plain": [
       "{'additional_education': [{'institute': 'Японский образовательный центр менеджмента при “МИРБС”',\n",
       "   'monthend': '11',\n",
       "   'name': 'маркетинг',\n",
       "   'town': 'Москва',\n",
       "   'yearend': '1999'},\n",
       "  {'institute': 'учебный центр  \"Феликс \"',\n",
       "   'monthend': '2',\n",
       "   'name': 'общий аудит',\n",
       "   'town': 'Москва',\n",
       "   'yearend': '1998'}],\n",
       " 'age': 62,\n",
       " 'base_education': [{'education_form': 'Не имеет значения',\n",
       "   'education_type': 'Высшее',\n",
       "   'faculty': 'экономический',\n",
       "   'institute': 'Аспирантура Московского финансового института',\n",
       "   'monthend': '7',\n",
       "   'profession': 'экономист',\n",
       "   'town': 'Москва',\n",
       "   'yearend': '1986'},\n",
       "  {'education_form': 'Не имеет значения',\n",
       "   'education_type': 'Высшее',\n",
       "   'faculty': 'экономический',\n",
       "   'institute': 'Московский государственный университет им. М.В. Ломоносова',\n",
       "   'monthend': '8',\n",
       "   'profession': 'экономист',\n",
       "   'town': 'Москва',\n",
       "   'yearend': '1980'}],\n",
       " 'best': 'Компьютерные навыки:\\n MS Windows 98/2000/ME, MS Word, MS Excel, MS Outlook, Электронная почта, Навигирование в Интернет',\n",
       " 'business_trip': False,\n",
       " 'catalogues': ['Продукты питания'],\n",
       " 'children': 'есть',\n",
       " 'citizenship': '',\n",
       " 'desired_profession': 'менеджер по оптовой торговле продуктами питания',\n",
       " 'dop': 'Личные качества: компетентность, ответственность, системно-аналитический подход,  организаторские способности',\n",
       " 'driving_licence': '',\n",
       " 'experience_month_total': 119,\n",
       " 'id': 'fcd30e51ffe884dd939639806e8470ad7b5746eb',\n",
       " 'id_user': '8cb738c2f4c6ef324e25df551bd1c74b6f85bb9f',\n",
       " 'languages': [{'level': 'Базовый', 'name': 'Английский'}],\n",
       " 'maritalstatus': 'cостоит в браке',\n",
       " 'num_languages': 1,\n",
       " 'payment': '12000',\n",
       " 'place_of_work': 'не имеет значения',\n",
       " 'pol': 'мужской',\n",
       " 'profession_tree_id': 405,\n",
       " 'profession_tree_name': 'Менеджер по продукту',\n",
       " 'town': 'Москва',\n",
       " 'type_of_work': 'полный рабочий день',\n",
       " 'work_history': [{'company_scope': None,\n",
       "   'id': 10,\n",
       "   'is_last': '1',\n",
       "   'monthbeg': '6',\n",
       "   'monthend': '2',\n",
       "   'name': '082c33c70583f4d098c8eb7e1f671a18',\n",
       "   'profession': 'генеральный директор',\n",
       "   'town': 'Москва',\n",
       "   'type': 'Полная занятость',\n",
       "   'work': 'организация бизнеса с «нуля» в сфере продовольствия. Оптовые закупки и продажи продуктов питания ( мясная, рыбная, овощная консервация, кондит. изд. и др.) по Москве и регионам. ',\n",
       "   'work_days': 246,\n",
       "   'work_months': datetime.timedelta(8, 17280),\n",
       "   'yearbeg': '2001',\n",
       "   'yearend': '2002'},\n",
       "  {'company_scope': None,\n",
       "   'id': 11,\n",
       "   'is_last': '0',\n",
       "   'monthbeg': '1',\n",
       "   'monthend': '12',\n",
       "   'name': '852b0a12ecce90191209af1887a03abc',\n",
       "   'profession': 'менеджер по маркетингу',\n",
       "   'town': 'Москва',\n",
       "   'type': 'Полная занятость',\n",
       "   'work': 'теоретический маркетинг (разработка бизнес-проектов), практический маркетинг ( внедрение и практическая реализация бизнес-проектов), исследования, аналитические обзоры, управленческий учет. ',\n",
       "   'work_days': 1431,\n",
       "   'work_months': datetime.timedelta(47, 60480),\n",
       "   'yearbeg': '1997',\n",
       "   'yearend': '2000'},\n",
       "  {'company_scope': None,\n",
       "   'id': 12,\n",
       "   'is_last': '0',\n",
       "   'monthbeg': '1',\n",
       "   'monthend': '12',\n",
       "   'name': '3dfb37205e01eed1cee2cd9e3f4146ad',\n",
       "   'profession': 'эксперт',\n",
       "   'town': 'Москва',\n",
       "   'type': 'Частичная занятость',\n",
       "   'work': 'маркетинг, оценка инвестиций, финансовый и экономический анализ, управленческий учет. ',\n",
       "   'work_days': 335,\n",
       "   'work_months': datetime.timedelta(11, 14400),\n",
       "   'yearbeg': '1998',\n",
       "   'yearend': '1998'},\n",
       "  {'company_scope': None,\n",
       "   'id': 13,\n",
       "   'is_last': '0',\n",
       "   'monthbeg': '1',\n",
       "   'monthend': '12',\n",
       "   'name': '3abb25072f653b520c47a97282eeb9c9',\n",
       "   'profession': 'главный специалист, руководитель группы',\n",
       "   'town': 'Москва',\n",
       "   'type': 'Полная занятость',\n",
       "   'work': 'развитие бизнеса в сфере продовольствия: закупка, производство, сбыт, оптовая торговля, работа с регионами.\\r\\nАнализ рынка, бизнес-план, переговоры, договоры (контракты), учет поставок и платежей, документооборот.\\r\\nПродукция: мясосырье, полуфабрикаты, консервы, масло слив. и раст., сыры, майонез, сух. молоко и прочее.\\r\\nКонтрагенты: мясокомбинаты, молочные, масложировые и др.производители и посреднические фирмы.\\r\\nРегионы: Москва, С.-Петербург, Европейская часть России, страны СНГ, Чехия, Германия и др.\\r\\n ',\n",
       "   'work_days': 2162,\n",
       "   'work_months': datetime.timedelta(72, 5760),\n",
       "   'yearbeg': '1992',\n",
       "   'yearend': '1997'},\n",
       "  {'company_scope': None,\n",
       "   'id': 14,\n",
       "   'is_last': '0',\n",
       "   'monthbeg': '1',\n",
       "   'monthend': '12',\n",
       "   'name': 'e93701b2081f0f01018dcdf1022c34f7',\n",
       "   'profession': 'ведущий специалист',\n",
       "   'town': 'Москва',\n",
       "   'type': 'Полная занятость',\n",
       "   'work': 'исследование рынка, аналитические обзоры,  эксперт комиссии при Антимонопольном Комитете РФ по лицензированию деятельности бирж.  ',\n",
       "   'work_days': 701,\n",
       "   'work_months': datetime.timedelta(23, 31680),\n",
       "   'yearbeg': '1991',\n",
       "   'yearend': '1992'}]}"
      ]
     },
     "execution_count": 51,
     "metadata": {},
     "output_type": "execute_result"
    }
   ],
   "source": [
    "#get_jobs(128945)\n",
    "resume[1]"
   ]
  },
  {
   "cell_type": "code",
   "execution_count": 52,
   "metadata": {
    "ExecuteTime": {
     "end_time": "2018-02-14T12:58:24.889892Z",
     "start_time": "2018-02-14T12:58:24.124779Z"
    }
   },
   "outputs": [
    {
     "name": "stderr",
     "output_type": "stream",
     "text": [
      "\n",
      "  0%|          | 0/128945 [00:00<?, ?it/s]\u001b[A\n",
      " 10%|█         | 13508/128945 [00:00<00:00, 134359.37it/s]\u001b[A\n",
      " 22%|██▏       | 28424/128945 [00:00<00:00, 141709.80it/s]\u001b[A\n",
      " 35%|███▌      | 45448/128945 [00:00<00:00, 151182.77it/s]\u001b[A\n",
      " 50%|████▉     | 63982/128945 [00:00<00:00, 159688.17it/s]\u001b[A\n",
      " 64%|██████▎   | 82159/128945 [00:00<00:00, 164097.81it/s]\u001b[A\n",
      " 78%|███████▊  | 100403/128945 [00:00<00:00, 167161.34it/s]\u001b[A\n",
      " 92%|█████████▏| 118393/128945 [00:00<00:00, 168938.88it/s]\u001b[A\n",
      "100%|██████████| 128945/128945 [00:00<00:00, 169959.70it/s]\u001b[A"
     ]
    }
   ],
   "source": [
    "for i in tqdm(range(len(resume))):\n",
    "    try:\n",
    "        resume[i]['work_history'] = get_jobs(i)\n",
    "    except:\n",
    "        print(i)\n",
    "        break"
   ]
  },
  {
   "cell_type": "code",
   "execution_count": 30,
   "metadata": {
    "ExecuteTime": {
     "end_time": "2018-02-14T12:12:36.297021Z",
     "start_time": "2018-02-14T12:12:16.512330Z"
    },
    "deletable": false,
    "editable": false,
    "run_control": {
     "frozen": true
    }
   },
   "outputs": [
    {
     "name": "stderr",
     "output_type": "stream",
     "text": [
      "100%|██████████| 128945/128945 [00:19<00:00, 6551.78it/s]\n"
     ]
    }
   ],
   "source": [
    "def f():\n",
    "    for res in tqdm(resume):\n",
    "        for work in res['work_history']:\n",
    "            #try:\n",
    "                if(work['yearend'] == None or work['yearend'] == '0'):\n",
    "                    work['yearend'] = datetime.datetime.now().strftime(\"%Y\")\n",
    "                    work['monthend'] = datetime.datetime.now().strftime(\"%m\")\n",
    "                if(work['yearbeg'] == None):\n",
    "                    work['yearbeg'] = str(int(work['yearend'])-1)\n",
    "                if(work['monthbeg'] == '0'):\n",
    "                    work['monthbeg'] = '1'\n",
    "                if(work['monthend'] == '0'):\n",
    "                    work['monthend'] = '12'\n",
    "            #        print(work['monthbeg'] + \" \" + work['monthend'] + \" \" + work['yearbeg'] + \" \" + work['yearend'])\n",
    "            #        print()\n",
    "                start = datetime.datetime.strptime(work['monthbeg']+'.'+work['yearbeg'], \"%m.%Y\").date()\n",
    "                finish = datetime.datetime.strptime(work['monthend']+'.'+work['yearend'], \"%m.%Y\").date()\n",
    "                work['work_days'] = (finish-start+datetime.timedelta(days=1)).days\n",
    "            #except:\n",
    "             #   print((finish-start).days)\n",
    "             #   return\n",
    "f()"
   ]
  },
  {
   "cell_type": "code",
   "execution_count": 42,
   "metadata": {
    "ExecuteTime": {
     "end_time": "2018-02-14T12:16:47.320359Z",
     "start_time": "2018-02-14T12:16:39.810280Z"
    }
   },
   "outputs": [],
   "source": [
    "pickle.dump(resume, open(\"resume_with_days.pkl\", 'wb'))"
   ]
  },
  {
   "cell_type": "code",
   "execution_count": 55,
   "metadata": {
    "ExecuteTime": {
     "end_time": "2018-02-14T12:59:15.549332Z",
     "start_time": "2018-02-14T12:59:15.540916Z"
    }
   },
   "outputs": [
    {
     "ename": "TypeError",
     "evalue": "'float' object does not support item assignment",
     "output_type": "error",
     "traceback": [
      "\u001b[0;31m---------------------------------------------------------------------------\u001b[0m",
      "\u001b[0;31mTypeError\u001b[0m                                 Traceback (most recent call last)",
      "\u001b[0;32m<ipython-input-55-5d08ea36df14>\u001b[0m in \u001b[0;36m<module>\u001b[0;34m()\u001b[0m\n\u001b[1;32m      2\u001b[0m \u001b[0;32mfor\u001b[0m \u001b[0mres\u001b[0m \u001b[0;32min\u001b[0m \u001b[0mresume\u001b[0m\u001b[0;34m:\u001b[0m\u001b[0;34m\u001b[0m\u001b[0m\n\u001b[1;32m      3\u001b[0m     \u001b[0;32mfor\u001b[0m \u001b[0mwork\u001b[0m \u001b[0;32min\u001b[0m \u001b[0mres\u001b[0m\u001b[0;34m[\u001b[0m\u001b[0;34m'work_history'\u001b[0m\u001b[0;34m]\u001b[0m\u001b[0;34m:\u001b[0m\u001b[0;34m\u001b[0m\u001b[0m\n\u001b[0;32m----> 4\u001b[0;31m         \u001b[0mwork\u001b[0m\u001b[0;34m[\u001b[0m\u001b[0;34m'id'\u001b[0m\u001b[0;34m]\u001b[0m \u001b[0;34m=\u001b[0m \u001b[0mstr\u001b[0m\u001b[0;34m(\u001b[0m\u001b[0ma\u001b[0m\u001b[0;34m)\u001b[0m\u001b[0;34m\u001b[0m\u001b[0m\n\u001b[0m\u001b[1;32m      5\u001b[0m         \u001b[0ma\u001b[0m \u001b[0;34m+=\u001b[0m \u001b[0;36m1\u001b[0m\u001b[0;34m\u001b[0m\u001b[0m\n",
      "\u001b[0;31mTypeError\u001b[0m: 'float' object does not support item assignment"
     ]
    }
   ],
   "source": [
    "a = 1\n",
    "for res in resume:\n",
    "    for work in res['work_history']:\n",
    "        work['id'] = a\n",
    "        a += 1"
   ]
  },
  {
   "cell_type": "code",
   "execution_count": null,
   "metadata": {
    "ExecuteTime": {
     "end_time": "2018-02-14T11:45:19.785298Z",
     "start_time": "2018-02-14T11:45:19.708624Z"
    }
   },
   "outputs": [],
   "source": [
    "for work in resume[0]['work_history']:\n",
    "        #try:\n",
    "            #print(work['monthbeg'] + \" \" + work['monthend'] + \" \" + work['yearbeg'] + \" \" + work['yearend'])\n",
    "            if(work['monthbeg'] == '0'):\n",
    "                work['monthbeg'] = '1'\n",
    "            if(work['yearend'] == None):\n",
    "                work['yearend'] = datetime.datetime.now().strftime(\"%Y\")\n",
    "                work['monthend'] = datetime.datetime.now().strftime(\"%m\")\n",
    "            if(work['monthend'] == '0'):\n",
    "                work['monthend'] = '12'\n",
    "            print(work['monthbeg'] + \" \" + work['monthend'] + \" \" + work['yearbeg'] + \" \" + work['yearend'])\n",
    "            print()\n",
    "            start = datetime.datetime.strptime(work['monthbeg']+work['yearbeg'], \"%m%Y\").date()\n",
    "            finish = datetime.datetime.strptime(work['monthend']+work['yearend'], \"%m%Y\").date()\n",
    "            work['work_months'] = str(int(str(finish-start+datetime.timedelta(days=1))[:str(finish-start).find(\" \")])/30)\n",
    "        #except:\n",
    "        #    print(work)"
   ]
  },
  {
   "cell_type": "code",
   "execution_count": 23,
   "metadata": {
    "ExecuteTime": {
     "end_time": "2018-02-14T12:06:47.674290Z",
     "start_time": "2018-02-14T12:06:47.651733Z"
    }
   },
   "outputs": [
    {
     "name": "stdout",
     "output_type": "stream",
     "text": [
      "{'profession': 'Директор службы', 'name': '9c46c0cca3355f2ff25f59c7e7ea8191', 'company_scope': None, 'work': 'Управление подразделением компании и координация действий с другими подразделениями, маркетинг, поиск покупателей и проведение переговоров, составление и ведение контрактов, отбор товара, координация работ подразделений; открытие точек розничной торговли, управление торговой сетью, реорганизация склада, графики платежей и поставок, слежение за поставками, нормозапас, планирование, ценобразование, разработка и проведение рекламной компании, участие в выставках и ярмарках. ', 'town': 'Москва', 'type': 'Полная занятость', 'monthbeg': '9', 'yearbeg': '1999', 'monthend': '0', 'yearend': '0', 'is_last': '1'}\n"
     ]
    }
   ],
   "source": [
    "resume[0]['']             "
   ]
  },
  {
   "cell_type": "code",
   "execution_count": null,
   "metadata": {
    "ExecuteTime": {
     "end_time": "2018-02-14T11:45:32.183311Z",
     "start_time": "2018-02-14T11:45:32.165237Z"
    }
   },
   "outputs": [],
   "source": [
    "resume[0][w]"
   ]
  },
  {
   "cell_type": "code",
   "execution_count": 70,
   "metadata": {
    "ExecuteTime": {
     "end_time": "2018-02-14T13:07:09.418515Z",
     "start_time": "2018-02-14T13:07:09.406237Z"
    }
   },
   "outputs": [
    {
     "name": "stderr",
     "output_type": "stream",
     "text": [
      "\n",
      "  0%|          | 0/1 [00:00<?, ?it/s]\u001b[A\n",
      "100%|██████████| 1/1 [00:00<00:00, 270.60it/s]\u001b[A"
     ]
    },
    {
     "name": "stdout",
     "output_type": "stream",
     "text": [
      "1\n",
      "{'profession': 'Менеджер по клиентским отношениям', 'name': '336d370779b3261dcb00331fba5f7f47', 'company_scope': None, 'work': 'Ведение переговоров с потенциальными клиентами банка по поводу предоставления банковских услуг. ', 'town': 'Москва', 'type': 'Полная занятость', 'monthbeg': '2', 'yearbeg': '1997', 'monthend': '4', 'yearend': '1997', 'is_last': '0', 'work_months': datetime.timedelta(2), 'work_days': 60, 'id': 1}\n",
      "2\n",
      "{'profession': 'Экономист', 'name': '49748b69e3d3435cd98d241a6935f3d1', 'company_scope': None, 'work': 'Ведение складского учёта на ПК. ', 'town': 'Москва', 'type': 'Полная занятость', 'monthbeg': '6', 'yearbeg': '1997', 'monthend': '11', 'yearend': '1997', 'is_last': '0', 'work_months': datetime.timedelta(5, 11520), 'work_days': 154, 'id': 2}\n",
      "3\n",
      "{'profession': 'Экономист подразделения БиоХимИнвест', 'name': '7119f26423d0e892d1111d8a49372b15', 'company_scope': None, 'work': 'Документооборот, контроль выполнения договоров, мониторинг дилеров. ', 'town': 'Москва', 'type': 'Полная занятость', 'monthbeg': '1', 'yearbeg': '2000', 'monthend': '6', 'yearend': '2000', 'is_last': '0', 'work_months': datetime.timedelta(5, 8640), 'work_days': 153, 'id': 3}\n",
      "4\n",
      "{'profession': 'Старший экономист по консолидированной отчётности планово-экономического отдела', 'name': '056f4fa32f57f7aea88b04c5bc268c31', 'company_scope': None, 'work': 'Курирование и контроль подразделений холдинга, ведение управленческого учёта холдинга, консолидация управленческой отчётности, бюджетирование, участие в разработке методологии бюджетирования, участие в автоматизации управленческого учёта. ', 'town': 'Москва', 'type': 'Полная занятость', 'monthbeg': '5', 'yearbeg': '2001', 'monthend': '3', 'yearend': '2003', 'is_last': '0', 'work_months': datetime.timedelta(22, 28800), 'work_days': 670, 'id': 4}\n",
      "5\n",
      "{'profession': 'Фин. директор', 'name': '633d35cf8de238404f60f9ab6683fe5e', 'company_scope': None, 'work': 'Регулирование финансовых потоков, финансовое планирование, работа с кредитно-финансовыми организациями, оптимизация финансовых потоков, управленческая и финансовая отчетность, планирование производства. ', 'town': 'Москва', 'type': 'Полная занятость', 'monthbeg': '3', 'yearbeg': '2003', 'monthend': '9', 'yearend': '2003', 'is_last': '0', 'work_months': datetime.timedelta(6, 14400), 'work_days': 185, 'id': 5}\n",
      "6\n",
      "{'profession': 'Старший консультант', 'name': '25c9cc24963d4299e55b3c66cba47dba', 'company_scope': None, 'work': 'Оценка бизнеса и недвижимого имущества, бизнес-планирование, управленческое консультирование, анализ финансово-хозяйственной деятельности. ', 'town': 'Москва', 'type': 'Полная занятость', 'monthbeg': '9', 'yearbeg': '2003', 'monthend': '11', 'yearend': '2005', 'is_last': '0', 'work_months': datetime.timedelta(26, 37440), 'work_days': 793, 'id': 6}\n",
      "7\n",
      "{'profession': 'Финансовый директор', 'name': '04fef9a9e506216b6b232839bcac9717', 'company_scope': None, 'work': 'Разработка и внедрение управленческого учета с нуля, контроль над ведением управленческого учета и составлением управленческой отчетности, управление финансовыми потоками, составление финансово-экономической отчетности для руководства. ', 'town': 'Москва', 'type': 'Полная занятость', 'monthbeg': '1', 'yearbeg': '2006', 'monthend': '3', 'yearend': '2007', 'is_last': '0', 'work_months': datetime.timedelta(14, 14400), 'work_days': 425, 'id': 7}\n",
      "8\n",
      "{'profession': 'Финансовый менеджер (с функциями финансового директора)', 'name': 'c567f6d49312f22fc00a277e2e55822b', 'company_scope': None, 'work': 'Бюджетирование, ведение управленческого учета, управление финансовыми потоками, оперативное финансовое планирование, составление управленческой и финансовой отчетности, ведение документооборота с инвесторами. ', 'town': 'Москва', 'type': 'Полная занятость', 'monthbeg': '3', 'yearbeg': '2007', 'monthend': '12', 'yearend': '2008', 'is_last': '0', 'work_months': datetime.timedelta(21, 34560), 'work_days': 642, 'id': 8}\n",
      "9\n",
      "{'profession': 'Финансовый аналитик', 'name': 'b471044536f405677193e3d7fd775970', 'company_scope': None, 'work': 'Методологическое сопровождение, контроль и развитие управленческого учета и отчетности предприятия, автоматизация процесса управленческого учета, анализ финансово-хозяйственной деятельности ', 'town': 'Москва', 'type': 'Полная занятость', 'monthbeg': '4', 'yearbeg': '2009', 'monthend': '02', 'yearend': '2018', 'is_last': '1', 'work_months': datetime.timedelta(107, 54720), 'work_days': 3229, 'id': 9}\n"
     ]
    }
   ],
   "source": [
    "a = 1\n",
    "for res in tqdm(resume[0:1]):\n",
    "    for work in res[\"work_history\"]:\n",
    "        print(res[\"work_history\"][work]['id'])\n",
    "        print(res[\"work_history\"][work])"
   ]
  },
  {
   "cell_type": "code",
   "execution_count": null,
   "metadata": {},
   "outputs": [],
   "source": [
    "list(firm_to_count.keys())[:10]"
   ]
  },
  {
   "cell_type": "code",
   "execution_count": null,
   "metadata": {
    "ExecuteTime": {
     "end_time": "2018-02-14T11:03:40.361270Z",
     "start_time": "2018-02-14T11:03:40.331365Z"
    }
   },
   "outputs": [],
   "source": [
    "jobs = get_jobs(0)\n",
    "\n",
    "for i in range(len(vacancy)):\n",
    "    #try:\n",
    "        get_jobs(i)\n",
    "    #except:\n",
    "     #   print(i)\n",
    "      #  break\n",
    "\n",
    "#for job in jobs:\n",
    "#    print(str(job) + \" \" + jobs[job]['profession'])\n",
    "    #print(str(find_vac_number(jobs[job]['profession'])) + \"  numb: \" + str(firm_to_count[jobs[job][\"name\"]]))"
   ]
  },
  {
   "cell_type": "code",
   "execution_count": 60,
   "metadata": {
    "ExecuteTime": {
     "end_time": "2018-02-14T13:01:18.911387Z",
     "start_time": "2018-02-14T13:01:18.906130Z"
    }
   },
   "outputs": [
    {
     "data": {
      "text/plain": [
       "{'additional_education': [],\n",
       " 'age': 40,\n",
       " 'base_education': [{'education_form': 'Дневная/Очная',\n",
       "   'education_type': 'Высшее',\n",
       "   'faculty': 'Экономический факультет',\n",
       "   'institute': 'Московский государственный университет им. М.В. Ломоносова',\n",
       "   'monthend': '0',\n",
       "   'profession': 'Специализация \"Экономика фирмы и отраслевых рынков\" (магистр)',\n",
       "   'town': 'Москва',\n",
       "   'yearend': '2001'},\n",
       "  {'education_form': 'Дневная/Очная',\n",
       "   'education_type': 'Высшее',\n",
       "   'faculty': 'Экономический факультет',\n",
       "   'institute': 'Московский государственный университет им. М.В. Ломоносова',\n",
       "   'monthend': '0',\n",
       "   'profession': 'Общая экономика (бакалавр)',\n",
       "   'town': 'Москва',\n",
       "   'yearend': '1999'}],\n",
       " 'best': 'Компьютерные навыки:\\nMS Excel 2007 (продвинутый пользователь, в т.ч. сводные таблицы), MS Word 2007 (продвинутый пользователь), MS PowerPoint 2007 (уверенный пользователь), MS Access 2007, 1С-Предприятие 7.7, 8.1 (уверенный пользователь), Справочная правовая система КонсультантПлюс 3000, Электронная почта, Навигация в Интернете, Project Expert (анализ и разработка проектов)...',\n",
       " 'business_trip': False,\n",
       " 'catalogues': ['Архивное дело', 'Государственные архивы, библиотеки'],\n",
       " 'children': 'есть',\n",
       " 'citizenship': '',\n",
       " 'desired_profession': 'Архивариус',\n",
       " 'dop': 'Персональные качества\\n· быстрая обучаемость и адаптируемость\\n· творческие способности\\n· способность работать в команде и руководить проектом/людьми\\n· требовательность к себе и окружающим\\n· нацеленность на успешную карьеру',\n",
       " 'driving_licence': 'B',\n",
       " 'experience_month_total': 213,\n",
       " 'id': 'e95551d982c4f06c56ca8efc0e3d495e539c0628',\n",
       " 'id_user': '404c828d130862d570a6707156b1f452403c799a',\n",
       " 'languages': [{'level': 'Технический', 'name': 'Французский'}],\n",
       " 'maritalstatus': 'cостоит в браке',\n",
       " 'num_languages': 1,\n",
       " 'payment': '90000',\n",
       " 'place_of_work': 'не имеет значения',\n",
       " 'pol': 'мужской',\n",
       " 'profession_tree_id': 860,\n",
       " 'profession_tree_name': 'Архивариус',\n",
       " 'town': 'Москва',\n",
       " 'type_of_work': 'полный рабочий день',\n",
       " 'work_history': {1997.1666666666667: {'company_scope': None,\n",
       "   'id': 9,\n",
       "   'is_last': '0',\n",
       "   'monthbeg': '2',\n",
       "   'monthend': '4',\n",
       "   'name': '336d370779b3261dcb00331fba5f7f47',\n",
       "   'profession': 'Менеджер по клиентским отношениям',\n",
       "   'town': 'Москва',\n",
       "   'type': 'Полная занятость',\n",
       "   'work': 'Ведение переговоров с потенциальными клиентами банка по поводу предоставления банковских услуг. ',\n",
       "   'work_days': 60,\n",
       "   'work_months': datetime.timedelta(2),\n",
       "   'yearbeg': '1997',\n",
       "   'yearend': '1997'},\n",
       "  1997.5: {'company_scope': None,\n",
       "   'id': 8,\n",
       "   'is_last': '0',\n",
       "   'monthbeg': '6',\n",
       "   'monthend': '11',\n",
       "   'name': '49748b69e3d3435cd98d241a6935f3d1',\n",
       "   'profession': 'Экономист',\n",
       "   'town': 'Москва',\n",
       "   'type': 'Полная занятость',\n",
       "   'work': 'Ведение складского учёта на ПК. ',\n",
       "   'work_days': 154,\n",
       "   'work_months': datetime.timedelta(5, 11520),\n",
       "   'yearbeg': '1997',\n",
       "   'yearend': '1997'},\n",
       "  2000.0833333333333: {'company_scope': None,\n",
       "   'id': 7,\n",
       "   'is_last': '0',\n",
       "   'monthbeg': '1',\n",
       "   'monthend': '6',\n",
       "   'name': '7119f26423d0e892d1111d8a49372b15',\n",
       "   'profession': 'Экономист подразделения БиоХимИнвест',\n",
       "   'town': 'Москва',\n",
       "   'type': 'Полная занятость',\n",
       "   'work': 'Документооборот, контроль выполнения договоров, мониторинг дилеров. ',\n",
       "   'work_days': 153,\n",
       "   'work_months': datetime.timedelta(5, 8640),\n",
       "   'yearbeg': '2000',\n",
       "   'yearend': '2000'},\n",
       "  2001.4166666666667: {'company_scope': None,\n",
       "   'id': 6,\n",
       "   'is_last': '0',\n",
       "   'monthbeg': '5',\n",
       "   'monthend': '3',\n",
       "   'name': '056f4fa32f57f7aea88b04c5bc268c31',\n",
       "   'profession': 'Старший экономист по консолидированной отчётности планово-экономического отдела',\n",
       "   'town': 'Москва',\n",
       "   'type': 'Полная занятость',\n",
       "   'work': 'Курирование и контроль подразделений холдинга, ведение управленческого учёта холдинга, консолидация управленческой отчётности, бюджетирование, участие в разработке методологии бюджетирования, участие в автоматизации управленческого учёта. ',\n",
       "   'work_days': 670,\n",
       "   'work_months': datetime.timedelta(22, 28800),\n",
       "   'yearbeg': '2001',\n",
       "   'yearend': '2003'},\n",
       "  2003.25: {'company_scope': None,\n",
       "   'id': 5,\n",
       "   'is_last': '0',\n",
       "   'monthbeg': '3',\n",
       "   'monthend': '9',\n",
       "   'name': '633d35cf8de238404f60f9ab6683fe5e',\n",
       "   'profession': 'Фин. директор',\n",
       "   'town': 'Москва',\n",
       "   'type': 'Полная занятость',\n",
       "   'work': 'Регулирование финансовых потоков, финансовое планирование, работа с кредитно-финансовыми организациями, оптимизация финансовых потоков, управленческая и финансовая отчетность, планирование производства. ',\n",
       "   'work_days': 185,\n",
       "   'work_months': datetime.timedelta(6, 14400),\n",
       "   'yearbeg': '2003',\n",
       "   'yearend': '2003'},\n",
       "  2003.75: {'company_scope': None,\n",
       "   'id': 4,\n",
       "   'is_last': '0',\n",
       "   'monthbeg': '9',\n",
       "   'monthend': '11',\n",
       "   'name': '25c9cc24963d4299e55b3c66cba47dba',\n",
       "   'profession': 'Старший консультант',\n",
       "   'town': 'Москва',\n",
       "   'type': 'Полная занятость',\n",
       "   'work': 'Оценка бизнеса и недвижимого имущества, бизнес-планирование, управленческое консультирование, анализ финансово-хозяйственной деятельности. ',\n",
       "   'work_days': 793,\n",
       "   'work_months': datetime.timedelta(26, 37440),\n",
       "   'yearbeg': '2003',\n",
       "   'yearend': '2005'},\n",
       "  2006.0833333333333: {'company_scope': None,\n",
       "   'id': 3,\n",
       "   'is_last': '0',\n",
       "   'monthbeg': '1',\n",
       "   'monthend': '3',\n",
       "   'name': '04fef9a9e506216b6b232839bcac9717',\n",
       "   'profession': 'Финансовый директор',\n",
       "   'town': 'Москва',\n",
       "   'type': 'Полная занятость',\n",
       "   'work': 'Разработка и внедрение управленческого учета с нуля, контроль над ведением управленческого учета и составлением управленческой отчетности, управление финансовыми потоками, составление финансово-экономической отчетности для руководства. ',\n",
       "   'work_days': 425,\n",
       "   'work_months': datetime.timedelta(14, 14400),\n",
       "   'yearbeg': '2006',\n",
       "   'yearend': '2007'},\n",
       "  2007.25: {'company_scope': None,\n",
       "   'id': 2,\n",
       "   'is_last': '0',\n",
       "   'monthbeg': '3',\n",
       "   'monthend': '12',\n",
       "   'name': 'c567f6d49312f22fc00a277e2e55822b',\n",
       "   'profession': 'Финансовый менеджер (с функциями финансового директора)',\n",
       "   'town': 'Москва',\n",
       "   'type': 'Полная занятость',\n",
       "   'work': 'Бюджетирование, ведение управленческого учета, управление финансовыми потоками, оперативное финансовое планирование, составление управленческой и финансовой отчетности, ведение документооборота с инвесторами. ',\n",
       "   'work_days': 642,\n",
       "   'work_months': datetime.timedelta(21, 34560),\n",
       "   'yearbeg': '2007',\n",
       "   'yearend': '2008'},\n",
       "  2009.3333333333333: {'company_scope': None,\n",
       "   'id': 1,\n",
       "   'is_last': '1',\n",
       "   'monthbeg': '4',\n",
       "   'monthend': '02',\n",
       "   'name': 'b471044536f405677193e3d7fd775970',\n",
       "   'profession': 'Финансовый аналитик',\n",
       "   'town': 'Москва',\n",
       "   'type': 'Полная занятость',\n",
       "   'work': 'Методологическое сопровождение, контроль и развитие управленческого учета и отчетности предприятия, автоматизация процесса управленческого учета, анализ финансово-хозяйственной деятельности ',\n",
       "   'work_days': 3229,\n",
       "   'work_months': datetime.timedelta(107, 54720),\n",
       "   'yearbeg': '2009',\n",
       "   'yearend': '2018'}}}"
      ]
     },
     "execution_count": 60,
     "metadata": {},
     "output_type": "execute_result"
    }
   ],
   "source": [
    "resume[0]"
   ]
  },
  {
   "cell_type": "code",
   "execution_count": null,
   "metadata": {
    "ExecuteTime": {
     "end_time": "2018-02-14T11:07:34.200826Z",
     "start_time": "2018-02-14T11:07:34.191002Z"
    }
   },
   "outputs": [],
   "source": [
    "get_jobs(1)"
   ]
  },
  {
   "cell_type": "code",
   "execution_count": null,
   "metadata": {
    "collapsed": true
   },
   "outputs": [],
   "source": []
  }
 ],
 "metadata": {
  "kernelspec": {
   "display_name": "Python 3",
   "language": "python",
   "name": "python3"
  },
  "language_info": {
   "codemirror_mode": {
    "name": "ipython",
    "version": 3
   },
   "file_extension": ".py",
   "mimetype": "text/x-python",
   "name": "python",
   "nbconvert_exporter": "python",
   "pygments_lexer": "ipython3",
   "version": "3.6.3"
  },
  "varInspector": {
   "cols": {
    "lenName": 16,
    "lenType": 16,
    "lenVar": 40
   },
   "kernels_config": {
    "python": {
     "delete_cmd_postfix": "",
     "delete_cmd_prefix": "del ",
     "library": "var_list.py",
     "varRefreshCmd": "print(var_dic_list())"
    },
    "r": {
     "delete_cmd_postfix": ") ",
     "delete_cmd_prefix": "rm(",
     "library": "var_list.r",
     "varRefreshCmd": "cat(var_dic_list()) "
    }
   },
   "types_to_exclude": [
    "module",
    "function",
    "builtin_function_or_method",
    "instance",
    "_Feature"
   ],
   "window_display": false
  }
 },
 "nbformat": 4,
 "nbformat_minor": 2
}
