{
 "cells": [
  {
   "cell_type": "markdown",
   "metadata": {},
   "source": [
    "# Анализируем полученные данные. Строим графики, предсказываем вакансии..."
   ]
  },
  {
   "cell_type": "code",
   "execution_count": 1,
   "metadata": {
    "ExecuteTime": {
     "end_time": "2018-02-14T20:06:40.212130Z",
     "start_time": "2018-02-14T20:06:39.545125Z"
    },
    "collapsed": true
   },
   "outputs": [],
   "source": [
    "import pickle\n",
    "from collections import *\n",
    "import collections\n",
    "import numpy as np\n",
    "import networkx as nx\n",
    "from tqdm import tqdm\n",
    "import json\n",
    "from typing import List, Tuple, Sequence\n",
    "import pickle\n",
    "from tqdm import tqdm_notebook as tqdm\n",
    "import pymorphy2\n",
    "import nltk\n",
    "from cytoolz import pipe\n",
    "from collections import Counter\n",
    "import re\n",
    "import theano\n",
    "from collections import defaultdict\n",
    "from collections import Counter"
   ]
  },
  {
   "cell_type": "code",
   "execution_count": 2,
   "metadata": {
    "ExecuteTime": {
     "end_time": "2018-02-15T01:11:23.503622Z",
     "start_time": "2018-02-15T01:11:23.500840Z"
    },
    "collapsed": true
   },
   "outputs": [],
   "source": [
    "# 04:10 утра 15 января, отключаем ворнинги\n",
    "import warnings\n",
    "warnings.filterwarnings(\"ignore\")"
   ]
  },
  {
   "cell_type": "markdown",
   "metadata": {},
   "source": [
    "Такие же функции, что и в data_parse, ничего интересного"
   ]
  },
  {
   "cell_type": "code",
   "execution_count": 3,
   "metadata": {
    "ExecuteTime": {
     "end_time": "2018-02-14T20:06:41.862925Z",
     "start_time": "2018-02-14T20:06:41.680596Z"
    },
    "collapsed": true
   },
   "outputs": [],
   "source": [
    "morph = pymorphy2.MorphAnalyzer()\n",
    "stopwords = nltk.corpus.stopwords.words(\n",
    "    'russian') + nltk.corpus.stopwords.words('english')\n",
    "stopwords += [\n",
    "    'отличный', 'метр', 'наш', 'клиент', 'банка', 'проект', 'литр',\n",
    "    'желательный', 'др', 'самый', 'мочь', 'хороший', 'год', 'чел', 'обязательный', 'опыт', 'работа',\n",
    "    'качества', 'работа', 'свои'\n",
    "]\n",
    "\n",
    "cache = {}\n",
    "\n",
    "\n",
    "def remove_numbers(text):\n",
    "    return re.sub(r'\\d+', '', text)\n",
    "\n",
    "\n",
    "def _get_POS(word):\n",
    "    if word not in cache:\n",
    "        cache[word] = morph.parse(word)[0]\n",
    "    return cache[word].tag.POS\n",
    "\n",
    "\n",
    "def normal_form(word):\n",
    "    if word not in cache:\n",
    "        cache[word] = morph.parse(word)[0]\n",
    "    return cache[word].normal_form\n",
    "\n",
    "\n",
    "def is_word_pos_in(word: str, pos: List[str] = None) -> bool:\n",
    "    if not pos:\n",
    "        pos = ['NOUN', \"ADJF\", 'INFN', 'VERB', 'ADJS']\n",
    "\n",
    "    return _get_POS(word) in pos\n",
    "\n",
    "\n",
    "def get_words(text):\n",
    "    return re.findall(r'\\w+', text)\n",
    "\n",
    "\n",
    "def nonempty(x):\n",
    "    if isinstance(x, Sequence):\n",
    "        return filter(lambda x: len(x) > 0 and x != ' ', x)\n",
    "    return x\n",
    "\n",
    "\n",
    "helper = {}\n",
    "\n",
    "\n",
    "def remove_numbers(text):\n",
    "    return re.sub(r'\\d+', '', text)\n",
    "\n",
    "\n",
    "def normalize_skill(skill: str):\n",
    "    parsed = tuple(\n",
    "        pipe(\n",
    "            skill,\n",
    "            lambda x: x.lower(),\n",
    "            remove_numbers,\n",
    "            get_words,\n",
    "        ))\n",
    "\n",
    "    clear_skill = []\n",
    "    dirty_skill = []\n",
    "\n",
    "    # Последнее стоп слово для dirty_skill\n",
    "    last_stopword = None\n",
    "\n",
    "    # Для каждого слова в скилле\n",
    "    for i in parsed:\n",
    "        # Нормализуем слово\n",
    "        word = normal_form(i)\n",
    "\n",
    "        # Если стоп слово - запомним его\n",
    "        if word in nltk.corpus.stopwords.words('russian'):\n",
    "            last_stopword = word\n",
    "\n",
    "            if word == \"без\":\n",
    "                clear_skill.append(word)\n",
    "\n",
    "        # Проверим на часть речи, длинну и стоплова\n",
    "        elif is_word_pos_in(word) and len(word) > 3 and word not in stopwords:\n",
    "\n",
    "            # Если до этого было стоп слово, добавим его в dirty\n",
    "            if last_stopword and len(dirty_skill) > 0:\n",
    "                dirty_skill.append(last_stopword)\n",
    "                last_stopword = None\n",
    "\n",
    "            # Добавим в чистый скилл слово\n",
    "            clear_skill.append(word)\n",
    "\n",
    "            if is_word_pos_in(word, ['NOUN', 'ADJF']):\n",
    "                dirty_skill.append(i)\n",
    "\n",
    "    if len(dirty_skill) > 2 and len(dirty_skill) < 8:\n",
    "        return clear_skill, dirty_skill\n",
    "\n",
    "    else:\n",
    "        return []"
   ]
  },
  {
   "cell_type": "code",
   "execution_count": 4,
   "metadata": {
    "ExecuteTime": {
     "end_time": "2018-02-14T12:30:20.663637Z",
     "start_time": "2018-02-14T12:30:18.992272Z"
    },
    "collapsed": true
   },
   "outputs": [],
   "source": [
    "sim_to_work = pickle.load(open(\"sim_to_work.pck\", \"rb\"))"
   ]
  },
  {
   "cell_type": "code",
   "execution_count": 5,
   "metadata": {
    "ExecuteTime": {
     "end_time": "2018-02-14T12:31:29.009847Z",
     "start_time": "2018-02-14T12:31:24.226338Z"
    },
    "collapsed": true
   },
   "outputs": [],
   "source": [
    "vacancy_by_name = pickle.load(open(\"vacancy_by_name.pck\", \"rb\"))"
   ]
  },
  {
   "cell_type": "code",
   "execution_count": 6,
   "metadata": {
    "ExecuteTime": {
     "end_time": "2018-02-14T12:39:17.072285Z",
     "start_time": "2018-02-14T12:39:17.065375Z"
    }
   },
   "outputs": [
    {
     "data": {
      "text/plain": [
       "{'candidat': 'Опыт работы от 3 лет, Знание складской и транспортной логистики,\\nуверенный пользователь ПК, 1С\\nЖелательно проживание в районе МО, г. Одинцово',\n",
       " 'clear_skills': ['опыт работа',\n",
       "  'знание транспортный логистика',\n",
       "  'знание складской',\n",
       "  'уверенный пользователь',\n",
       "  'проживание район'],\n",
       " 'dirty_skills': ['опыт работы',\n",
       "  'знание транспортной логистики',\n",
       "  'знание складской',\n",
       "  'уверенный пользователь',\n",
       "  'проживание в районе'],\n",
       " 'drive_license': '',\n",
       " 'education_value': 'неполное высшее',\n",
       " 'employer_type_value': 'прямой работодатель',\n",
       " 'experience_value': 'от 3 до 6 лет',\n",
       " 'id': 'e93e7dc6aac1811f5d9e0e872665f74b6d1e9c02',\n",
       " 'id_client': 'b2fe7d405fb9e1ab3f06656c244e163def331c75',\n",
       " 'languages': [],\n",
       " 'metro': [],\n",
       " 'payment_from': 45000,\n",
       " 'payment_to': 0,\n",
       " 'place_of_work_value': 'на территории работодателя',\n",
       " 'profession': 'Кладовщик',\n",
       " 'profession_tree_id': 301,\n",
       " 'profession_tree_name': 'Кладовщик',\n",
       " 'town': 'Москва',\n",
       " 'type_of_work_value': 'полный рабочий день',\n",
       " 'vac': array([ -1.88891534e-02,  -9.16511472e-03,   1.08545471e-03,\n",
       "          2.96772718e-02,   2.89021116e-02,  -1.94630399e-02,\n",
       "          1.69814117e-02,  -1.65599398e-02,  -4.01270390e-03,\n",
       "         -1.28482580e-02,  -3.56849991e-02,  -2.05223374e-02,\n",
       "         -1.20154181e-02,   2.15066690e-02,   4.12042631e-04,\n",
       "         -1.37148490e-02,  -5.42430533e-03,   1.55146681e-02,\n",
       "         -2.66060675e-03,  -4.24227584e-03,  -1.06350370e-02,\n",
       "          5.92788449e-04,   1.29441358e-02,   3.30612226e-03,\n",
       "         -2.54918151e-02,  -5.54481056e-03,  -1.40308114e-02,\n",
       "         -3.31941284e-02,  -5.49950004e-02,  -9.15893726e-03,\n",
       "         -1.43714203e-03,  -9.43781063e-03,  -3.61082633e-03,\n",
       "         -9.28525068e-03,  -2.68517062e-02,  -1.31661110e-02,\n",
       "         -1.93536989e-02,   1.20147270e-04,  -3.59702483e-02,\n",
       "          1.14870807e-02,   2.04897542e-02,   1.26672769e-02,\n",
       "          9.89494100e-03,  -5.61377667e-02,  -1.12832536e-03,\n",
       "         -3.39476503e-02,   1.55604472e-02,   3.99982966e-02,\n",
       "          4.57615815e-02,  -1.24543440e-02,  -5.27247740e-03,\n",
       "         -3.59320175e-03,   5.91601385e-03,   1.07931453e-04,\n",
       "         -1.08215194e-02,   3.14081870e-02,   2.15664762e-03,\n",
       "         -1.23549700e-02,  -1.48011763e-02,  -5.01676230e-04,\n",
       "          5.97390020e-03,   1.38528587e-03,  -6.51158698e-05,\n",
       "          2.83144247e-02,   2.41860021e-02,  -2.12075952e-02,\n",
       "          1.32696340e-02,   2.85142083e-02,   4.92717931e-03,\n",
       "          2.19517667e-02,  -9.98622831e-03,  -8.02902970e-03,\n",
       "          3.29600740e-03,  -2.91873682e-02,  -3.54303867e-02,\n",
       "          3.35175432e-02,   4.50040679e-03,   9.61257704e-03,\n",
       "          3.03088799e-02,   2.26514437e-03,  -1.44512195e-03,\n",
       "          2.31763970e-05,  -1.28411409e-02,  -1.57719702e-02,\n",
       "         -2.18457747e-02,   8.23304802e-03,  -3.90597098e-02,\n",
       "          1.13606947e-02,   1.99496131e-02,   1.27519909e-02,\n",
       "         -6.84979884e-03,   1.25205237e-02,   1.18743638e-02,\n",
       "          1.28662093e-02,  -1.23457769e-02,  -1.11154187e-02,\n",
       "         -2.77656578e-02,   2.86326073e-02,  -1.34552969e-02,\n",
       "          2.07771603e-02,   4.35169795e-06,   1.19341183e-02,\n",
       "          9.29718313e-04,   4.69103502e-03,   2.69891936e-02,\n",
       "         -1.74299954e-03,  -1.37471268e-02,  -1.48795377e-02,\n",
       "          8.91663320e-03,   1.30057633e-02,   2.23908350e-02,\n",
       "          7.74681335e-03,   2.85100322e-02,  -2.28357292e-03,\n",
       "          1.51625024e-02,  -1.59744211e-02,   2.78264806e-02,\n",
       "         -2.33282894e-03,  -8.11901316e-03,  -9.94350482e-03,\n",
       "          3.59392241e-02,  -3.40077654e-02,  -9.54873278e-04,\n",
       "         -1.41547518e-02,  -9.54108720e-04,  -2.09548045e-02,\n",
       "         -1.75944213e-02,   8.82168487e-03,  -8.76354240e-03,\n",
       "         -5.80090769e-02,   1.92824788e-02,   7.39975693e-03,\n",
       "         -9.32623260e-03,   2.08785720e-02,  -4.06967066e-02,\n",
       "         -6.12375559e-03,   8.29629879e-03,   2.45921481e-02,\n",
       "          2.14338973e-02,  -8.60281568e-03,  -1.53313046e-02,\n",
       "          3.58223310e-03,   1.33601259e-02,  -2.13734563e-02,\n",
       "         -2.29044203e-02,   8.77933856e-03,   1.44959590e-03,\n",
       "         -3.16481516e-02,   9.78096016e-03,  -2.12111860e-03,\n",
       "          1.47977599e-03,   2.06760205e-02,  -4.51112818e-03,\n",
       "         -3.12316008e-02,  -2.81729666e-03,   2.19252370e-02,\n",
       "         -1.63222721e-03,  -2.89612431e-02,  -8.51414446e-03,\n",
       "          1.70890354e-02,  -4.92374133e-03,  -2.23311875e-02,\n",
       "          4.90319682e-03,  -2.72129215e-02,   1.65501758e-02,\n",
       "         -3.45583931e-02,   1.10136960e-02,  -1.21892737e-02,\n",
       "         -3.09132058e-02,   2.17551700e-04,   3.08413208e-02,\n",
       "         -2.92029250e-02,  -3.31338309e-02,   1.76348048e-03,\n",
       "         -1.65449418e-02,   4.56822757e-03,  -5.25305280e-03,\n",
       "         -1.45116029e-02,   7.41794193e-03,  -1.47930626e-02,\n",
       "          1.42829809e-02,  -1.99187808e-02,  -5.46712847e-03,\n",
       "         -2.94913421e-04,  -2.58630477e-02,   1.11178262e-02,\n",
       "          1.74912587e-02,   4.92662843e-03,   1.74510721e-02,\n",
       "          4.23408812e-03,   8.10919516e-03,   4.74853936e-04,\n",
       "         -7.01601477e-03,   9.40544007e-04,  -1.44685339e-02,\n",
       "          1.92126837e-02,   4.62595094e-03,  -3.84861492e-02,\n",
       "          3.95839289e-03,  -6.89963531e-03,  -2.59505250e-02,\n",
       "         -2.02064756e-02,   2.53942097e-03,   8.38990323e-03,\n",
       "         -1.48604242e-02,   3.40734459e-02,   5.26948413e-03,\n",
       "         -1.77279543e-02,   1.26499357e-02,  -2.79224273e-02,\n",
       "          2.88318899e-02,  -5.66671044e-03,   7.84013141e-03,\n",
       "          3.52060469e-03,   2.39654500e-02,  -3.41569372e-02,\n",
       "          7.16342824e-04,  -3.17258597e-03,  -1.31640537e-02,\n",
       "         -8.38990137e-03,   1.65217184e-02,  -1.64879803e-02,\n",
       "         -2.77087633e-02,  -2.76525728e-02,  -3.34572084e-02,\n",
       "         -3.19794901e-02,   6.11378532e-03,  -1.12167830e-02,\n",
       "          2.46669352e-02,   1.02418428e-02,  -1.61550904e-03,\n",
       "         -2.54015699e-02,  -8.92263185e-03,  -8.88008066e-03,\n",
       "          8.49174219e-04,   7.55554624e-03,  -9.47400648e-03,\n",
       "         -3.23826424e-03,   2.86520496e-02,  -1.43055171e-02,\n",
       "         -4.07728516e-02,   1.83701478e-02,   2.64994975e-04,\n",
       "          2.05203407e-02,   3.59879900e-03,   2.99672149e-02,\n",
       "         -3.11997300e-03,  -3.64084175e-04,  -2.77271941e-02,\n",
       "          6.17252057e-03,   9.23105888e-03,   2.87168380e-02,\n",
       "         -2.96796905e-03,  -2.24314630e-02,  -1.98408905e-02,\n",
       "          1.03943376e-02,  -1.88489165e-02,   1.18338047e-02,\n",
       "          1.37494924e-02,   1.66176483e-02,  -1.12105189e-02,\n",
       "          8.54537543e-03,  -7.80831696e-03,  -7.99709093e-03,\n",
       "          4.39400040e-03,   2.72694360e-02,  -3.27451155e-03,\n",
       "         -1.85215124e-03,  -4.02296670e-02,   4.24528681e-03,\n",
       "          1.10039106e-02,  -1.97673701e-02,  -2.53264364e-02,\n",
       "         -4.36767191e-02,   2.76078116e-02,   8.67179316e-03,\n",
       "          1.30649155e-03,  -2.47606467e-02,  -1.78250335e-02,\n",
       "          7.73124723e-03,   4.27804003e-03,  -1.06442245e-02,\n",
       "          2.09103413e-02,  -6.99510658e-03,   1.26167191e-02,\n",
       "         -3.18813287e-02,   9.26875509e-03,  -1.20333387e-02,\n",
       "          2.08178665e-02,   1.00839250e-02,   4.53267805e-03,\n",
       "         -2.64380332e-02,  -2.71416660e-02,   1.33091789e-02,\n",
       "         -2.42010150e-02,  -2.62667742e-02,   1.00792628e-02,\n",
       "         -3.92728340e-04,   3.20492238e-02,   9.58760362e-03], dtype=float32),\n",
       " 'work': '1. Взвешивание, прием на склад, хранение и выдача со склада материальных ценностей.\\n2. Проверка соответствия между принимаемыми ценностями и информацией о них в сопроводительных документах.\\n3. Перемещение материальные ценности к местам хранения вручную или при помощи средств механизации, с сортировкой их по определенным критериям.\\n4. Руководство работами по выгрузке, расположению внутри склада, погрузке товаров.\\n5. Комплектация материальные ценности в соответствии с заявками потребителей.\\n6. Содействие в сохранности складируемых товарно-материальных ценностей.\\n7. Обеспечение соблюдения режимов хранения товарно-материальных ценностей.\\n8. Составление установленной отчетности, дефектной ведомости на неисправные товары, рекламации, акты о недостаче, порче, списании материалов.\\n9. Обеспечение соблюдения правил оформления и сдачи отчетных документов.\\n10. Ведение учета складских операций.\\n11. Участие в инвентаризации товарно-материальных ценностей.\\n12. Осуществление надзора за комплектностью, исправностью противопожарных средств, состоянием оборудования, помещений инвентаря на складе, обеспечивает их своевременное обслуживание и ремонт.\\n13. Контроль состояния техники безопасности и принятие мер по устранению выявленных недостатков.\\n14. Фиксация нарушений правил производственной санитарии, инструкций по охране труда.\\n15. Выполнение отдельных служебных поручений руководителя.'}"
      ]
     },
     "execution_count": 6,
     "metadata": {},
     "output_type": "execute_result"
    }
   ],
   "source": [
    "vacancy_by_name['e93e7dc6aac1811f5d9e0e872665f74b6d1e9c02']"
   ]
  },
  {
   "cell_type": "code",
   "execution_count": 7,
   "metadata": {
    "ExecuteTime": {
     "end_time": "2018-02-14T12:32:48.215972Z",
     "start_time": "2018-02-14T12:32:41.773946Z"
    },
    "collapsed": true
   },
   "outputs": [],
   "source": [
    "resume = pickle.load(open(\"resume_with_days.pkl\", \"rb\"))"
   ]
  },
  {
   "cell_type": "code",
   "execution_count": 8,
   "metadata": {
    "ExecuteTime": {
     "end_time": "2018-02-14T14:34:26.970508Z",
     "start_time": "2018-02-14T14:34:26.749410Z"
    },
    "collapsed": true
   },
   "outputs": [],
   "source": [
    "skills_by_theme = collections.defaultdict(lambda: [])\n",
    "\n",
    "for vac in vacancy_by_name:\n",
    "    vac = vacancy_by_name[vac]\n",
    "    skills_by_theme[vac['profession_tree_name']].extend(vac['dirty_skills'])"
   ]
  },
  {
   "cell_type": "code",
   "execution_count": 9,
   "metadata": {
    "ExecuteTime": {
     "end_time": "2018-02-14T12:52:47.173325Z",
     "start_time": "2018-02-14T12:52:47.169602Z"
    }
   },
   "outputs": [
    {
     "data": {
      "application/vnd.jupyter.widget-view+json": {
       "model_id": "f8cf246b31724c598ce3a35021bec844",
       "version_major": 2,
       "version_minor": 0
      },
      "text/plain": [
       "A Jupyter Widget"
      ]
     },
     "metadata": {},
     "output_type": "display_data"
    },
    {
     "name": "stdout",
     "output_type": "stream",
     "text": [
      "\n"
     ]
    }
   ],
   "source": [
    "for theme in tqdm(skills_by_theme):\n",
    "    skills_by_theme[theme] = [i[0] for i in collections.Counter(skills_by_theme[theme]).most_common(6000)]"
   ]
  },
  {
   "cell_type": "code",
   "execution_count": 10,
   "metadata": {
    "ExecuteTime": {
     "end_time": "2018-02-14T12:52:48.373140Z",
     "start_time": "2018-02-14T12:52:48.369050Z"
    },
    "collapsed": true
   },
   "outputs": [],
   "source": [
    "def get_jobs(resume_id):\n",
    "    '''Отсортируем работы по времени. 1999, 2000, 2010'''\n",
    "    ans = {}\n",
    "    for job in resume[resume_id]['work_history']:\n",
    "        ans[int(job['monthbeg'])/12 + int(job['yearbeg'])] = job\n",
    "    return dict(collections.OrderedDict(sorted(ans.items())))"
   ]
  },
  {
   "cell_type": "code",
   "execution_count": 11,
   "metadata": {
    "ExecuteTime": {
     "end_time": "2018-02-14T13:03:19.056135Z",
     "start_time": "2018-02-14T13:03:18.957627Z"
    },
    "collapsed": true
   },
   "outputs": [],
   "source": [
    "an = pickle.load(open(\"tmp.pck\", \"rb\"))"
   ]
  },
  {
   "cell_type": "code",
   "execution_count": 12,
   "metadata": {
    "ExecuteTime": {
     "end_time": "2018-02-15T08:50:14.585322Z",
     "start_time": "2018-02-15T08:50:14.321446Z"
    },
    "collapsed": true
   },
   "outputs": [],
   "source": [
    "skills_by_theme = collections.defaultdict(lambda: [])\n",
    "\n",
    "for vac in vacancy_by_name:\n",
    "    vac = vacancy_by_name[vac]\n",
    "    skills_by_theme[vac['profession_tree_name']].extend(vac['clear_skills'])"
   ]
  },
  {
   "cell_type": "code",
   "execution_count": 13,
   "metadata": {
    "ExecuteTime": {
     "end_time": "2018-02-15T08:50:15.670646Z",
     "start_time": "2018-02-15T08:50:15.430552Z"
    },
    "collapsed": true
   },
   "outputs": [],
   "source": [
    "for skill in skills_by_theme:\n",
    "    skills_by_theme[skill] = Counter(skills_by_theme[skill]).most_common(10)"
   ]
  },
  {
   "cell_type": "code",
   "execution_count": 14,
   "metadata": {
    "ExecuteTime": {
     "end_time": "2018-02-15T08:50:43.105236Z",
     "start_time": "2018-02-15T08:50:43.099356Z"
    },
    "collapsed": true
   },
   "outputs": [],
   "source": [
    "def get_skills(_id):\n",
    "    '''Вытаскиваем навыки данной работы'''\n",
    "    if _id in sim_to_work:\n",
    "        sim = sim_to_work[_id]\n",
    "        work = vacancy_by_name[sim[0][0]]['profession_tree_name']\n",
    "        print(\"Название работы:\", work)\n",
    "        return skills_by_theme[work]\n",
    "    else:\n",
    "        return [[None]]"
   ]
  },
  {
   "cell_type": "markdown",
   "metadata": {},
   "source": [
    "# Пошагово посмотрим на то, как добавляются навыки\n",
    "Посмотрим на навыки, которые добавляются с каждой вакансией и на название вакансии..."
   ]
  },
  {
   "cell_type": "code",
   "execution_count": 15,
   "metadata": {
    "ExecuteTime": {
     "end_time": "2018-02-15T08:50:17.215172Z",
     "start_time": "2018-02-15T08:50:17.202637Z"
    }
   },
   "outputs": [
    {
     "name": "stdout",
     "output_type": "stream",
     "text": [
      "Название работы: Промоутер\n",
      "Новые навыки: {'коммуникативный навык', 'желание работать', 'умение общаться', 'желание общаться человек', 'желание зарабатывать', 'опрятный внешний', 'активный жизненный позиция', 'приятный внешность', 'грамотный речь', 'позитивный настрой'}\n",
      "\n",
      "Название работы: Кладовщик\n",
      "Новые навыки: {'опыт работа кладовщик', 'образование среднее специальный', 'уверенный пользователь', 'опыт работа склад', 'опыт работа аналогичный', 'знание программа', 'умение работать команда', 'опыт работа', 'опыт работа аналогичный должность'}\n",
      "\n",
      "Название работы: Торговый представитель\n",
      "Новые навыки: {'опыт работа торговый представитель', 'наличие автомобиль', 'опыт работа продажа', 'нацеленность результат', 'наличие личный автомобиль', 'водительский право категория'}\n",
      "\n",
      "Название работы: Экономист аналитик\n",
      "Новые навыки: {'сводный таблица', 'высокий образование', 'высокий образование экономический', 'опыт работа экономист', 'высокий экономический образование', 'аналитический склад'}\n",
      "\n",
      "Название работы: Финансовый директор\n",
      "Новые навыки: {'возраст иметь значение', 'знание законодательный', 'высокий финансовый образование', 'основа учёт', 'иной нормативный правовой', 'высокий экономический', 'без вредный привычка', 'регламентировать финансовый экономический'}\n",
      "\n",
      "Название работы: Финансовый директор\n",
      "Новые навыки: set()\n",
      "\n",
      "Название работы: Финансовый директор\n",
      "Новые навыки: set()\n",
      "\n",
      "Название работы: Финансовый директор\n",
      "Новые навыки: set()\n",
      "\n",
      "Название работы: Финансовый менеджер\n",
      "Новые навыки: {'образование неоконченный высокий высокий экономический', 'опыт работа банковский сфера привилегированный', 'опыт работа аналогичный функционал', 'знание бухгалтерский учёт', 'готовность работа больший объём информация', 'умение хранить конфиденциальный информация'}\n",
      "\n",
      "Итоговые скиллы:\n",
      "{'опыт работа торговый представитель', 'возраст иметь значение', 'желание работать', 'умение общаться', 'желание зарабатывать', 'высокий экономический', 'наличие личный автомобиль', 'аналитический склад', 'умение работать команда', 'желание общаться человек', 'опыт работа аналогичный должность', 'водительский право категория', 'образование неоконченный высокий высокий экономический', 'опыт работа банковский сфера привилегированный', 'знание бухгалтерский учёт', 'знание законодательный', 'сводный таблица', 'основа учёт', 'готовность работа больший объём информация', 'уверенный пользователь', 'иной нормативный правовой', 'высокий образование экономический', 'опыт работа экономист', 'высокий экономический образование', 'регламентировать финансовый экономический', 'активный жизненный позиция', 'приятный внешность', 'позитивный настрой', 'опыт работа кладовщик', 'образование среднее специальный', 'высокий финансовый образование', 'опыт работа продажа', 'без вредный привычка', 'знание программа', 'умение хранить конфиденциальный информация', 'коммуникативный навык', 'опыт работа аналогичный функционал', 'наличие автомобиль', 'высокий образование', 'нацеленность результат', 'опыт работа склад', 'опыт работа аналогичный', 'опрятный внешний', 'опыт работа', 'грамотный речь'}\n"
     ]
    }
   ],
   "source": [
    "user = 0\n",
    "now = get_jobs(user)\n",
    "old_skills = set()\n",
    "\n",
    "for key in now.keys():\n",
    "    tmp = set([i[0] for i in get_skills(now[key]['id'])])\n",
    "    tmp -= old_skills\n",
    "    old_skills |= tmp\n",
    "                     \n",
    "    print(\"Новые навыки:\", tmp, end=\"\\n\\n\")\n",
    "    \n",
    "print(\"Итоговые скиллы:\")\n",
    "print(old_skills)"
   ]
  },
  {
   "cell_type": "code",
   "execution_count": 16,
   "metadata": {
    "ExecuteTime": {
     "end_time": "2018-02-14T15:15:12.174324Z",
     "start_time": "2018-02-14T15:15:12.163560Z"
    },
    "collapsed": true
   },
   "outputs": [],
   "source": [
    "def career(jobs):\n",
    "    '''Текущая карьера по работе'''\n",
    "    jobs = get_jobs(jobs)\n",
    "    ans = list()\n",
    "    for key in jobs:\n",
    "        _id = jobs[key]['id']\n",
    "        if _id in sim_to_work:\n",
    "            ans.append(vacancy_by_name[sim_to_work[_id][0][0]]['profession_tree_name'])\n",
    "            \n",
    "    return ans"
   ]
  },
  {
   "cell_type": "code",
   "execution_count": 17,
   "metadata": {
    "ExecuteTime": {
     "end_time": "2018-02-14T15:15:14.210822Z",
     "start_time": "2018-02-14T15:15:14.207478Z"
    },
    "collapsed": true
   },
   "outputs": [],
   "source": [
    "from joblib import delayed, Parallel\n",
    "\n",
    "def parallel(f, data):\n",
    "    \"\"\"Run parallel your func on all CPU\"\"\"\n",
    "    \n",
    "    return Parallel(n_jobs=-1, verbose=3, max_nbytes='1G')(delayed(f)(x) for x in data)"
   ]
  },
  {
   "cell_type": "code",
   "execution_count": 18,
   "metadata": {
    "ExecuteTime": {
     "end_time": "2018-02-14T15:15:18.145089Z",
     "start_time": "2018-02-14T15:15:14.682083Z"
    }
   },
   "outputs": [
    {
     "name": "stderr",
     "output_type": "stream",
     "text": [
      "[Parallel(n_jobs=-1)]: Done   8 tasks      | elapsed:    0.1s\n",
      "[Parallel(n_jobs=-1)]: Done 21944 tasks      | elapsed:    4.6s\n",
      "[Parallel(n_jobs=-1)]: Done 65784 tasks      | elapsed:    9.8s\n",
      "[Parallel(n_jobs=-1)]: Done 128945 out of 128945 | elapsed:   16.4s finished\n"
     ]
    }
   ],
   "source": [
    "data = parallel(career, range(len(resume)))"
   ]
  },
  {
   "cell_type": "code",
   "execution_count": 19,
   "metadata": {
    "ExecuteTime": {
     "end_time": "2018-02-14T15:17:51.871454Z",
     "start_time": "2018-02-14T15:17:51.847395Z"
    },
    "collapsed": true
   },
   "outputs": [],
   "source": [
    "data.sort(key=len)"
   ]
  },
  {
   "cell_type": "code",
   "execution_count": 20,
   "metadata": {
    "ExecuteTime": {
     "end_time": "2018-02-14T16:31:10.042649Z",
     "start_time": "2018-02-14T16:31:10.024543Z"
    },
    "collapsed": true
   },
   "outputs": [],
   "source": [
    "normal_data = []\n",
    "\n",
    "for i in data[::-1]:\n",
    "    normal_data.append(i)"
   ]
  },
  {
   "cell_type": "code",
   "execution_count": 21,
   "metadata": {
    "ExecuteTime": {
     "end_time": "2018-02-14T16:35:05.107521Z",
     "start_time": "2018-02-14T16:35:04.907343Z"
    },
    "collapsed": true
   },
   "outputs": [],
   "source": [
    "# Матри\n",
    "matrix = defaultdict(lambda: Counter())\n",
    "\n",
    "for story in normal_data:\n",
    "    if len(story) > 0:\n",
    "        old_line = story[0]\n",
    "        for line in story[1:]:\n",
    "            matrix[line][old_line] += 1\n",
    "            old_line = line"
   ]
  },
  {
   "cell_type": "code",
   "execution_count": 22,
   "metadata": {
    "ExecuteTime": {
     "end_time": "2018-02-14T20:45:38.907009Z",
     "start_time": "2018-02-14T20:45:38.904672Z"
    },
    "collapsed": true
   },
   "outputs": [],
   "source": [
    "# Наш коэф. на основе того, что обычно встречается после и до tree_name\n",
    "# Директор = 10\n",
    "# Водитель = 3\n",
    "# Промоутер = 1\n",
    "k = pickle.load(open(\"p.pck\", 'rb'))"
   ]
  },
  {
   "cell_type": "code",
   "execution_count": null,
   "metadata": {
    "collapsed": true
   },
   "outputs": [],
   "source": [
    "print(k)"
   ]
  },
  {
   "cell_type": "code",
   "execution_count": null,
   "metadata": {
    "ExecuteTime": {
     "end_time": "2018-02-14T17:52:53.932844Z",
     "start_time": "2018-02-14T17:52:53.801985Z"
    },
    "collapsed": true
   },
   "outputs": [],
   "source": [
    "answer = []\n",
    "\n",
    "for story in normal_data:\n",
    "    last_ball = 0\n",
    "    cool = True\n",
    "    \n",
    "    if len(set(story)) > 3:\n",
    "        new_story = []\n",
    "        \n",
    "        for line in story:\n",
    "            if not last_ball > k[line]:\n",
    "                new_story.append(line)\n",
    "                last_ball = k[line]\n",
    "    \n",
    "        if cool:\n",
    "            answer.append(story)"
   ]
  },
  {
   "cell_type": "markdown",
   "metadata": {},
   "source": [
    "# Построение графа от желаемой должности"
   ]
  },
  {
   "cell_type": "code",
   "execution_count": null,
   "metadata": {
    "ExecuteTime": {
     "end_time": "2018-02-14T20:45:49.718378Z",
     "start_time": "2018-02-14T20:45:49.695936Z"
    },
    "collapsed": true
   },
   "outputs": [],
   "source": [
    "def get_all_ages(prof, used = None):\n",
    "    '''Построение дерева до желаемой tree_name'''\n",
    "    global k\n",
    "    if not used:\n",
    "        used = [prof]\n",
    "    else:\n",
    "        used.append(prof)\n",
    "    \n",
    "    now = []\n",
    "    \n",
    "    for i in matrix[prof].most_common(100):\n",
    "        if i[0] not in used:\n",
    "\n",
    "            if k[i[0]] < k[prof] and k[i[0]] + 2 >= k[prof] and k[i[0]] > 2:\n",
    "                now.append(i[0])\n",
    "\n",
    "                if len(now) == 2:\n",
    "                    for j in now:\n",
    "                        if prof and prof not in a:\n",
    "                            a.add_node(prof)\n",
    "                            \n",
    "                        if j and j not in a:\n",
    "                            a.add_node(j)\n",
    "                            \n",
    "                        if j:\n",
    "                            a.add_edge(j, prof)\n",
    "                        get_all_ages(j, used)\n",
    "    \n"
   ]
  },
  {
   "cell_type": "code",
   "execution_count": null,
   "metadata": {
    "ExecuteTime": {
     "end_time": "2018-02-14T20:45:42.232133Z",
     "start_time": "2018-02-14T20:45:42.220997Z"
    },
    "collapsed": true
   },
   "outputs": [],
   "source": [
    "import matplotlib.pyplot as plt\n",
    "%matplotlib inline\n",
    "%config InlineBackend.figure_format = 'retina'"
   ]
  },
  {
   "cell_type": "code",
   "execution_count": null,
   "metadata": {
    "ExecuteTime": {
     "end_time": "2018-02-14T17:48:55.454078Z",
     "start_time": "2018-02-14T17:48:54.921814Z"
    },
    "collapsed": true
   },
   "outputs": [],
   "source": [
    "a = nx.DiGraph()\n",
    "get_all_ages(\"Генеральный директор\")\n",
    "plt.figure(3,figsize=(12,12)) \n",
    "nx.draw(a, node_color='b', node_size=500, alpha=0.5, with_labels=True)\n",
    "plt.show()"
   ]
  },
  {
   "cell_type": "code",
   "execution_count": null,
   "metadata": {
    "ExecuteTime": {
     "end_time": "2018-02-14T16:53:03.122790Z",
     "start_time": "2018-02-14T16:53:03.120016Z"
    },
    "collapsed": true
   },
   "outputs": [],
   "source": [
    "matrix['Генеральный директор'].most_common(1)"
   ]
  },
  {
   "cell_type": "code",
   "execution_count": null,
   "metadata": {
    "ExecuteTime": {
     "end_time": "2018-02-14T16:41:40.908447Z",
     "start_time": "2018-02-14T16:41:40.905599Z"
    },
    "collapsed": true
   },
   "outputs": [],
   "source": [
    "matrix['Финансовый директор'].most_common(3)"
   ]
  },
  {
   "cell_type": "code",
   "execution_count": null,
   "metadata": {
    "ExecuteTime": {
     "end_time": "2018-02-14T16:42:27.068383Z",
     "start_time": "2018-02-14T16:42:27.065347Z"
    },
    "collapsed": true
   },
   "outputs": [],
   "source": [
    "matrix['Экономист аналитик'].most_common(3)"
   ]
  },
  {
   "cell_type": "code",
   "execution_count": null,
   "metadata": {
    "ExecuteTime": {
     "end_time": "2018-02-14T16:44:11.943872Z",
     "start_time": "2018-02-14T16:44:11.940850Z"
    },
    "collapsed": true
   },
   "outputs": [],
   "source": [
    "matrix['Финансовый менеджер'].most_common(4)"
   ]
  },
  {
   "cell_type": "code",
   "execution_count": null,
   "metadata": {
    "ExecuteTime": {
     "end_time": "2018-02-14T16:43:27.343280Z",
     "start_time": "2018-02-14T16:43:27.340134Z"
    },
    "collapsed": true
   },
   "outputs": [],
   "source": [
    "matrix['Помощник бухгалтера'].most_common(3)"
   ]
  },
  {
   "cell_type": "code",
   "execution_count": null,
   "metadata": {
    "ExecuteTime": {
     "end_time": "2018-02-14T16:43:42.913762Z",
     "start_time": "2018-02-14T16:43:42.910686Z"
    },
    "collapsed": true
   },
   "outputs": [],
   "source": [
    "matrix['Оператор ПК'].most_common(3)"
   ]
  },
  {
   "cell_type": "code",
   "execution_count": null,
   "metadata": {
    "ExecuteTime": {
     "end_time": "2018-02-14T16:29:30.078045Z",
     "start_time": "2018-02-14T16:29:30.075118Z"
    }
   },
   "outputs": [],
   "source": [
    "normal_data"
   ]
  },
  {
   "cell_type": "code",
   "execution_count": null,
   "metadata": {
    "ExecuteTime": {
     "end_time": "2018-02-14T18:03:43.827582Z",
     "start_time": "2018-02-14T18:03:43.822879Z"
    }
   },
   "outputs": [],
   "source": [
    "matrix['Педагог']"
   ]
  },
  {
   "cell_type": "code",
   "execution_count": null,
   "metadata": {
    "ExecuteTime": {
     "end_time": "2018-02-14T19:20:42.448416Z",
     "start_time": "2018-02-14T19:20:42.274906Z"
    },
    "collapsed": true
   },
   "outputs": [],
   "source": [
    "themes = defaultdict(lambda: [])\n",
    "dirty_to_normal = {}\n",
    "\n",
    "for d in vacancy_by_name:\n",
    "    d = vacancy_by_name[d]\n",
    "    themes[d['profession_tree_name']].append(d['dirty_skills'])"
   ]
  },
  {
   "cell_type": "code",
   "execution_count": null,
   "metadata": {
    "ExecuteTime": {
     "end_time": "2018-02-14T19:20:44.934846Z",
     "start_time": "2018-02-14T19:20:44.915621Z"
    },
    "collapsed": true
   },
   "outputs": [],
   "source": [
    "def get_tfidf(theme):\n",
    "    \n",
    "    tmp = []\n",
    "\n",
    "    for i in themes[theme]:\n",
    "        tmp.extend(i)\n",
    "\n",
    "    tf = Counter(tmp)\n",
    "\n",
    "    for j in tf:\n",
    "        tf[j] /= len(tmp)\n",
    "\n",
    "    for word in tf:\n",
    "        idf = np.log(len(themes[theme])/ sum([word in doc for doc in themes[theme]]))\n",
    "        tf[word] *= idf\n",
    "\n",
    "    return tf"
   ]
  },
  {
   "cell_type": "code",
   "execution_count": null,
   "metadata": {
    "ExecuteTime": {
     "end_time": "2018-02-14T20:32:08.635607Z",
     "start_time": "2018-02-14T20:32:08.632427Z"
    }
   },
   "outputs": [],
   "source": [
    "# Все tree_name, которые есть\n",
    "themes.keys()"
   ]
  },
  {
   "cell_type": "code",
   "execution_count": null,
   "metadata": {
    "ExecuteTime": {
     "end_time": "2018-02-14T20:50:39.366907Z",
     "start_time": "2018-02-14T20:50:39.342827Z"
    },
    "scrolled": true
   },
   "outputs": [],
   "source": [
    "# Самые чатые навыки Аудитора\n",
    "get_tfidf('Аудитор').most_common(100)"
   ]
  },
  {
   "cell_type": "code",
   "execution_count": null,
   "metadata": {
    "ExecuteTime": {
     "end_time": "2018-02-14T20:02:24.109061Z",
     "start_time": "2018-02-14T20:02:23.744212Z"
    },
    "collapsed": true
   },
   "outputs": [],
   "source": [
    "cahce = pickle.load(open(\"cahce.pck\", \"rb\"))"
   ]
  },
  {
   "cell_type": "code",
   "execution_count": null,
   "metadata": {
    "collapsed": true
   },
   "outputs": [],
   "source": []
  },
  {
   "cell_type": "code",
   "execution_count": null,
   "metadata": {
    "ExecuteTime": {
     "end_time": "2018-02-14T20:00:09.346564Z",
     "start_time": "2018-02-14T20:00:09.290782Z"
    },
    "collapsed": true
   },
   "outputs": [],
   "source": [
    "vacancy = []\n",
    "\n",
    "for k in vacancy_by_name:\n",
    "    vacancy.append(vacancy_by_name[k])"
   ]
  },
  {
   "cell_type": "code",
   "execution_count": null,
   "metadata": {
    "ExecuteTime": {
     "end_time": "2018-02-14T20:05:32.354858Z",
     "start_time": "2018-02-14T20:05:32.351982Z"
    },
    "collapsed": true
   },
   "outputs": [],
   "source": [
    "def _clear(text):\n",
    "    return list(filter(lambda x: x not in stopwords, get_words(remove_numbers(text.lower()))))"
   ]
  },
  {
   "cell_type": "code",
   "execution_count": null,
   "metadata": {
    "ExecuteTime": {
     "end_time": "2018-02-14T20:43:39.469021Z",
     "start_time": "2018-02-14T20:43:39.464113Z"
    },
    "collapsed": true
   },
   "outputs": [],
   "source": [
    "def to_vec(tupl):\n",
    "    skills_vecs = []\n",
    "    for skill in tupl:\n",
    "        skill_vec = np.sum(list(map(lambda x: cahce[x], _clear(skill))), axis=0)\n",
    "        skills_vecs.append(skill_vec)\n",
    "    return np.mean(skills_vecs, axis=0)"
   ]
  },
  {
   "cell_type": "code",
   "execution_count": null,
   "metadata": {
    "ExecuteTime": {
     "end_time": "2018-02-14T20:43:40.397285Z",
     "start_time": "2018-02-14T20:43:40.393967Z"
    }
   },
   "outputs": [],
   "source": [
    "len(vacancy_by_name)"
   ]
  },
  {
   "cell_type": "code",
   "execution_count": null,
   "metadata": {
    "ExecuteTime": {
     "end_time": "2018-02-14T20:18:35.787550Z",
     "start_time": "2018-02-14T20:18:33.649101Z"
    },
    "collapsed": true
   },
   "outputs": [],
   "source": [
    "vacancy = pickle.load(open(\"vacancy_with_vecs.pck\", \"rb\"))"
   ]
  },
  {
   "cell_type": "code",
   "execution_count": null,
   "metadata": {
    "ExecuteTime": {
     "end_time": "2018-02-14T20:43:11.594023Z",
     "start_time": "2018-02-14T20:43:11.591291Z"
    },
    "collapsed": true
   },
   "outputs": [],
   "source": [
    "themes_vectors = defaultdict(lambda: [])"
   ]
  },
  {
   "cell_type": "code",
   "execution_count": null,
   "metadata": {
    "ExecuteTime": {
     "end_time": "2018-02-14T20:43:12.367261Z",
     "start_time": "2018-02-14T20:43:11.834447Z"
    },
    "collapsed": true
   },
   "outputs": [],
   "source": [
    "for vac in vacancy:\n",
    "    if not np.isnan(vac['vec']).all():\n",
    "        themes_vectors[vac['profession_tree_name']].append(vac['vec'])"
   ]
  },
  {
   "cell_type": "code",
   "execution_count": null,
   "metadata": {
    "ExecuteTime": {
     "end_time": "2018-02-14T20:43:12.506648Z",
     "start_time": "2018-02-14T20:43:12.368444Z"
    },
    "collapsed": true
   },
   "outputs": [],
   "source": [
    "for theme in themes_vectors:\n",
    "    themes_vectors[theme] = np.sum(themes_vectors[theme], axis=0)"
   ]
  },
  {
   "cell_type": "code",
   "execution_count": null,
   "metadata": {
    "ExecuteTime": {
     "end_time": "2018-02-14T20:43:42.468183Z",
     "start_time": "2018-02-14T20:43:42.434739Z"
    },
    "collapsed": true
   },
   "outputs": [],
   "source": [
    "def compile_cos_sim_theano():\n",
    "    v1 = theano.tensor.vector(dtype='float32')\n",
    "    v2 = theano.tensor.vector(dtype='float32')\n",
    "    \n",
    "    numerator = theano.tensor.sum(v1*v2)\n",
    "    denominator = theano.tensor.sqrt(theano.tensor.sum(v1**2)*theano.tensor.sum(v2**2))\n",
    "   \n",
    "    return theano.function([v1, v2], numerator/denominator)\n",
    "\n",
    "cos_sim_theano_fn = compile_cos_sim_theano()"
   ]
  },
  {
   "cell_type": "code",
   "execution_count": null,
   "metadata": {
    "ExecuteTime": {
     "end_time": "2018-02-15T09:13:01.223475Z",
     "start_time": "2018-02-15T09:13:01.217538Z"
    },
    "collapsed": true
   },
   "outputs": [],
   "source": [
    "def get_theme(tupl):\n",
    "    vec = to_vec(tupl)\n",
    "    a = Counter()\n",
    "    \n",
    "    for theme in themes_vectors:\n",
    "        a[theme] = cos_sim_theano_fn(themes_vectors[theme], vec)\n",
    "    \n",
    "    for u in a.most_common(10):\n",
    "        if k[u[0]] > 2: \n",
    "            return u[0]"
   ]
  },
  {
   "cell_type": "code",
   "execution_count": null,
   "metadata": {
    "collapsed": true
   },
   "outputs": [],
   "source": [
    "k = pickle.load(open(\"p.pck\", 'rb'))"
   ]
  },
  {
   "cell_type": "code",
   "execution_count": null,
   "metadata": {
    "ExecuteTime": {
     "end_time": "2018-02-15T09:13:01.693117Z",
     "start_time": "2018-02-15T09:13:01.690535Z"
    }
   },
   "outputs": [],
   "source": [
    "k['Техник']"
   ]
  },
  {
   "cell_type": "code",
   "execution_count": null,
   "metadata": {
    "ExecuteTime": {
     "end_time": "2018-02-14T23:55:31.280384Z",
     "start_time": "2018-02-14T23:55:31.249825Z"
    },
    "collapsed": true
   },
   "outputs": [],
   "source": [
    "def draw_path(theme):\n",
    "    '''Всё в одном.'''\n",
    "    a = nx.DiGraph()\n",
    "\n",
    "    def get_all_ages(prof, used = None):\n",
    "        global k\n",
    "        if not used:\n",
    "            used = [prof]\n",
    "        else:\n",
    "            used.append(prof)\n",
    "\n",
    "        now = []\n",
    "\n",
    "        for i in matrix[prof].most_common(100):\n",
    "            if i[0] not in used:\n",
    "\n",
    "                if k[i[0]] < k[prof] and k[i[0]] + 2 >= k[prof] and k[i[0]] > 2:\n",
    "                    now.append(i[0])\n",
    "\n",
    "                    if len(now) == 2:\n",
    "                        for j in now:\n",
    "                            if prof and prof not in a:\n",
    "                                a.add_node(prof)\n",
    "\n",
    "                            if j and j not in a:\n",
    "                                a.add_node(j)\n",
    "\n",
    "                            if j:\n",
    "                                a.add_edge(j, prof)\n",
    "                            get_all_ages(j, used)\n",
    "\n",
    "    get_all_ages(theme)\n",
    "    plt.figure(3,figsize=(12,12)) \n",
    "    nx.draw(a, node_color='b', node_size=500, alpha=0.5, with_labels=True)\n",
    "    plt.show()"
   ]
  },
  {
   "cell_type": "code",
   "execution_count": null,
   "metadata": {
    "ExecuteTime": {
     "end_time": "2018-02-14T23:55:42.697424Z",
     "start_time": "2018-02-14T23:55:42.224188Z"
    }
   },
   "outputs": [],
   "source": [
    "draw_path(\"Финансовый директор\")"
   ]
  },
  {
   "cell_type": "markdown",
   "metadata": {},
   "source": [
    "# Построение графа до желаемой должности"
   ]
  },
  {
   "cell_type": "code",
   "execution_count": null,
   "metadata": {
    "ExecuteTime": {
     "end_time": "2018-02-14T22:30:46.126810Z",
     "start_time": "2018-02-14T22:30:45.963215Z"
    },
    "collapsed": true
   },
   "outputs": [],
   "source": [
    "# matrix[i][j] - кол-во человек, которое из должности i перешли в должности j\n",
    "matrix_back = defaultdict(lambda: Counter())\n",
    "\n",
    "for line in normal_data:\n",
    "    if len(line) > 1:\n",
    "        first = line[0::2]\n",
    "        second = line[1::2]\n",
    "        \n",
    "        for i in range(len(second)):\n",
    "            if k[first[i]] < k[second[i]]:\n",
    "                matrix_back[first[i]][second[i]] += 1"
   ]
  },
  {
   "cell_type": "code",
   "execution_count": null,
   "metadata": {
    "ExecuteTime": {
     "end_time": "2018-02-14T22:56:32.583225Z",
     "start_time": "2018-02-14T22:56:32.580885Z"
    }
   },
   "outputs": [],
   "source": [
    "import plotly.plotly as py\n",
    "from plotly.graph_objs import *\n",
    "from plotly.offline import download_plotlyjs, init_notebook_mode, plot, iplot\n",
    "init_notebook_mode(connected=True)"
   ]
  },
  {
   "cell_type": "code",
   "execution_count": null,
   "metadata": {
    "ExecuteTime": {
     "end_time": "2018-02-14T23:44:10.063358Z",
     "start_time": "2018-02-14T23:44:10.055551Z"
    },
    "collapsed": true
   },
   "outputs": [],
   "source": [
    "api_key = 'Kyxdr2dZqCwvx2yfpTvd'\n",
    "import plotly\n",
    "plotly.tools.set_credentials_file(username='tvorogme', api_key=api_key)"
   ]
  },
  {
   "cell_type": "code",
   "execution_count": null,
   "metadata": {
    "ExecuteTime": {
     "end_time": "2018-02-14T23:48:34.297879Z",
     "start_time": "2018-02-14T23:48:34.295040Z"
    }
   },
   "outputs": [],
   "source": [
    "matrix_back['Финансовый директор']"
   ]
  },
  {
   "cell_type": "code",
   "execution_count": null,
   "metadata": {
    "ExecuteTime": {
     "end_time": "2018-02-15T00:16:21.514854Z",
     "start_time": "2018-02-15T00:16:21.391433Z"
    },
    "collapsed": true
   },
   "outputs": [],
   "source": [
    "vacs_by_theme = defaultdict(lambda: [])\n",
    "\n",
    "for vac in vacancy:\n",
    "    vacs_by_theme[vac['profession_tree_name']].append(vac)"
   ]
  },
  {
   "cell_type": "code",
   "execution_count": null,
   "metadata": {
    "ExecuteTime": {
     "end_time": "2018-02-15T00:19:24.605639Z",
     "start_time": "2018-02-15T00:19:23.590113Z"
    },
    "collapsed": true
   },
   "outputs": [],
   "source": [
    "sim_to_work = pickle.load(open(\"sim_to_work.pck\", \"rb\"))"
   ]
  },
  {
   "cell_type": "code",
   "execution_count": null,
   "metadata": {
    "ExecuteTime": {
     "end_time": "2018-02-15T00:23:15.349125Z",
     "start_time": "2018-02-15T00:23:14.917737Z"
    },
    "collapsed": true
   },
   "outputs": [],
   "source": [
    "for work in sim_to_work:\n",
    "    if sim_to_work[work]:\n",
    "        tmp = vacancy_by_name[sim_to_work[work][0][0]]\n",
    "\n",
    "        if 'popularity' not in tmp:\n",
    "            tmp['popularity'] = 0\n",
    "\n",
    "        tmp['popularity'] += 1"
   ]
  },
  {
   "cell_type": "code",
   "execution_count": null,
   "metadata": {
    "ExecuteTime": {
     "end_time": "2018-02-15T00:30:08.923667Z",
     "start_time": "2018-02-15T00:29:48.234892Z"
    }
   },
   "outputs": [],
   "source": [
    "similar_to_theme = {}\n",
    "\n",
    "for theme in tqdm(themes):\n",
    "    cool = []\n",
    "    for name in vacancy_by_name:\n",
    "        tmp = vacancy_by_name[name]\n",
    "        if 'popularity' in tmp and tmp['profession_tree_name'] == theme:\n",
    "            cool.append([tmp['popularity'], tmp['id']])\n",
    "    cool.sort(reverse=True)\n",
    "    similar_to_theme[theme] = cool[:10]"
   ]
  },
  {
   "cell_type": "code",
   "execution_count": null,
   "metadata": {
    "ExecuteTime": {
     "end_time": "2018-02-15T00:36:39.043115Z",
     "start_time": "2018-02-15T00:36:38.996318Z"
    },
    "collapsed": true
   },
   "outputs": [],
   "source": [
    "import gensim"
   ]
  },
  {
   "cell_type": "code",
   "execution_count": null,
   "metadata": {
    "ExecuteTime": {
     "end_time": "2018-02-15T00:36:56.658553Z",
     "start_time": "2018-02-15T00:36:40.451406Z"
    },
    "collapsed": true
   },
   "outputs": [],
   "source": [
    "model = gensim.models.KeyedVectors.load_word2vec_format(\"ruwikiruscorpora_upos_cbow_300_20_2017.bin.gz\", binary=True)"
   ]
  },
  {
   "cell_type": "code",
   "execution_count": null,
   "metadata": {
    "ExecuteTime": {
     "end_time": "2018-02-15T00:45:58.737146Z",
     "start_time": "2018-02-15T00:45:58.724977Z"
    },
    "code_folding": [],
    "collapsed": true
   },
   "outputs": [],
   "source": [
    "tmp_vector = np.array([0] * 300, dtype=np.float32)\n",
    "\n",
    "def _word2vec(word):\n",
    "    for i in [\"_NOUN\", \"_ADJ\", \"_VERB\"]:\n",
    "        tmp = \"{}{}\".format(word, i)\n",
    "        \n",
    "        if tmp in model:\n",
    "            return model[tmp]\n",
    "        else:\n",
    "            return tmp_vector\n",
    "\n",
    "def to_vec(tupl):\n",
    "    skills_vecs = []\n",
    "    for skill in tupl:\n",
    "        \n",
    "        skill_vec = np.asarray(list(map(lambda x: _word2vec(morph.parse(x)[0].normal_form), skill)))\n",
    "        if not np.array_equal(tmp_vector, skill_vec):\n",
    "            skills_vecs.append(np.mean(skill_vec, axis=0))\n",
    "    return np.mean(skills_vecs, axis=0)"
   ]
  },
  {
   "cell_type": "code",
   "execution_count": null,
   "metadata": {
    "ExecuteTime": {
     "end_time": "2018-02-15T00:53:40.728964Z",
     "start_time": "2018-02-15T00:53:40.721091Z"
    },
    "collapsed": true
   },
   "outputs": [],
   "source": [
    "def recommend_vac(_next, cur_skills):\n",
    "    '''Рекоммендуем вакансию по скиллам'''\n",
    "    current_vec = to_vec(cur_skills)\n",
    "    vecs = [to_vec(vacancy_by_name[i[1]]['clear_skills']) for i in similar_to_theme[_next]]\n",
    "\n",
    "    vecs = list(filter(lambda x: not np.isnan(x).all(), vecs))\n",
    "\n",
    "    sim = list(map(lambda x: float(cos_sim_theano_fn(x, current_vec)), vecs))\n",
    "    vacs = [vacancy_by_name[i[1]]['profession'] for i in similar_to_theme[_next]]\n",
    "\n",
    "    return Counter({x:y for x,y in zip(vacs, sim)}).most_common(3)"
   ]
  },
  {
   "cell_type": "code",
   "execution_count": null,
   "metadata": {
    "collapsed": true
   },
   "outputs": [],
   "source": [
    "recommend_vac(\"\")"
   ]
  },
  {
   "cell_type": "code",
   "execution_count": null,
   "metadata": {
    "collapsed": true
   },
   "outputs": [],
   "source": [
    "cur_skills = ['грамотная речь', 'самостоятельного поиска информации'] \n",
    "_next = \"Редактор\""
   ]
  },
  {
   "cell_type": "code",
   "execution_count": null,
   "metadata": {
    "ExecuteTime": {
     "end_time": "2018-02-15T01:03:50.057651Z",
     "start_time": "2018-02-15T01:03:49.409026Z"
    }
   },
   "outputs": [],
   "source": [
    "[i[0] for i in recommend_vac(_next, cur_skills)]"
   ]
  },
  {
   "cell_type": "code",
   "execution_count": null,
   "metadata": {
    "ExecuteTime": {
     "end_time": "2018-02-15T01:09:15.669122Z",
     "start_time": "2018-02-15T01:09:15.419201Z"
    },
    "collapsed": true
   },
   "outputs": [],
   "source": [
    "from plotly.plotly import iplot\n",
    "def draw(theme, cur_skills= None):\n",
    "    a = nx.DiGraph()\n",
    "\n",
    "    def get_all_ages(prof, used=None):\n",
    "        global k\n",
    "        if not used:\n",
    "            used = [prof]\n",
    "        else:\n",
    "            used.append(prof)\n",
    "\n",
    "        now = []\n",
    "\n",
    "        # {'Генеральный директор': 19}\n",
    "        for i in matrix_back[prof].most_common():\n",
    "            if i[0] not in used:  # False\n",
    "                rating_next = k[i[0]]  # 10\n",
    "                rating_now = k[prof]  # 9\n",
    "\n",
    "                if rating_next > rating_now and rating_now + 2 >= rating_next:\n",
    "                    now.append(i[0])\n",
    "\n",
    "                    if len(now) > 2:\n",
    "                        break\n",
    "        for j in now:\n",
    "            if prof and prof not in a:\n",
    "                a.add_node(prof)\n",
    "\n",
    "            if j and j not in a:\n",
    "                a.add_node(j)\n",
    "\n",
    "            if j:\n",
    "                a.add_edge(prof, j)\n",
    "\n",
    "            get_all_ages(j, used)\n",
    "\n",
    "    get_all_ages(theme)\n",
    "    p = nx.random_layout(a)\n",
    "    print(1)\n",
    "\n",
    "    new_p = {}\n",
    "    prev_level_count = defaultdict(lambda: 0)\n",
    "\n",
    "    for node in a.nodes():\n",
    "        # (Название, x, y)\n",
    "\n",
    "        i = [0, 0]\n",
    "        i[0] = k[node] + 0.03 * prev_level_count[k[node]]\n",
    "        i[1] = prev_level_count[k[node]]\n",
    "        prev_level_count[k[node]] += 1\n",
    "        new_p[node] = i\n",
    "    print(2)\n",
    "    p = new_p\n",
    "    \n",
    "    def _arrow(x, y, x2, y2):\n",
    "        return dict(\n",
    "            ax=x2,\n",
    "            ay=y2,\n",
    "            axref='x',\n",
    "            ayref='y',\n",
    "            x=x,\n",
    "            y=y,\n",
    "            xref='x',\n",
    "            yref='y',\n",
    "            showarrow=True,\n",
    "            arrowhead=2,\n",
    "            arrowsize=2,\n",
    "            arrowwidth=1,\n",
    "            arrowcolor='#636363'\n",
    "        )\n",
    "    arrows = []\n",
    "    for edge in a.edges():\n",
    "        x0, y0 = p[edge[0]]\n",
    "        x1, y1 = p[edge[1]]\n",
    "\n",
    "        arrows.append(_arrow(x1, y1, x0, y0))\n",
    "    print(3)\n",
    "    node_trace = Scatter(\n",
    "        x=[],\n",
    "        y=[],\n",
    "        text=[],\n",
    "        mode='markers',\n",
    "        hoverinfo='text',\n",
    "        showlegend = True,\n",
    "        marker=Marker(\n",
    "            showscale=True,\n",
    "            reversescale=True,\n",
    "            colorscale=\"YIGnBu\",\n",
    "            color=[],\n",
    "            size=20))\n",
    "    x_text, y_text, labels = [], [], []\n",
    "    \n",
    "    for node in a.nodes():\n",
    "        x, y = p[node]\n",
    "        x_text.append(x)\n",
    "        y_text.append(y)\n",
    "        \n",
    "        node_trace['x'].append(x)\n",
    "        node_trace['y'].append(y)\n",
    "        \n",
    "        if len(node.split()) > 1:\n",
    "            a = node.split()\n",
    "            a = a[:len(a)//2] + [\"<br>\"] + a[len(a)//2:]\n",
    "            labels.append(\" \".join(a))\n",
    "        else:\n",
    "            labels.append(node)\n",
    "            \n",
    "        if cur_skills:\n",
    "            if node == theme:\n",
    "                node_trace['text'].append(None)\n",
    "            else:\n",
    "                t = []\n",
    "                for i in recommend_vac(node, cur_skills):\n",
    "                    \n",
    "                    if len(i[0].split()) > 1:\n",
    "                        a = i[0].split()\n",
    "                        a = a[:len(a)//2] + [\"<br>\"] + a[len(a)//2:]\n",
    "                        t.append(\" \".join(a))\n",
    "                    else:\n",
    "                        t.append(i[0])\n",
    "\n",
    "                    \n",
    "                \n",
    "                node_trace['text'].append(\"<br><br>\".join(t))\n",
    "        \n",
    "        if node == theme:\n",
    "            node_trace['marker']['color'].append(\"red\")\n",
    "        else:\n",
    "            node_trace['marker']['color'].append(k[node])\n",
    "    print(4)\n",
    "    trace2 = Scatter(\n",
    "        x=x_text,\n",
    "        y=y_text,\n",
    "        mode='markers+text',\n",
    "        name='Markers and Text',\n",
    "        text=labels,\n",
    "        textposition='top',\n",
    "        hoverinfo='none',\n",
    "        showlegend = False,\n",
    "        marker=Marker(color=[],size=0)\n",
    "    )\n",
    "\n",
    "    data = [node_trace, trace2]\n",
    "    layout = Layout(showlegend=False, annotations=arrows)\n",
    "    fig = Figure(data=data, layout=layout)\n",
    "    return fig"
   ]
  },
  {
   "cell_type": "code",
   "execution_count": null,
   "metadata": {},
   "outputs": [],
   "source": [
    "init_notebook_mode(connected=True)"
   ]
  },
  {
   "cell_type": "code",
   "execution_count": null,
   "metadata": {
    "ExecuteTime": {
     "end_time": "2018-02-15T01:04:27.084936Z",
     "start_time": "2018-02-15T01:04:27.068876Z"
    }
   },
   "outputs": [],
   "source": [
    "iplot(draw(\"Журналист\"))"
   ]
  },
  {
   "cell_type": "markdown",
   "metadata": {},
   "source": [
    "# Нашы навыки"
   ]
  },
  {
   "cell_type": "markdown",
   "metadata": {},
   "source": [
    "----"
   ]
  },
  {
   "cell_type": "code",
   "execution_count": null,
   "metadata": {
    "ExecuteTime": {
     "end_time": "2018-02-14T20:43:44.999983Z",
     "start_time": "2018-02-14T20:43:44.993518Z"
    },
    "cell_style": "center",
    "deletable": false,
    "editable": false,
    "run_control": {
     "frozen": true
    }
   },
   "outputs": [],
   "source": [
    "our_skills = ['знание законодательства']\n",
    "get_theme(our_skills)"
   ]
  },
  {
   "cell_type": "code",
   "execution_count": null,
   "metadata": {
    "ExecuteTime": {
     "end_time": "2018-02-14T20:43:45.643059Z",
     "start_time": "2018-02-14T20:43:45.636136Z"
    },
    "cell_style": "center",
    "deletable": false,
    "editable": false,
    "run_control": {
     "frozen": true
    }
   },
   "outputs": [],
   "source": [
    "our_skills = ['грамотная речь', \n",
    "              'самостоятельного поиска информации'] \n",
    "get_theme(our_skills)"
   ]
  },
  {
   "cell_type": "code",
   "execution_count": null,
   "metadata": {
    "ExecuteTime": {
     "end_time": "2018-02-14T20:43:47.551753Z",
     "start_time": "2018-02-14T20:43:47.545683Z"
    },
    "cell_style": "center",
    "deletable": false,
    "editable": false,
    "run_control": {
     "frozen": true
    }
   },
   "outputs": [],
   "source": [
    "our_skills = ['сохранением конфиденциальности информации']\n",
    "get_theme(our_skills)"
   ]
  },
  {
   "cell_type": "code",
   "execution_count": null,
   "metadata": {
    "ExecuteTime": {
     "end_time": "2018-02-14T20:44:02.805593Z",
     "start_time": "2018-02-14T20:44:02.799315Z"
    },
    "deletable": false,
    "editable": false,
    "run_control": {
     "frozen": true
    }
   },
   "outputs": [],
   "source": [
    "our_skills = ['высшее профильное образование']\n",
    "get_theme(our_skills)"
   ]
  },
  {
   "cell_type": "code",
   "execution_count": null,
   "metadata": {
    "ExecuteTime": {
     "end_time": "2018-02-14T20:51:02.684880Z",
     "start_time": "2018-02-14T20:51:02.678917Z"
    },
    "deletable": false,
    "editable": false,
    "run_control": {
     "frozen": true
    }
   },
   "outputs": [],
   "source": [
    "our_skills = ['опыт работы аудитором']\n",
    "get_theme(our_skills)"
   ]
  },
  {
   "cell_type": "markdown",
   "metadata": {},
   "source": [
    "----"
   ]
  },
  {
   "cell_type": "markdown",
   "metadata": {},
   "source": [
    "# Какая карьрная лестница до аудитора?"
   ]
  },
  {
   "cell_type": "markdown",
   "metadata": {},
   "source": [
    "В гитхабе не видно, но это выглядит так:\n",
    "\n",
    "* эта штука интерактивная, подробности: .... *"
   ]
  },
  {
   "cell_type": "code",
   "execution_count": null,
   "metadata": {
    "ExecuteTime": {
     "end_time": "2018-02-15T09:20:16.369546Z",
     "start_time": "2018-02-15T09:20:16.364972Z"
    }
   },
   "outputs": [],
   "source": [
    "from IPython.display import Image\n",
    "Image(\"latest-screenshot.png\")"
   ]
  },
  {
   "cell_type": "code",
   "execution_count": null,
   "metadata": {
    "ExecuteTime": {
     "end_time": "2018-02-14T20:47:17.125621Z",
     "start_time": "2018-02-14T20:47:16.760027Z"
    },
    "deletable": false,
    "editable": false,
    "run_control": {
     "frozen": true
    }
   },
   "outputs": [],
   "source": [
    "draw_path(\"Аудитор\")"
   ]
  },
  {
   "cell_type": "markdown",
   "metadata": {},
   "source": [
    "# Ок, сервис, у меня таки навыки. Кем я буду дальше?"
   ]
  },
  {
   "cell_type": "code",
   "execution_count": null,
   "metadata": {
    "ExecuteTime": {
     "end_time": "2018-02-15T09:14:19.480080Z",
     "start_time": "2018-02-15T09:14:19.477673Z"
    },
    "cell_style": "center",
    "collapsed": true
   },
   "outputs": [],
   "source": [
    "our_skills = ['грамотная речь', 'организаторские способности']"
   ]
  },
  {
   "cell_type": "code",
   "execution_count": null,
   "metadata": {
    "ExecuteTime": {
     "end_time": "2018-02-15T09:14:19.957668Z",
     "start_time": "2018-02-15T09:14:19.935667Z"
    }
   },
   "outputs": [],
   "source": [
    "get_theme(our_skills)"
   ]
  },
  {
   "cell_type": "code",
   "execution_count": null,
   "metadata": {
    "ExecuteTime": {
     "end_time": "2018-02-15T09:14:33.798573Z",
     "start_time": "2018-02-15T09:14:26.902429Z"
    },
    "scrolled": false
   },
   "outputs": [],
   "source": [
    "iplot(draw(get_theme(our_skills),  our_skills))"
   ]
  },
  {
   "cell_type": "code",
   "execution_count": null,
   "metadata": {},
   "outputs": [],
   "source": [
    "get_theme([\"желание зарабатывать\", \"ответственность\"])"
   ]
  },
  {
   "cell_type": "code",
   "execution_count": null,
   "metadata": {
    "collapsed": true
   },
   "outputs": [],
   "source": [
    "def recommend_vac(_next, cur_skills_vec):\n",
    "    '''Рекоммендуем вакансию по скиллам'''\n",
    "    vecs = [to_vec(vacancy_by_name[i[1]]['clear_skills']) for i in similar_to_theme[_next]]\n",
    "\n",
    "    vecs = list(filter(lambda x: not np.isnan(x).all(), vecs))\n",
    "\n",
    "    sim = list(map(lambda x: float(cos_sim_theano_fn(x, cur_skills_vec)), vecs))\n",
    "    vacs = [vacancy_by_name[i[1]]['profession'] for i in similar_to_theme[_next]]\n",
    "\n",
    "    return Counter({x:y for x,y in zip(vacs, sim)}).most_common(3)"
   ]
  },
  {
   "cell_type": "code",
   "execution_count": null,
   "metadata": {
    "collapsed": true
   },
   "outputs": [],
   "source": [
    "from plotly.plotly import iplot\n",
    "def draw(theme, cur_skills= None):\n",
    "    a = nx.DiGraph()\n",
    "\n",
    "    def get_all_ages(prof, used=None):\n",
    "        global k\n",
    "        if not used:\n",
    "            used = [prof]\n",
    "        else:\n",
    "            used.append(prof)\n",
    "\n",
    "        now = []\n",
    "\n",
    "        # {'Генеральный директор': 19}\n",
    "        for i in matrix_back[prof].most_common():\n",
    "            if i[0] not in used:  # False\n",
    "                rating_next = k[i[0]]  # 10\n",
    "                rating_now = k[prof]  # 9\n",
    "\n",
    "                if rating_next > rating_now and rating_now + 2 >= rating_next:\n",
    "                    now.append(i[0])\n",
    "\n",
    "                    if len(now) > 2:\n",
    "                        break\n",
    "        for j in now:\n",
    "            if prof and prof not in a:\n",
    "                a.add_node(prof)\n",
    "\n",
    "            if j and j not in a:\n",
    "                a.add_node(j)\n",
    "\n",
    "            if j:\n",
    "                a.add_edge(prof, j)\n",
    "\n",
    "            get_all_ages(j, used)\n",
    "\n",
    "    get_all_ages(theme)\n",
    "    p = nx.random_layout(a)\n",
    "    print(1)\n",
    "\n",
    "    new_p = {}\n",
    "    prev_level_count = defaultdict(lambda: 0)\n",
    "\n",
    "    for node in a.nodes():\n",
    "        # (Название, x, y)\n",
    "\n",
    "        i = [0, 0]\n",
    "        i[0] = k[node] + 0.03 * prev_level_count[k[node]]\n",
    "        i[1] = prev_level_count[k[node]]\n",
    "        prev_level_count[k[node]] += 1\n",
    "        new_p[node] = i\n",
    "    print(2)\n",
    "    p = new_p\n",
    "    \n",
    "    def _arrow(x, y, x2, y2):\n",
    "        return dict(\n",
    "            ax=x2,\n",
    "            ay=y2,\n",
    "            axref='x',\n",
    "            ayref='y',\n",
    "            x=x,\n",
    "            y=y,\n",
    "            xref='x',\n",
    "            yref='y',\n",
    "            showarrow=True,\n",
    "            arrowhead=2,\n",
    "            arrowsize=2,\n",
    "            arrowwidth=1,\n",
    "            arrowcolor='#636363'\n",
    "        )\n",
    "    arrows = []\n",
    "    for edge in a.edges():\n",
    "        x0, y0 = p[edge[0]]\n",
    "        x1, y1 = p[edge[1]]\n",
    "\n",
    "        arrows.append(_arrow(x1, y1, x0, y0))\n",
    "    print(3)\n",
    "    node_trace = Scatter(\n",
    "        x=[],\n",
    "        y=[],\n",
    "        text=[],\n",
    "        mode='markers',\n",
    "        hoverinfo='text',\n",
    "        showlegend = True,\n",
    "        marker=Marker(\n",
    "            showscale=True,\n",
    "            reversescale=True,\n",
    "            colorscale=\"YIGnBu\",\n",
    "            color=[],\n",
    "            size=20))\n",
    "    x_text, y_text, labels = [], [], []\n",
    "    \n",
    "    cur_vec = to_vec(cur_skills)\n",
    "    \n",
    "    for node in tqdm(a.nodes()):\n",
    "        x, y = p[node]\n",
    "        x_text.append(x)\n",
    "        y_text.append(y)\n",
    "        \n",
    "        node_trace['x'].append(x)\n",
    "        node_trace['y'].append(y)\n",
    "        \n",
    "        if len(node.split()) > 1:\n",
    "            a = node.split()\n",
    "            a = a[:len(a)//2] + [\"<br>\"] + a[len(a)//2:]\n",
    "            labels.append(\" \".join(a))\n",
    "        else:\n",
    "            labels.append(node)\n",
    "            \n",
    "        if cur_skills:\n",
    "            if node == theme:\n",
    "                node_trace['text'].append(None)\n",
    "            else:\n",
    "                t = []\n",
    "                for i in recommend_vac(node, cur_vec):\n",
    "                    \n",
    "                    if len(i[0].split()) > 1:\n",
    "                        a = i[0].split()\n",
    "                        a = a[:len(a)//2] + [\"<br>\"] + a[len(a)//2:]\n",
    "                        t.append(\" \".join(a))\n",
    "                    else:\n",
    "                        t.append(i[0])\n",
    "\n",
    "                    \n",
    "                \n",
    "                node_trace['text'].append(\"<br><br>\".join(t))\n",
    "        \n",
    "        if node == theme:\n",
    "            node_trace['marker']['color'].append(\"red\")\n",
    "        else:\n",
    "            node_trace['marker']['color'].append(k[node])\n",
    "    print(4)\n",
    "    trace2 = Scatter(\n",
    "        x=x_text,\n",
    "        y=y_text,\n",
    "        mode='markers+text',\n",
    "        name='Markers and Text',\n",
    "        text=labels,\n",
    "        textposition='top',\n",
    "        hoverinfo='none',\n",
    "        showlegend = False,\n",
    "        marker=Marker(color=[],size=0)\n",
    "    )\n",
    "\n",
    "    data = [node_trace, trace2]\n",
    "    layout = Layout(showlegend=False, annotations=arrows)\n",
    "    fig = Figure(data=data, layout=layout)\n",
    "    return fig"
   ]
  },
  {
   "cell_type": "code",
   "execution_count": null,
   "metadata": {},
   "outputs": [],
   "source": [
    "iplot(draw(get_theme([\"желание зарабатывать\", \"ответственность\"]),  our_skills))"
   ]
  },
  {
   "cell_type": "code",
   "execution_count": null,
   "metadata": {
    "ExecuteTime": {
     "end_time": "2018-02-15T01:11:43.754847Z",
     "start_time": "2018-02-15T01:11:43.109899Z"
    },
    "deletable": false,
    "editable": false,
    "run_control": {
     "frozen": true
    }
   },
   "outputs": [],
   "source": [
    "cur_skills = ['грамотная речь', 'самостоятельного поиска информации'] \n",
    "_next = \"Редактор\"\n",
    "recommend_vac(_next, cur_skills)"
   ]
  },
  {
   "cell_type": "code",
   "execution_count": null,
   "metadata": {
    "collapsed": true
   },
   "outputs": [],
   "source": []
  }
 ],
 "metadata": {
  "kernelspec": {
   "display_name": "Python 3",
   "language": "python",
   "name": "python3"
  },
  "language_info": {
   "codemirror_mode": {
    "name": "ipython",
    "version": 3
   },
   "file_extension": ".py",
   "mimetype": "text/x-python",
   "name": "python",
   "nbconvert_exporter": "python",
   "pygments_lexer": "ipython3",
   "version": "3.6.3"
  }
 },
 "nbformat": 4,
 "nbformat_minor": 2
}
