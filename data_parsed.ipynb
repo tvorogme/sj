{
 "cells": [
  {
   "cell_type": "markdown",
   "metadata": {},
   "source": [
    "Загружем данные, достаём навыки из вакансий и матчим вакансии с работами в резюме"
   ]
  },
  {
   "cell_type": "code",
   "execution_count": 1,
   "metadata": {
    "ExecuteTime": {
     "end_time": "2018-02-13T22:39:49.452039Z",
     "start_time": "2018-02-13T22:39:49.072646Z"
    },
    "collapsed": true
   },
   "outputs": [],
   "source": [
    "import json\n",
    "from typing import List, Tuple, Sequence\n",
    "import pickle\n",
    "from tqdm import tqdm_notebook as tqdm\n",
    "import pymorphy2\n",
    "import nltk\n",
    "from cytoolz import pipe\n",
    "from collections import Counter\n",
    "import re\n",
    "import theano\n",
    "from collections import defaultdict\n",
    "from collections import Counter"
   ]
  },
  {
   "cell_type": "code",
   "execution_count": 2,
   "metadata": {
    "ExecuteTime": {
     "end_time": "2018-02-13T22:39:49.632021Z",
     "start_time": "2018-02-13T22:39:49.453750Z"
    },
    "code_folding": [
     11,
     15,
     27,
     34,
     38,
     47
    ],
    "collapsed": true
   },
   "outputs": [],
   "source": [
    "morph = pymorphy2.MorphAnalyzer()\n",
    "stopwords = nltk.corpus.stopwords.words(\n",
    "    'russian') + nltk.corpus.stopwords.words('english')\n",
    "stopwords += [\n",
    "    'отличный', 'метр', 'наш', 'клиент', 'банка', 'проект', 'литр',\n",
    "    'желательный', 'др', 'самый', 'мочь', 'хороший', 'год', 'чел', 'обязательный'\n",
    "]\n",
    "\n",
    "cache = {}\n",
    "\n",
    "\n",
    "def remove_numbers(text):\n",
    "    return re.sub(r'\\d+', '', text)\n",
    "\n",
    "\n",
    "def _get_POS(word):\n",
    "    if word not in cache:\n",
    "        cache[word] = morph.parse(word)[0]\n",
    "    return cache[word].tag.POS\n",
    "\n",
    "\n",
    "def normal_form(word):\n",
    "    if word not in cache:\n",
    "        cache[word] = morph.parse(word)[0]\n",
    "    return cache[word].normal_form\n",
    "\n",
    "\n",
    "def is_word_pos_in(word: str, pos: List[str] = None) -> bool:\n",
    "    if not pos:\n",
    "        pos = ['NOUN', \"ADJF\", 'INFN', 'VERB', 'ADJS']\n",
    "\n",
    "    return _get_POS(word) in pos\n",
    "\n",
    "\n",
    "def get_words(text):\n",
    "    return re.findall(r'\\w+', text)\n",
    "\n",
    "\n",
    "def nonempty(x):\n",
    "    if isinstance(x, Sequence):\n",
    "        return filter(lambda x: len(x) > 0 and x != ' ', x)\n",
    "    return x\n",
    "\n",
    "\n",
    "helper = {}\n",
    "\n",
    "\n",
    "def remove_numbers(text):\n",
    "    return re.sub(r'\\d+', '', text)\n",
    "\n",
    "\n",
    "def normalize_skill(skill: str):\n",
    "    parsed = tuple(\n",
    "        pipe(\n",
    "            skill,\n",
    "            lambda x: x.lower(),\n",
    "            remove_numbers,\n",
    "            get_words,\n",
    "        ))\n",
    "\n",
    "    clear_skill = []\n",
    "    dirty_skill = []\n",
    "\n",
    "    # Последнее стоп слово для dirty_skill\n",
    "    last_stopword = None\n",
    "\n",
    "    # Для каждого слова в скилле\n",
    "    for i in parsed:\n",
    "        # Нормализуем слово\n",
    "        word = normal_form(i)\n",
    "\n",
    "        # Если стоп слово - запомним его\n",
    "        if word in nltk.corpus.stopwords.words('russian'):\n",
    "            last_stopword = word\n",
    "\n",
    "            if word == \"без\":\n",
    "                clear_skill.append(word)\n",
    "\n",
    "        # Проверим на часть речи, длинну и стоплова\n",
    "        elif is_word_pos_in(word) and len(word) > 3 and word not in stopwords:\n",
    "\n",
    "            # Если до этого было стоп слово, добавим его в dirty\n",
    "            if last_stopword and len(dirty_skill) > 0:\n",
    "                dirty_skill.append(last_stopword)\n",
    "                last_stopword = None\n",
    "\n",
    "            # Добавим в чистый скилл слово\n",
    "            clear_skill.append(word)\n",
    "\n",
    "            if is_word_pos_in(word, ['NOUN', 'ADJF']):\n",
    "                dirty_skill.append(i)\n",
    "\n",
    "    if len(clear_skill) > 1 and len(clear_skill) < 8:\n",
    "        return clear_skill, dirty_skill\n",
    "\n",
    "    else:\n",
    "        return []"
   ]
  },
  {
   "cell_type": "code",
   "execution_count": 3,
   "metadata": {
    "ExecuteTime": {
     "end_time": "2018-02-13T22:39:49.661470Z",
     "start_time": "2018-02-13T22:39:49.633250Z"
    },
    "code_folding": [
     0
    ],
    "collapsed": true
   },
   "outputs": [],
   "source": [
    "def split_skill(a):\n",
    "    '''Рассказ о программистах или о жизни -> рассказ о программистах, рассказ о жизни'''\n",
    "    main_skill = a\n",
    "\n",
    "    def repl(x): return x.replace(',', '|').replace(\n",
    "        ' или ', '|').replace(' и ', '|').replace('/', '|').split('|')\n",
    "\n",
    "    first_match = re.match(r'([а-яА-ЯA-Za-z\\-\\s]*([,и\\/]|или)\\s)', a)\n",
    "\n",
    "    if first_match:\n",
    "        first_match = first_match.group()\n",
    "        a = repl(a.replace(first_match, ''))\n",
    "\n",
    "        for i in a:\n",
    "            if len(i.split()) > 4:\n",
    "                return repl(main_skill)\n",
    "\n",
    "        variants = first_match.replace(',', ' ').replace(\n",
    "            ' или ', ' ').replace(' и ', ' ').replace('/', ' ')\n",
    "        variants = list(filter(len, variants.split(' ')))\n",
    "        if len(variants) > 1:\n",
    "            main_phrase = variants[:-1]\n",
    "            a.append(variants[-1])\n",
    "\n",
    "            skills = []\n",
    "\n",
    "            for i in a:\n",
    "                skills.append(\" \".join(main_phrase + [i]))\n",
    "            return skills\n",
    "        else:\n",
    "            return a + variants\n",
    "    else:\n",
    "        return [a]"
   ]
  },
  {
   "cell_type": "code",
   "execution_count": 4,
   "metadata": {
    "ExecuteTime": {
     "end_time": "2018-02-13T22:39:49.727134Z",
     "start_time": "2018-02-13T22:39:49.707637Z"
    },
    "code_folding": [
     0
    ],
    "collapsed": true
   },
   "outputs": [],
   "source": [
    "def split_into_skills(text: str) -> List[str]:\n",
    "    def _split_into_skills(x):\n",
    "        x = re.sub(r'([А-ЯA-Z])', r'\\n\\1', text)\n",
    "        return re.split(r'[\\n\\.,]', x)\n",
    "\n",
    "    pre_skills = list(nonempty(_split_into_skills(text)))\n",
    "    done_skills = []\n",
    "\n",
    "    for skill in pre_skills:\n",
    "        skill = skill.replace('/', ' / ').replace(\"\\xa0\", \" \")\n",
    "        if len(re.findall(\"\\([а-яА-ЯA-Za-z\\-\\s]*\\)\", skill)) > 0:\n",
    "            skill1 = re.findall(r'\\([а-яА-ЯA-Za-z\\-\\s]*\\)', skill)[0]\n",
    "            skill2 = re.findall(r'[а-яА-ЯA-Za-z\\-\\s]*\\(', skill)[0][:-1]\n",
    "            done_skills.extend([skill1, skill2])\n",
    "        elif len(re.findall(\"([а-яА-ЯA-Za-z\\-\\s]*([и\\/]|или)\\s[а-яА-ЯA-Za-z\\-])\", skill)) > 0:\n",
    "            new_skills = split_skill(skill)\n",
    "            if new_skills:\n",
    "                done_skills.extend(new_skills)\n",
    "\n",
    "        else:\n",
    "            done_skills.append(skill)\n",
    "    return done_skills"
   ]
  },
  {
   "cell_type": "code",
   "execution_count": 5,
   "metadata": {
    "ExecuteTime": {
     "end_time": "2018-02-13T22:39:50.238378Z",
     "start_time": "2018-02-13T22:39:50.228725Z"
    },
    "code_folding": [],
    "collapsed": true
   },
   "outputs": [],
   "source": [
    "from joblib import delayed, Parallel\n",
    "\n",
    "def parallel(f, data):\n",
    "    \"\"\"Run parallel your func on all CPU\"\"\"\n",
    "    \n",
    "    return Parallel(n_jobs=-1, verbose=3, max_nbytes='1G')(delayed(f)(x) for x in data)"
   ]
  },
  {
   "cell_type": "code",
   "execution_count": 6,
   "metadata": {
    "ExecuteTime": {
     "end_time": "2018-02-13T22:39:50.249141Z",
     "start_time": "2018-02-13T22:39:50.239469Z"
    },
    "code_folding": [
     0
    ],
    "collapsed": true
   },
   "outputs": [],
   "source": [
    "def load_resume_vacancy() -> Tuple[List[dict], List[dict]]:\n",
    "    \"\"\"Loads JSON data of SuperJob\"\"\"\n",
    "\n",
    "    def load_json_by_lines(file):\n",
    "        tmp = []\n",
    "        \n",
    "        with open(file) as f:\n",
    "            for line in tqdm(f.read().split(\"\\n\")):\n",
    "                if len(line) > 0:\n",
    "                    tmp.append(json.loads(line))\n",
    "        return tmp\n",
    "    \n",
    "    resume = load_json_by_lines(\"data/resume.json\")\n",
    "    vacancy = load_json_by_lines(\"data/vacancy.json\")\n",
    "    \n",
    "    return resume, vacancy"
   ]
  },
  {
   "cell_type": "code",
   "execution_count": null,
   "metadata": {
    "ExecuteTime": {
     "end_time": "2018-02-12T21:55:26.226797Z",
     "start_time": "2018-02-12T21:52:46.488011Z"
    },
    "collapsed": true,
    "deletable": false,
    "editable": false,
    "run_control": {
     "frozen": true
    }
   },
   "outputs": [],
   "source": [
    "resume, vacancy = load_resume_vacancy()"
   ]
  },
  {
   "cell_type": "code",
   "execution_count": null,
   "metadata": {
    "ExecuteTime": {
     "end_time": "2018-02-12T22:11:54.920831Z",
     "start_time": "2018-02-12T22:11:18.533864Z"
    },
    "collapsed": true,
    "deletable": false,
    "editable": false,
    "run_control": {
     "frozen": true
    }
   },
   "outputs": [],
   "source": [
    "pickle.dump(resume, open(\"resume.pck\", \"wb\"))\n",
    "pickle.dump(vacancy, open(\"vacancy.pck\", \"wb\"))"
   ]
  },
  {
   "cell_type": "code",
   "execution_count": 7,
   "metadata": {
    "ExecuteTime": {
     "end_time": "2018-02-13T22:40:00.272027Z",
     "start_time": "2018-02-13T22:39:51.715701Z"
    },
    "collapsed": true
   },
   "outputs": [],
   "source": [
    "resume = pickle.load(open(\"resume.pck\", \"rb\"))\n",
    "vacancy = pickle.load(open(\"vacancy.pck\", \"rb\"))"
   ]
  },
  {
   "cell_type": "code",
   "execution_count": 8,
   "metadata": {
    "ExecuteTime": {
     "end_time": "2018-02-13T22:40:00.282735Z",
     "start_time": "2018-02-13T22:40:00.273282Z"
    },
    "code_folding": [],
    "collapsed": true
   },
   "outputs": [],
   "source": [
    "def add_skills(vac):\n",
    "    vac = vac.copy()\n",
    "    skills = split_into_skills(vac['candidat'])\n",
    "\n",
    "    clear_skills, dirty_skills = [], []\n",
    "    \n",
    "    for skill in skills:\n",
    "        normalized = normalize_skill(skill)\n",
    "        \n",
    "        if len(normalized) > 0:\n",
    "            clear_skills.append(\" \".join(normalized[0]))\n",
    "            dirty_skills.append(\" \".join(normalized[1]))\n",
    "        \n",
    "    vac['clear_skills'] = clear_skills\n",
    "    vac['dirty_skills'] = dirty_skills\n",
    "    \n",
    "    return vac"
   ]
  },
  {
   "cell_type": "code",
   "execution_count": null,
   "metadata": {
    "ExecuteTime": {
     "end_time": "2018-02-13T20:54:58.483789Z",
     "start_time": "2018-02-13T20:54:56.741589Z"
    },
    "collapsed": true,
    "deletable": false,
    "editable": false,
    "run_control": {
     "frozen": true
    }
   },
   "outputs": [],
   "source": [
    "data = []\n",
    "\n",
    "for vac in tqdm(vacancy):\n",
    "    data.append(add_skills(vac))"
   ]
  },
  {
   "cell_type": "code",
   "execution_count": null,
   "metadata": {
    "ExecuteTime": {
     "end_time": "2018-02-13T20:54:58.484810Z",
     "start_time": "2018-02-13T20:54:49.739Z"
    },
    "collapsed": true,
    "deletable": false,
    "editable": false,
    "run_control": {
     "frozen": true
    }
   },
   "outputs": [],
   "source": [
    "pickle.dump(data, open(\"vacancy_with_skills.pck\", \"wb\"))"
   ]
  },
  {
   "cell_type": "code",
   "execution_count": 251,
   "metadata": {
    "ExecuteTime": {
     "end_time": "2018-02-14T11:23:01.666176Z",
     "start_time": "2018-02-14T11:22:53.740478Z"
    },
    "collapsed": true
   },
   "outputs": [],
   "source": [
    "vacancy = pickle.load(open(\"vacancy_with_skills.pck\", \"rb\"))"
   ]
  },
  {
   "cell_type": "code",
   "execution_count": 10,
   "metadata": {
    "ExecuteTime": {
     "end_time": "2018-02-13T22:40:05.554192Z",
     "start_time": "2018-02-13T22:40:05.395009Z"
    },
    "collapsed": true
   },
   "outputs": [],
   "source": [
    "themes = defaultdict(lambda: [])\n",
    "dirty_to_normal = {}\n",
    "\n",
    "for d in data:\n",
    "    themes[d['profession_tree_name']].extend(d['dirty_skills'])"
   ]
  },
  {
   "cell_type": "code",
   "execution_count": 11,
   "metadata": {
    "ExecuteTime": {
     "end_time": "2018-02-13T22:40:05.643825Z",
     "start_time": "2018-02-13T22:40:05.555334Z"
    },
    "collapsed": true
   },
   "outputs": [],
   "source": [
    "works = []\n",
    "\n",
    "for i in resume:\n",
    "    works.extend(i['work_history'])"
   ]
  },
  {
   "cell_type": "code",
   "execution_count": null,
   "metadata": {
    "ExecuteTime": {
     "end_time": "2018-02-13T20:55:17.637255Z",
     "start_time": "2018-02-13T20:55:17.635318Z"
    },
    "collapsed": true,
    "deletable": false,
    "editable": false,
    "run_control": {
     "frozen": true
    }
   },
   "outputs": [],
   "source": [
    "words = set()"
   ]
  },
  {
   "cell_type": "code",
   "execution_count": null,
   "metadata": {
    "ExecuteTime": {
     "end_time": "2018-02-13T20:55:21.692854Z",
     "start_time": "2018-02-13T20:55:17.947147Z"
    },
    "collapsed": true,
    "deletable": false,
    "editable": false,
    "run_control": {
     "frozen": true
    }
   },
   "outputs": [],
   "source": [
    "for work in tqdm(works):\n",
    "    work_words = list(filter(lambda x: x not in stopwords, get_words(remove_numbers(work['work'].lower()))))\n",
    "    words |= set(work_words)"
   ]
  },
  {
   "cell_type": "code",
   "execution_count": null,
   "metadata": {
    "collapsed": true,
    "deletable": false,
    "editable": false,
    "run_control": {
     "frozen": true
    }
   },
   "outputs": [],
   "source": [
    "for vac in tqdm(vacancy):\n",
    "    vac_words = list(filter(lambda x: x not in stopwords, get_words(remove_numbers(vac['work'].lower()))))\n",
    "    words |= set(vac_words)"
   ]
  },
  {
   "cell_type": "code",
   "execution_count": null,
   "metadata": {
    "collapsed": true,
    "deletable": false,
    "editable": false,
    "run_control": {
     "frozen": true
    }
   },
   "outputs": [],
   "source": [
    "pickle.dump(words, open(\"words.pck\", \"wb\"))"
   ]
  },
  {
   "cell_type": "code",
   "execution_count": 12,
   "metadata": {
    "ExecuteTime": {
     "end_time": "2018-02-13T22:40:05.729876Z",
     "start_time": "2018-02-13T22:40:05.644979Z"
    },
    "collapsed": true
   },
   "outputs": [],
   "source": [
    "words = pickle.load(open(\"words.pck\", \"rb\"))"
   ]
  },
  {
   "cell_type": "code",
   "execution_count": 13,
   "metadata": {
    "ExecuteTime": {
     "end_time": "2018-02-13T22:40:06.097641Z",
     "start_time": "2018-02-13T22:40:05.730997Z"
    },
    "collapsed": true
   },
   "outputs": [],
   "source": [
    "import gensim\n",
    "import numpy as np"
   ]
  },
  {
   "cell_type": "code",
   "execution_count": 14,
   "metadata": {
    "ExecuteTime": {
     "end_time": "2018-02-13T22:40:19.615102Z",
     "start_time": "2018-02-13T22:40:06.098975Z"
    },
    "collapsed": true
   },
   "outputs": [],
   "source": [
    "model = gensim.models.KeyedVectors.load_word2vec_format(\"ruwikiruscorpora_upos_cbow_300_20_2017.bin.gz\", binary=True)"
   ]
  },
  {
   "cell_type": "code",
   "execution_count": 15,
   "metadata": {
    "ExecuteTime": {
     "end_time": "2018-02-13T22:40:19.621850Z",
     "start_time": "2018-02-13T22:40:19.616260Z"
    },
    "collapsed": true
   },
   "outputs": [],
   "source": [
    "tmp_vector = np.array([0] * 300, dtype=np.float32)\n",
    "\n",
    "def _word2vec(word):\n",
    "    for i in [\"_NOUN\", \"_ADJ\", \"_VERB\"]:\n",
    "        tmp = \"{}{}\".format(word, i)\n",
    "        \n",
    "        if tmp in model:\n",
    "            return model[tmp]\n",
    "        else:\n",
    "            return tmp_vector"
   ]
  },
  {
   "cell_type": "code",
   "execution_count": null,
   "metadata": {
    "collapsed": true,
    "deletable": false,
    "editable": false,
    "run_control": {
     "frozen": true
    }
   },
   "outputs": [],
   "source": [
    "cahce = {}\n",
    "\n",
    "for word in tqdm(words):\n",
    "    normal_form = morph.parse(word)[0].normal_form\n",
    "    cahce[word] = _word2vec(normal_form)\n",
    "    "
   ]
  },
  {
   "cell_type": "code",
   "execution_count": null,
   "metadata": {
    "collapsed": true,
    "deletable": false,
    "editable": false,
    "run_control": {
     "frozen": true
    }
   },
   "outputs": [],
   "source": [
    "pickle.dump(cahce, open(\"cahce.pck\", \"wb\"))"
   ]
  },
  {
   "cell_type": "code",
   "execution_count": 16,
   "metadata": {
    "ExecuteTime": {
     "end_time": "2018-02-13T22:40:20.005833Z",
     "start_time": "2018-02-13T22:40:19.622813Z"
    },
    "collapsed": true
   },
   "outputs": [],
   "source": [
    "cahce = pickle.load(open(\"cahce.pck\", \"rb\"))"
   ]
  },
  {
   "cell_type": "code",
   "execution_count": null,
   "metadata": {
    "collapsed": true,
    "deletable": false,
    "editable": false,
    "run_control": {
     "frozen": true
    }
   },
   "outputs": [],
   "source": [
    "for work in tqdm(works):\n",
    "    words = list(filter(lambda x: x not in stopwords, get_words(remove_numbers(work['work'].lower()))))\n",
    "    work['vec'] = np.mean([cahce[word] for word in words], axis=0)"
   ]
  },
  {
   "cell_type": "code",
   "execution_count": null,
   "metadata": {
    "collapsed": true,
    "deletable": false,
    "editable": false,
    "run_control": {
     "frozen": true
    }
   },
   "outputs": [],
   "source": [
    "pickle.dump(works, open(\"works_with_vecs.pck\", \"wb\"))"
   ]
  },
  {
   "cell_type": "code",
   "execution_count": 183,
   "metadata": {
    "ExecuteTime": {
     "end_time": "2018-02-14T10:30:06.450318Z",
     "start_time": "2018-02-14T10:30:03.121614Z"
    },
    "collapsed": true
   },
   "outputs": [],
   "source": [
    "works = pickle.load(open(\"works_with_vecs.pck\", \"rb\"))"
   ]
  },
  {
   "cell_type": "code",
   "execution_count": null,
   "metadata": {
    "collapsed": true,
    "deletable": false,
    "editable": false,
    "run_control": {
     "frozen": true
    }
   },
   "outputs": [],
   "source": [
    "for vac in tqdm(vacancy):\n",
    "    words = list(filter(lambda x: x not in stopwords, get_words(remove_numbers(vac['work'].lower()))))\n",
    "    vac['vec'] = np.mean([cahce[word] for word in words], axis=0)"
   ]
  },
  {
   "cell_type": "code",
   "execution_count": null,
   "metadata": {
    "collapsed": true,
    "deletable": false,
    "editable": false,
    "run_control": {
     "frozen": true
    }
   },
   "outputs": [],
   "source": [
    "pickle.dump(vacancy, open(\"vacancy_with_vecs.pck\", \"wb\"))"
   ]
  },
  {
   "cell_type": "code",
   "execution_count": 252,
   "metadata": {
    "ExecuteTime": {
     "end_time": "2018-02-14T11:23:18.653256Z",
     "start_time": "2018-02-14T11:23:16.375800Z"
    },
    "collapsed": true
   },
   "outputs": [],
   "source": [
    "vacancy2 = pickle.load(open(\"vacancy_with_vecs.pck\", \"rb\"))"
   ]
  },
  {
   "cell_type": "code",
   "execution_count": 253,
   "metadata": {
    "ExecuteTime": {
     "end_time": "2018-02-14T11:23:47.598173Z",
     "start_time": "2018-02-14T11:23:47.467348Z"
    },
    "collapsed": true
   },
   "outputs": [],
   "source": [
    "vacancy_by_name = {vac['id']: vac for vac in vacancy}"
   ]
  },
  {
   "cell_type": "code",
   "execution_count": 254,
   "metadata": {
    "ExecuteTime": {
     "end_time": "2018-02-14T11:24:06.441288Z",
     "start_time": "2018-02-14T11:24:06.242693Z"
    },
    "collapsed": true,
    "deletable": false,
    "editable": false,
    "run_control": {
     "frozen": true
    }
   },
   "outputs": [],
   "source": [
    "for vac in vacancy2:\n",
    "    vacancy_by_name[vac['id']]['vac'] = vac['vec']"
   ]
  },
  {
   "cell_type": "code",
   "execution_count": 344,
   "metadata": {
    "ExecuteTime": {
     "end_time": "2018-02-14T12:25:23.839178Z",
     "start_time": "2018-02-14T12:25:19.295523Z"
    },
    "collapsed": true,
    "deletable": false,
    "editable": false,
    "run_control": {
     "frozen": true
    }
   },
   "outputs": [],
   "source": [
    "pickle.dump(vacancy_by_name, open(\"vacancy_by_name.pck\", \"wb\"))"
   ]
  },
  {
   "cell_type": "code",
   "execution_count": 255,
   "metadata": {
    "ExecuteTime": {
     "end_time": "2018-02-14T11:24:47.989793Z",
     "start_time": "2018-02-14T11:24:23.499324Z"
    }
   },
   "outputs": [
    {
     "data": {
      "application/vnd.jupyter.widget-view+json": {
       "model_id": "4e26a0bda131431da49b59c4f2d090e0",
       "version_major": 2,
       "version_minor": 0
      },
      "text/plain": [
       "A Jupyter Widget"
      ]
     },
     "metadata": {},
     "output_type": "display_data"
    },
    {
     "name": "stdout",
     "output_type": "stream",
     "text": [
      "\n"
     ]
    }
   ],
   "source": [
    "vac_text_by_theme = defaultdict(lambda: [])\n",
    "\n",
    "for vac in tqdm(vacancy_by_name):\n",
    "    vac = vacancy_by_name[vac]\n",
    "    vac_text_by_theme[vac['profession_tree_name']].append(list(\n",
    "        map(normal_form, filter(lambda x: x not in stopwords, get_words(remove_numbers(vac['work'].lower()))))))"
   ]
  },
  {
   "cell_type": "code",
   "execution_count": 24,
   "metadata": {
    "ExecuteTime": {
     "end_time": "2018-02-14T08:31:46.656232Z",
     "start_time": "2018-02-14T08:31:46.654015Z"
    },
    "collapsed": true
   },
   "outputs": [],
   "source": [
    "from gensim.models import TfidfModel\n",
    "from gensim.corpora import Dictionary"
   ]
  },
  {
   "cell_type": "code",
   "execution_count": 42,
   "metadata": {
    "ExecuteTime": {
     "end_time": "2018-02-14T08:43:56.144551Z",
     "start_time": "2018-02-14T08:43:55.684942Z"
    },
    "collapsed": true
   },
   "outputs": [],
   "source": [
    "uniq_words = set()\n",
    "\n",
    "for i in vac_text_by_theme:\n",
    "    for vac in vac_text_by_theme[i]:\n",
    "        uniq_words |= set(vac)"
   ]
  },
  {
   "cell_type": "code",
   "execution_count": 53,
   "metadata": {
    "ExecuteTime": {
     "end_time": "2018-02-14T08:50:09.712887Z",
     "start_time": "2018-02-14T08:50:09.697393Z"
    },
    "collapsed": true
   },
   "outputs": [],
   "source": [
    "def get_tfidf(theme):\n",
    "    tmp = []\n",
    "\n",
    "    for i in vac_text_by_theme[theme]:\n",
    "        tmp.extend(i)\n",
    "\n",
    "    tf = Counter(tmp)\n",
    "\n",
    "    for j in tf:\n",
    "        tf[j] /= len(tmp)\n",
    "\n",
    "    for word in tf:\n",
    "        idf = np.log(len(vac_text_by_theme[theme])/ sum([word in doc for doc in vac_text_by_theme[theme]]))\n",
    "        tf[word] *= idf\n",
    "\n",
    "    return tf"
   ]
  },
  {
   "cell_type": "code",
   "execution_count": 54,
   "metadata": {
    "ExecuteTime": {
     "end_time": "2018-02-14T08:50:58.471958Z",
     "start_time": "2018-02-14T08:50:58.314555Z"
    },
    "collapsed": true
   },
   "outputs": [],
   "source": [
    "themes = set()\n",
    "\n",
    "for vac in vacancy:\n",
    "    themes |= set([vac['profession_tree_name']])"
   ]
  },
  {
   "cell_type": "code",
   "execution_count": 56,
   "metadata": {
    "ExecuteTime": {
     "end_time": "2018-02-14T08:58:46.056569Z",
     "start_time": "2018-02-14T08:51:32.992757Z"
    },
    "deletable": false,
    "editable": false,
    "run_control": {
     "frozen": true
    }
   },
   "outputs": [
    {
     "data": {
      "application/vnd.jupyter.widget-view+json": {
       "model_id": "6a95233181054632a81948ec26e15011",
       "version_major": 2,
       "version_minor": 0
      },
      "text/plain": [
       "A Jupyter Widget"
      ]
     },
     "metadata": {},
     "output_type": "display_data"
    },
    {
     "name": "stdout",
     "output_type": "stream",
     "text": [
      "\n"
     ]
    }
   ],
   "source": [
    "tfidf_by_theme = {}\n",
    "\n",
    "for theme in tqdm(themes):\n",
    "    tfidf_by_theme[theme] = get_tfidf(theme)"
   ]
  },
  {
   "cell_type": "code",
   "execution_count": 58,
   "metadata": {
    "ExecuteTime": {
     "end_time": "2018-02-14T08:58:49.299998Z",
     "start_time": "2018-02-14T08:58:48.389012Z"
    },
    "collapsed": true,
    "deletable": false,
    "editable": false,
    "run_control": {
     "frozen": true
    }
   },
   "outputs": [],
   "source": [
    "pickle.dump(tfidf_by_theme, open(\"tfidf_by_theme.pck\", \"wb\"))"
   ]
  },
  {
   "cell_type": "code",
   "execution_count": 61,
   "metadata": {
    "ExecuteTime": {
     "end_time": "2018-02-14T08:59:34.508328Z",
     "start_time": "2018-02-14T08:59:34.502603Z"
    }
   },
   "outputs": [
    {
     "data": {
      "text/plain": [
       "[('работа', 0.022307421858022796),\n",
       " ('продажа', 0.021950147772064409),\n",
       " ('ведение', 0.020618958264782841),\n",
       " ('компания', 0.019961008935604898),\n",
       " ('клиент', 0.01944525647462917),\n",
       " ('контроль', 0.019364919817266072),\n",
       " ('база', 0.018261795390999546),\n",
       " ('договор', 0.017776226844607307),\n",
       " ('проведение', 0.017389752815440362),\n",
       " ('услуга', 0.017233408579110175)]"
      ]
     },
     "execution_count": 61,
     "metadata": {},
     "output_type": "execute_result"
    }
   ],
   "source": [
    "tfidf_by_theme['Менеджер по продажам'].most_common(10)"
   ]
  },
  {
   "cell_type": "code",
   "execution_count": 195,
   "metadata": {
    "ExecuteTime": {
     "end_time": "2018-02-14T10:36:27.777452Z",
     "start_time": "2018-02-14T10:35:00.831183Z"
    },
    "deletable": false,
    "editable": false,
    "run_control": {
     "frozen": true
    }
   },
   "outputs": [
    {
     "data": {
      "application/vnd.jupyter.widget-view+json": {
       "model_id": "359b651b204e47b2ae62857cd8824283",
       "version_major": 2,
       "version_minor": 0
      },
      "text/plain": [
       "A Jupyter Widget"
      ]
     },
     "metadata": {},
     "output_type": "display_data"
    },
    {
     "name": "stdout",
     "output_type": "stream",
     "text": [
      "\n"
     ]
    }
   ],
   "source": [
    "for work in tqdm(works):\n",
    "    text = list(map(normal_form, filter(lambda x: x not in stopwords, get_words(remove_numbers(work['work'].lower())))))\n",
    "    work['clear'] = text"
   ]
  },
  {
   "cell_type": "code",
   "execution_count": 196,
   "metadata": {
    "ExecuteTime": {
     "end_time": "2018-02-14T10:36:41.681871Z",
     "start_time": "2018-02-14T10:36:32.462246Z"
    },
    "collapsed": true,
    "deletable": false,
    "editable": false,
    "run_control": {
     "frozen": true
    }
   },
   "outputs": [],
   "source": [
    "pickle.dump(works, open(\"works_with_vecs.pck\", \"wb\"))"
   ]
  },
  {
   "cell_type": "code",
   "execution_count": null,
   "metadata": {
    "collapsed": true
   },
   "outputs": [],
   "source": []
  },
  {
   "cell_type": "code",
   "execution_count": 105,
   "metadata": {
    "ExecuteTime": {
     "end_time": "2018-02-14T09:17:59.284418Z",
     "start_time": "2018-02-14T09:17:59.039894Z"
    },
    "collapsed": true
   },
   "outputs": [],
   "source": [
    "for theme in tfidf_by_theme:\n",
    "    g = {}\n",
    "\n",
    "    for x in tfidf_by_theme[theme].most_common():\n",
    "        if len(x) > 1:\n",
    "            g[x[0]] = x[1]\n",
    "    \n",
    "    tfidf_by_theme[theme] = g"
   ]
  },
  {
   "cell_type": "code",
   "execution_count": 191,
   "metadata": {
    "ExecuteTime": {
     "end_time": "2018-02-14T10:33:51.328050Z",
     "start_time": "2018-02-14T10:33:51.043207Z"
    }
   },
   "outputs": [
    {
     "data": {
      "application/vnd.jupyter.widget-view+json": {
       "model_id": "e173c00f93a24a37a8499283c87372f9",
       "version_major": 2,
       "version_minor": 0
      },
      "text/plain": [
       "A Jupyter Widget"
      ]
     },
     "metadata": {},
     "output_type": "display_data"
    },
    {
     "name": "stdout",
     "output_type": "stream",
     "text": [
      "\n"
     ]
    }
   ],
   "source": [
    "a = 1\n",
    "for work in tqdm(works):\n",
    "    work['id'] = a\n",
    "    a += 1"
   ]
  },
  {
   "cell_type": "code",
   "execution_count": 206,
   "metadata": {
    "ExecuteTime": {
     "end_time": "2018-02-14T10:58:03.344814Z",
     "start_time": "2018-02-14T10:58:03.332275Z"
    },
    "collapsed": true
   },
   "outputs": [],
   "source": [
    "most = {}\n",
    "\n",
    "def f(work):\n",
    "    matrix = defaultdict(lambda: {})\n",
    "    text = Counter(work['clear'])\n",
    "    \n",
    "    for theme in tfidf_by_theme:\n",
    "        for word in text:\n",
    "            if word in tfidf_by_theme[theme]:\n",
    "                matrix[theme][word] = text[word] * tfidf_by_theme[theme][word]\n",
    "            else:\n",
    "                matrix[theme][word] = 0\n",
    "            \n",
    "    for key in matrix:\n",
    "        matrix[key] = sum([matrix[key][val] for val in matrix[key]])\n",
    "    \n",
    "    return work['id'], Counter(matrix).most_common()"
   ]
  },
  {
   "cell_type": "code",
   "execution_count": 207,
   "metadata": {
    "ExecuteTime": {
     "end_time": "2018-02-14T11:04:17.821761Z",
     "start_time": "2018-02-14T10:58:07.255157Z"
    },
    "deletable": false,
    "editable": false,
    "run_control": {
     "frozen": true
    }
   },
   "outputs": [
    {
     "name": "stderr",
     "output_type": "stream",
     "text": [
      "[Parallel(n_jobs=-1)]: Done   8 tasks      | elapsed:    0.0s\n",
      "[Parallel(n_jobs=-1)]: Done 3096 tasks      | elapsed:    2.7s\n",
      "[Parallel(n_jobs=-1)]: Done 10776 tasks      | elapsed:    8.3s\n",
      "[Parallel(n_jobs=-1)]: Done 21528 tasks      | elapsed:   16.3s\n",
      "[Parallel(n_jobs=-1)]: Done 35352 tasks      | elapsed:   27.1s\n",
      "[Parallel(n_jobs=-1)]: Done 52248 tasks      | elapsed:   40.4s\n",
      "[Parallel(n_jobs=-1)]: Done 72216 tasks      | elapsed:   56.8s\n",
      "[Parallel(n_jobs=-1)]: Done 95256 tasks      | elapsed:  1.3min\n",
      "[Parallel(n_jobs=-1)]: Done 121368 tasks      | elapsed:  1.6min\n",
      "[Parallel(n_jobs=-1)]: Done 150552 tasks      | elapsed:  2.0min\n",
      "[Parallel(n_jobs=-1)]: Done 182808 tasks      | elapsed:  2.4min\n",
      "[Parallel(n_jobs=-1)]: Done 218136 tasks      | elapsed:  2.8min\n",
      "[Parallel(n_jobs=-1)]: Done 256536 tasks      | elapsed:  3.3min\n",
      "[Parallel(n_jobs=-1)]: Done 283440 tasks      | elapsed:  3.8min\n",
      "[Parallel(n_jobs=-1)]: Done 305712 tasks      | elapsed:  4.1min\n",
      "[Parallel(n_jobs=-1)]: Done 329520 tasks      | elapsed:  4.4min\n",
      "[Parallel(n_jobs=-1)]: Done 354864 tasks      | elapsed:  4.7min\n",
      "[Parallel(n_jobs=-1)]: Done 381744 tasks      | elapsed:  5.0min\n",
      "[Parallel(n_jobs=-1)]: Done 410160 tasks      | elapsed:  5.4min\n",
      "[Parallel(n_jobs=-1)]: Done 440112 tasks      | elapsed:  5.7min\n",
      "[Parallel(n_jobs=-1)]: Done 448769 out of 448769 | elapsed:  5.8min finished\n"
     ]
    }
   ],
   "source": [
    "data = parallel(f, works)"
   ]
  },
  {
   "cell_type": "code",
   "execution_count": 208,
   "metadata": {
    "ExecuteTime": {
     "end_time": "2018-02-14T11:04:20.651028Z",
     "start_time": "2018-02-14T11:04:20.444746Z"
    },
    "collapsed": true,
    "deletable": false,
    "editable": false,
    "run_control": {
     "frozen": true
    }
   },
   "outputs": [],
   "source": [
    "data = {x[0]: x[1] for x in data}"
   ]
  },
  {
   "cell_type": "code",
   "execution_count": 209,
   "metadata": {
    "ExecuteTime": {
     "end_time": "2018-02-14T11:08:03.678554Z",
     "start_time": "2018-02-14T11:04:22.083759Z"
    },
    "collapsed": true,
    "deletable": false,
    "editable": false,
    "run_control": {
     "frozen": true
    }
   },
   "outputs": [],
   "source": [
    "pickle.dump(data, open(\"data.pck\", \"wb\"))"
   ]
  },
  {
   "cell_type": "code",
   "execution_count": 211,
   "metadata": {
    "ExecuteTime": {
     "end_time": "2018-02-14T11:08:09.170718Z",
     "start_time": "2018-02-14T11:08:09.160151Z"
    }
   },
   "outputs": [
    {
     "data": {
      "text/plain": [
       "[1, 2, 3, 4, 5, 6, 7, 8, 9, 10]"
      ]
     },
     "execution_count": 211,
     "metadata": {},
     "output_type": "execute_result"
    }
   ],
   "source": [
    "list(data.keys())[:10]"
   ]
  },
  {
   "cell_type": "code",
   "execution_count": 223,
   "metadata": {
    "ExecuteTime": {
     "end_time": "2018-02-14T11:12:14.353894Z",
     "start_time": "2018-02-14T11:11:54.241407Z"
    }
   },
   "outputs": [
    {
     "data": {
      "application/vnd.jupyter.widget-view+json": {
       "model_id": "86b087e9ac8444a993cfcbd9b8761500",
       "version_major": 2,
       "version_minor": 0
      },
      "text/plain": [
       "A Jupyter Widget"
      ]
     },
     "metadata": {},
     "output_type": "display_data"
    },
    {
     "name": "stdout",
     "output_type": "stream",
     "text": [
      "\n"
     ]
    }
   ],
   "source": [
    "a = 0\n",
    "\n",
    "for work in tqdm(works):\n",
    "    try:\n",
    "        work['profession_tree_name'] = Counter(data[work['id']]).most_common(1)[0][0]\n",
    "    except:\n",
    "        work['profession_tree_name'] = None\n",
    "        continue"
   ]
  },
  {
   "cell_type": "code",
   "execution_count": 234,
   "metadata": {
    "ExecuteTime": {
     "end_time": "2018-02-14T11:14:10.584052Z",
     "start_time": "2018-02-14T11:14:10.452423Z"
    },
    "collapsed": true
   },
   "outputs": [],
   "source": [
    "vac_by_theme = defaultdict(lambda: [])\n",
    "\n",
    "for vac in vacancy:\n",
    "    vac_by_theme[vac['profession_tree_name']].append(vac)"
   ]
  },
  {
   "cell_type": "code",
   "execution_count": 289,
   "metadata": {
    "ExecuteTime": {
     "end_time": "2018-02-14T11:31:33.365739Z",
     "start_time": "2018-02-14T11:31:33.088145Z"
    },
    "collapsed": true
   },
   "outputs": [],
   "source": [
    "tmp = Counter([work['profession_tree_name'][0] if work['profession_tree_name'] else None for work in works])"
   ]
  },
  {
   "cell_type": "code",
   "execution_count": 291,
   "metadata": {
    "ExecuteTime": {
     "end_time": "2018-02-14T11:31:52.644083Z",
     "start_time": "2018-02-14T11:31:52.635441Z"
    }
   },
   "outputs": [
    {
     "data": {
      "text/plain": [
       "[(None, 30592),\n",
       " ('Промоутер', 23860),\n",
       " ('Водитель', 20957),\n",
       " ('Помощник бухгалтера', 17606),\n",
       " ('Программист 1С', 12886),\n",
       " ('Менеджер по продажам', 12438),\n",
       " ('Оператор ПК', 10162),\n",
       " ('Инженер программист', 9868),\n",
       " ('Мастер', 9813),\n",
       " ('Финансовый директор', 9401),\n",
       " ('Литературный редактор', 9104),\n",
       " ('Журналист', 8747),\n",
       " ('Доцент', 8546),\n",
       " ('Помощник юриста', 7991),\n",
       " ('Переводчик', 7836),\n",
       " ('Инженер конструктор', 7474),\n",
       " ('Специалист по маркетингу', 7403),\n",
       " ('Инженер проектировщик', 7352),\n",
       " ('Учитель английского языка', 7098),\n",
       " ('Охранник', 6900),\n",
       " ('Бухгалтер', 6593),\n",
       " ('Оператор call центра', 6193),\n",
       " ('Кассир', 5818),\n",
       " ('Конструктор', 5532),\n",
       " ('Помощник руководителя', 5479),\n",
       " ('Системный администратор', 5361),\n",
       " ('Менеджер по туризму', 5254),\n",
       " ('Экономист', 4801),\n",
       " ('Техник', 4765),\n",
       " ('Юрист', 4584),\n",
       " ('Продавец', 4567),\n",
       " ('Помощник системного администратора', 4004),\n",
       " ('Специалист отдела кадров', 3861),\n",
       " ('Финансовый менеджер', 3840),\n",
       " ('Дизайнер', 3778),\n",
       " ('Менеджер по развитию', 3734),\n",
       " ('Главный редактор', 3639),\n",
       " ('Химик', 3597),\n",
       " ('Кладовщик', 3498),\n",
       " ('Разработчик', 3332),\n",
       " ('Экономист аналитик', 3305),\n",
       " ('Торговый представитель', 3143),\n",
       " ('Инженер', 3118),\n",
       " ('Сервис-инженер', 3081),\n",
       " ('Психолог', 2873),\n",
       " ('Педагог', 2869),\n",
       " ('Менеджер по закупкам', 2710),\n",
       " ('Менеджер по персоналу', 2576),\n",
       " ('Начальник производства', 2545),\n",
       " ('Корректор', 2425),\n",
       " ('Технический специалист', 2318),\n",
       " ('Директор по развитию', 2251),\n",
       " ('Оператор', 2196),\n",
       " ('Инженер технолог', 2189),\n",
       " ('Веб-программист', 2086),\n",
       " ('Курьер', 1954),\n",
       " ('Помощник менеджера', 1921),\n",
       " ('Оператор 1С', 1864),\n",
       " ('Программист Java', 1857),\n",
       " ('Ассистент менеджера по персоналу', 1849),\n",
       " ('Преподаватель', 1830),\n",
       " ('Редактор корректор', 1807),\n",
       " ('Персональный водитель', 1734),\n",
       " ('Аналитик', 1694),\n",
       " ('Финансовый аналитик', 1630),\n",
       " ('Программист', 1616),\n",
       " ('Фотограф', 1553),\n",
       " ('Менеджер проекта', 1547),\n",
       " ('Менеджер по развитию бизнеса', 1532),\n",
       " ('Водитель на личном автомобиле', 1483),\n",
       " ('Логист', 1477),\n",
       " ('Секретарь', 1465),\n",
       " ('Специалист по закупкам', 1446),\n",
       " ('Помощник', 1399),\n",
       " ('Делопроизводитель', 1338),\n",
       " ('Руководитель отдела продаж', 1282),\n",
       " ('Менеджер по PR', 1233),\n",
       " ('Специалист технической поддержки', 1212),\n",
       " ('Копирайтер', 1212),\n",
       " ('Водитель экспедитор', 1208),\n",
       " ('Официант', 1177),\n",
       " ('Редактор', 1094),\n",
       " ('Администратор', 1056),\n",
       " ('Менеджер по рекламе', 1026),\n",
       " ('Дизайнер верстальщик', 988),\n",
       " ('Эксперт', 969),\n",
       " ('Инженер механик', 962),\n",
       " ('Бармен', 960),\n",
       " ('Стажер', 904),\n",
       " ('Менеджер по продажам автомобилей', 891),\n",
       " ('Администратор салона красоты', 884),\n",
       " ('Супервайзер', 840),\n",
       " ('Аудитор', 826),\n",
       " ('Продавец консультант', 807),\n",
       " ('Маркетолог', 807),\n",
       " ('Инженер-геолог', 789),\n",
       " ('Водитель курьер', 772),\n",
       " ('Менеджер консультант', 751),\n",
       " ('Бренд-менеджер', 714),\n",
       " ('Тестировщик', 703),\n",
       " ('Учитель математики', 679),\n",
       " ('Репетитор', 676),\n",
       " ('Библиотекарь', 665),\n",
       " ('Заместитель руководителя отдела', 648),\n",
       " ('Директор по продажам', 635),\n",
       " ('Контент-менеджер', 613),\n",
       " ('Учитель русского языка и литературы', 613),\n",
       " ('Директор магазина', 592),\n",
       " ('Коммерческий директор', 585),\n",
       " ('Менеджер по работе с клиентами', 580),\n",
       " ('Менеджер ВЭД', 566),\n",
       " ('Геолог', 558),\n",
       " ('Переводчик английского языка', 542),\n",
       " ('Учитель истории и обществознания', 524),\n",
       " ('Инженер по качеству', 506),\n",
       " ('Диспетчер', 484),\n",
       " ('Инженер сметчик', 480),\n",
       " ('Офис-менеджер', 478),\n",
       " ('Менеджер по логистике', 471),\n",
       " ('Инструктор', 449),\n",
       " ('Специалист по работе с клиентами', 407),\n",
       " ('Специалист IT', 407),\n",
       " ('Менеджер event', 397),\n",
       " ('Заместитель финансового директора', 379),\n",
       " ('Заместитель', 369),\n",
       " ('Ассистент', 367),\n",
       " ('Тайный покупатель', 363),\n",
       " ('Мерчандайзер', 358),\n",
       " ('Администратор офиса', 354),\n",
       " ('Эколог', 341),\n",
       " ('Инженер-эколог', 339),\n",
       " ('Менеджер интернет-магазина', 338),\n",
       " ('Директор', 332),\n",
       " ('Продавец кассир', 332),\n",
       " ('Экономист менеджер', 326),\n",
       " ('Корреспондент', 324),\n",
       " ('Специалист по персоналу', 320),\n",
       " ('Прораб', 319),\n",
       " ('Руководитель группы', 311),\n",
       " ('Кассир консультант', 300),\n",
       " ('Бизнес-тренер', 297),\n",
       " ('Технический писатель', 292),\n",
       " ('Руководитель направления', 270),\n",
       " ('Руководитель', 260),\n",
       " ('Директор по маркетингу', 252),\n",
       " ('Сотрудник', 234),\n",
       " ('Исполнительный директор', 229),\n",
       " ('Главный бухгалтер', 217),\n",
       " ('Руководитель IT отдела', 192),\n",
       " ('Персональный ассистент', 191),\n",
       " ('Начальник АХО', 175),\n",
       " ('Генеральный директор', 171),\n",
       " ('Бухгалтер экономист', 165),\n",
       " ('Ведущий инженер конструктор', 157),\n",
       " ('Заместитель начальника отдела', 143),\n",
       " ('Специалист по информационной безопасности', 134),\n",
       " ('Инженер по оборудованию', 123),\n",
       " ('Специалист по логистике', 113),\n",
       " ('Региональный менеджер', 102),\n",
       " ('Директор по ИТ', 101),\n",
       " ('Ведущий инженер', 99),\n",
       " ('Консультант', 96),\n",
       " ('Интернет-маркетолог', 96),\n",
       " ('Заместитель генерального директора', 93),\n",
       " ('Начальник', 84),\n",
       " ('Инженер по эксплуатации', 83),\n",
       " ('Инженер по охране труда', 80),\n",
       " ('Аналитик маркетолог', 78),\n",
       " ('Руководитель отдела персонала', 72),\n",
       " ('Технический директор', 71),\n",
       " ('Инженер ПТО', 69),\n",
       " ('Специалист по связям с общественностью', 66),\n",
       " ('Пресс-секретарь', 51),\n",
       " ('Начальник участка', 49),\n",
       " ('Инженер проекта', 49),\n",
       " ('Помощник личный', 46),\n",
       " ('Начальник склада', 45),\n",
       " ('Директор по персоналу', 43),\n",
       " ('Руководитель департамента', 39),\n",
       " ('Главный инженер', 29),\n",
       " ('Начальник юридического отдела', 27),\n",
       " ('Главный инженер проекта', 25),\n",
       " ('Ассистент отдела маркетинга', 24),\n",
       " ('Администратор сайта', 24),\n",
       " ('Менеджер по работе с ключевыми клиентами', 22),\n",
       " ('Заместитель главного бухгалтера', 21),\n",
       " ('Инженер технической поддержки', 21),\n",
       " ('Административный директор', 20),\n",
       " ('Управляющий', 14),\n",
       " ('Специалист', 14),\n",
       " ('Руководитель отдела', 13),\n",
       " ('Координатор проектов', 12),\n",
       " ('Координатор', 9),\n",
       " ('Юрисконсульт', 9),\n",
       " ('Менеджер по маркетингу', 8),\n",
       " ('Системный аналитик', 3),\n",
       " ('Менеджер', 3),\n",
       " ('Управляющий директор', 2),\n",
       " ('Руководитель отдела маркетинга', 1),\n",
       " ('Заведующий складом', 1),\n",
       " ('Заместитель директора', 1)]"
      ]
     },
     "execution_count": 291,
     "metadata": {},
     "output_type": "execute_result"
    }
   ],
   "source": [
    "tmp.most_common()"
   ]
  },
  {
   "cell_type": "code",
   "execution_count": 238,
   "metadata": {
    "ExecuteTime": {
     "end_time": "2018-02-14T11:15:07.739633Z",
     "start_time": "2018-02-14T11:15:07.689052Z"
    },
    "collapsed": true
   },
   "outputs": [],
   "source": [
    "def compile_cos_sim_theano():\n",
    "    v1 = theano.tensor.vector(dtype='float32')\n",
    "    v2 = theano.tensor.vector(dtype='float32')\n",
    "    \n",
    "    numerator = theano.tensor.sum(v1*v2)\n",
    "    denominator = theano.tensor.sqrt(theano.tensor.sum(v1**2)*theano.tensor.sum(v2**2))\n",
    "   \n",
    "    return theano.function([v1, v2], numerator/denominator)\n",
    "\n",
    "cos_sim_theano_fn = compile_cos_sim_theano()"
   ]
  },
  {
   "cell_type": "code",
   "execution_count": 316,
   "metadata": {
    "ExecuteTime": {
     "end_time": "2018-02-14T11:42:05.654447Z",
     "start_time": "2018-02-14T11:42:05.647010Z"
    },
    "collapsed": true
   },
   "outputs": [],
   "source": [
    "def get_sim_to_work(work):\n",
    "    if work['profession_tree_name']:\n",
    "        all_similar_vacs = vac_by_theme[work['profession_tree_name'][0]]\n",
    "\n",
    "        tmp = {}\n",
    "\n",
    "        for vac in all_similar_vacs:\n",
    "            if not np.isnan(vac['vec']).all():\n",
    "                tmp[vac['id']] =  float(cos_sim_theano_fn(vac['vec'], work['vec']))\n",
    "\n",
    "        return work['id'], Counter(tmp).most_common(10)\n",
    "    return 0, None"
   ]
  },
  {
   "cell_type": "code",
   "execution_count": 317,
   "metadata": {
    "ExecuteTime": {
     "end_time": "2018-02-14T12:14:29.029850Z",
     "start_time": "2018-02-14T11:42:06.643043Z"
    }
   },
   "outputs": [
    {
     "name": "stderr",
     "output_type": "stream",
     "text": [
      "[Parallel(n_jobs=-1)]: Done   8 tasks      | elapsed:    0.1s\n",
      "[Parallel(n_jobs=-1)]: Done 1304 tasks      | elapsed:    5.7s\n",
      "[Parallel(n_jobs=-1)]: Done 3864 tasks      | elapsed:   14.9s\n",
      "[Parallel(n_jobs=-1)]: Done 6728 tasks      | elapsed:   26.2s\n",
      "[Parallel(n_jobs=-1)]: Done 9032 tasks      | elapsed:   36.4s\n",
      "[Parallel(n_jobs=-1)]: Done 11848 tasks      | elapsed:   49.0s\n",
      "[Parallel(n_jobs=-1)]: Done 15176 tasks      | elapsed:  1.1min\n",
      "[Parallel(n_jobs=-1)]: Done 19016 tasks      | elapsed:  1.3min\n",
      "[Parallel(n_jobs=-1)]: Done 23368 tasks      | elapsed:  1.6min\n",
      "[Parallel(n_jobs=-1)]: Done 28232 tasks      | elapsed:  2.0min\n",
      "[Parallel(n_jobs=-1)]: Done 33608 tasks      | elapsed:  2.4min\n",
      "[Parallel(n_jobs=-1)]: Done 39496 tasks      | elapsed:  2.9min\n",
      "[Parallel(n_jobs=-1)]: Done 45896 tasks      | elapsed:  3.3min\n",
      "[Parallel(n_jobs=-1)]: Done 52808 tasks      | elapsed:  3.9min\n",
      "[Parallel(n_jobs=-1)]: Done 60232 tasks      | elapsed:  4.4min\n",
      "[Parallel(n_jobs=-1)]: Done 68168 tasks      | elapsed:  5.0min\n",
      "[Parallel(n_jobs=-1)]: Done 76616 tasks      | elapsed:  5.6min\n",
      "[Parallel(n_jobs=-1)]: Done 85576 tasks      | elapsed:  6.3min\n",
      "[Parallel(n_jobs=-1)]: Done 95048 tasks      | elapsed:  7.0min\n",
      "[Parallel(n_jobs=-1)]: Done 105032 tasks      | elapsed:  7.7min\n",
      "[Parallel(n_jobs=-1)]: Done 115528 tasks      | elapsed:  8.5min\n",
      "[Parallel(n_jobs=-1)]: Done 126536 tasks      | elapsed:  9.3min\n",
      "[Parallel(n_jobs=-1)]: Done 138056 tasks      | elapsed: 10.1min\n",
      "[Parallel(n_jobs=-1)]: Done 150088 tasks      | elapsed: 10.9min\n",
      "[Parallel(n_jobs=-1)]: Done 162632 tasks      | elapsed: 11.8min\n",
      "[Parallel(n_jobs=-1)]: Done 175688 tasks      | elapsed: 12.7min\n",
      "[Parallel(n_jobs=-1)]: Done 189256 tasks      | elapsed: 13.6min\n",
      "[Parallel(n_jobs=-1)]: Done 203336 tasks      | elapsed: 14.6min\n",
      "[Parallel(n_jobs=-1)]: Done 217928 tasks      | elapsed: 15.7min\n",
      "[Parallel(n_jobs=-1)]: Done 233032 tasks      | elapsed: 16.7min\n",
      "[Parallel(n_jobs=-1)]: Done 248648 tasks      | elapsed: 17.9min\n",
      "[Parallel(n_jobs=-1)]: Done 264776 tasks      | elapsed: 19.0min\n",
      "[Parallel(n_jobs=-1)]: Done 281416 tasks      | elapsed: 20.3min\n",
      "[Parallel(n_jobs=-1)]: Done 298568 tasks      | elapsed: 21.5min\n",
      "[Parallel(n_jobs=-1)]: Done 316232 tasks      | elapsed: 22.8min\n",
      "[Parallel(n_jobs=-1)]: Done 334408 tasks      | elapsed: 24.1min\n",
      "[Parallel(n_jobs=-1)]: Done 353096 tasks      | elapsed: 25.5min\n",
      "[Parallel(n_jobs=-1)]: Done 372296 tasks      | elapsed: 26.8min\n",
      "[Parallel(n_jobs=-1)]: Done 392008 tasks      | elapsed: 28.1min\n",
      "[Parallel(n_jobs=-1)]: Done 412232 tasks      | elapsed: 29.6min\n",
      "[Parallel(n_jobs=-1)]: Done 432968 tasks      | elapsed: 31.1min\n",
      "[Parallel(n_jobs=-1)]: Done 448769 out of 448769 | elapsed: 32.2min finished\n"
     ]
    }
   ],
   "source": [
    "sim_to_work = parallel(get_sim_to_work, works)"
   ]
  },
  {
   "cell_type": "code",
   "execution_count": 318,
   "metadata": {
    "ExecuteTime": {
     "end_time": "2018-02-14T12:14:32.094277Z",
     "start_time": "2018-02-14T12:14:31.952721Z"
    },
    "collapsed": true
   },
   "outputs": [],
   "source": [
    "sim_to_work = {x[0]: x[1] for x in sim_to_work}"
   ]
  },
  {
   "cell_type": "code",
   "execution_count": 319,
   "metadata": {
    "ExecuteTime": {
     "end_time": "2018-02-14T12:14:36.104228Z",
     "start_time": "2018-02-14T12:14:33.945194Z"
    },
    "collapsed": true
   },
   "outputs": [],
   "source": [
    "pickle.dump(sim_to_work, open(\"sim_to_work.pck\", \"wb\"))"
   ]
  },
  {
   "cell_type": "code",
   "execution_count": 332,
   "metadata": {
    "ExecuteTime": {
     "end_time": "2018-02-14T12:17:47.496124Z",
     "start_time": "2018-02-14T12:17:47.491340Z"
    },
    "collapsed": true
   },
   "outputs": [],
   "source": [
    "def get_skills(work):\n",
    "    sim = sim_to_work[work['id']]\n",
    "    skills = []\n",
    "    for s in sim:\n",
    "        skills.append(vacancy_by_name[s[0]]['clear_skills'])\n",
    "    \n",
    "    return skills"
   ]
  },
  {
   "cell_type": "code",
   "execution_count": 354,
   "metadata": {
    "ExecuteTime": {
     "end_time": "2018-02-14T13:01:38.225529Z",
     "start_time": "2018-02-14T13:01:37.956405Z"
    },
    "collapsed": true
   },
   "outputs": [],
   "source": [
    "tmp = {x['id']: x['profession_tree_name'][0] if x['profession_tree_name'] else None for x in works}"
   ]
  },
  {
   "cell_type": "code",
   "execution_count": 356,
   "metadata": {
    "ExecuteTime": {
     "end_time": "2018-02-14T13:01:55.633243Z",
     "start_time": "2018-02-14T13:01:55.512325Z"
    },
    "collapsed": true
   },
   "outputs": [],
   "source": [
    "pickle.dump(tmp, open(\"tmp.pck\", \"wb\"))"
   ]
  },
  {
   "cell_type": "code",
   "execution_count": 343,
   "metadata": {
    "ExecuteTime": {
     "end_time": "2018-02-14T12:23:04.824236Z",
     "start_time": "2018-02-14T12:23:04.820602Z"
    }
   },
   "outputs": [
    {
     "data": {
      "text/plain": [
       "[[],\n",
       " ['опыт работа водитель бурильный крановый установка'],\n",
       " ['водительский удостоверение категория',\n",
       "  'безаварийный стаж вождение',\n",
       "  'основа электроснабжение',\n",
       "  'основа организация',\n",
       "  'технический характеристика',\n",
       "  'режим работа дизель генераторный установка'],\n",
       " ['опыт работа минимум официальный подтверждение'],\n",
       " ['наличие удостоверение машинист',\n",
       "  'разряд автогидроподъёмник',\n",
       "  'опыт работа грузовой авто'],\n",
       " ['искать водитель испытатель проведение испытание гусеничный машина',\n",
       "  'наличие удостоверение механик водитель гусеничный машина',\n",
       "  'навык чтение технологический документация',\n",
       "  'навык чтение конструкторский'],\n",
       " ['наличие право категория',\n",
       "  'опыт работа грузовой техника',\n",
       "  'опыт работа строительный',\n",
       "  'бережный отношение техника'],\n",
       " ['средний высокий технический профильный образование',\n",
       "  'средний профессиональный',\n",
       "  'знание испытание скважина',\n",
       "  'знание технология',\n",
       "  'водительский удостоверение категория',\n",
       "  'опыт управление грузовой',\n",
       "  'условие крайний север',\n",
       "  'умение производить самостоятельный ремонт оборудование'],\n",
       " ['опыт работа',\n",
       "  'право категория',\n",
       "  'умение работать команда',\n",
       "  'водительский право категория'],\n",
       " ['опыт работа', 'право категория', 'умение работать команда']]"
      ]
     },
     "execution_count": 343,
     "metadata": {},
     "output_type": "execute_result"
    }
   ],
   "source": [
    "get_skills(works[69])"
   ]
  },
  {
   "cell_type": "code",
   "execution_count": 250,
   "metadata": {
    "ExecuteTime": {
     "end_time": "2018-02-14T11:22:27.472176Z",
     "start_time": "2018-02-14T11:22:27.469159Z"
    }
   },
   "outputs": [
    {
     "data": {
      "text/plain": [
       "dict_keys(['id', 'id_client', 'town', 'profession', 'work', 'candidat', 'drive_license', 'type_of_work_value', 'place_of_work_value', 'experience_value', 'education_value', 'employer_type_value', 'payment_from', 'payment_to', 'profession_tree_id', 'profession_tree_name', 'languages', 'metro', 'vec'])"
      ]
     },
     "execution_count": 250,
     "metadata": {},
     "output_type": "execute_result"
    }
   ],
   "source": [
    "all_similar_vacs[0].keys()"
   ]
  },
  {
   "cell_type": "code",
   "execution_count": 189,
   "metadata": {
    "ExecuteTime": {
     "end_time": "2018-02-14T10:32:14.661014Z",
     "start_time": "2018-02-14T10:32:14.649378Z"
    }
   },
   "outputs": [
    {
     "data": {
      "text/plain": [
       "['b471044536f405677193e3d7fd775970',\n",
       " 'c567f6d49312f22fc00a277e2e55822b',\n",
       " '04fef9a9e506216b6b232839bcac9717',\n",
       " '25c9cc24963d4299e55b3c66cba47dba',\n",
       " '633d35cf8de238404f60f9ab6683fe5e',\n",
       " '056f4fa32f57f7aea88b04c5bc268c31',\n",
       " '7119f26423d0e892d1111d8a49372b15',\n",
       " '49748b69e3d3435cd98d241a6935f3d1',\n",
       " '336d370779b3261dcb00331fba5f7f47',\n",
       " '082c33c70583f4d098c8eb7e1f671a18']"
      ]
     },
     "execution_count": 189,
     "metadata": {},
     "output_type": "execute_result"
    }
   ],
   "source": [
    "list(most.keys())[:10]"
   ]
  },
  {
   "cell_type": "code",
   "execution_count": 21,
   "metadata": {
    "ExecuteTime": {
     "end_time": "2018-02-13T22:40:54.010337Z",
     "start_time": "2018-02-13T22:40:52.937814Z"
    },
    "collapsed": true
   },
   "outputs": [],
   "source": [
    "clear_works = []\n",
    "clear_vectors_works = []\n",
    "\n",
    "for work in works:\n",
    "    if not np.isnan(work['vec']).all():\n",
    "        clear_works.append(work)\n",
    "        clear_vectors_works.append(work['vec'])"
   ]
  },
  {
   "cell_type": "code",
   "execution_count": null,
   "metadata": {
    "ExecuteTime": {
     "end_time": "2018-02-13T22:30:31.690295Z",
     "start_time": "2018-02-13T22:30:31.687225Z"
    },
    "collapsed": true
   },
   "outputs": [],
   "source": [
    "def f(vac):\n",
    "    return list(map(lambda work: cos_sim_theano_fn(work, vac['vec']), clear_vectors_works))"
   ]
  },
  {
   "cell_type": "code",
   "execution_count": null,
   "metadata": {
    "collapsed": true
   },
   "outputs": [],
   "source": [
    "f(vacancy[0])"
   ]
  },
  {
   "cell_type": "code",
   "execution_count": null,
   "metadata": {
    "ExecuteTime": {
     "start_time": "2018-02-13T22:30:35.993Z"
    },
    "collapsed": true
   },
   "outputs": [],
   "source": [
    "data = Parallel(n_jobs=-1, verbose=3)(delayed(f)(vac) for vac in vacancy)"
   ]
  },
  {
   "cell_type": "code",
   "execution_count": null,
   "metadata": {
    "ExecuteTime": {
     "start_time": "2018-02-13T22:19:03.439Z"
    },
    "collapsed": true
   },
   "outputs": [],
   "source": [
    "print(len(data))"
   ]
  },
  {
   "cell_type": "code",
   "execution_count": null,
   "metadata": {
    "collapsed": true
   },
   "outputs": [],
   "source": [
    "cosine_similarity([vacancy[0]['vec'], vacancy[1]['vec']], [works[0]['vec'], works[0]['vec']])"
   ]
  },
  {
   "cell_type": "code",
   "execution_count": null,
   "metadata": {
    "collapsed": true
   },
   "outputs": [],
   "source": [
    "for vac in tqdm(vacancy):\n",
    "    vectors = []\n",
    "    for work in tqdm(works):\n",
    "        answer[vac['id']][work['name']] = 1 - spatial.distance.cosine(work['vec'], vac['vec'])"
   ]
  },
  {
   "cell_type": "code",
   "execution_count": null,
   "metadata": {
    "collapsed": true
   },
   "outputs": [],
   "source": [
    "pickle.dump(works, open(\"vac_with_vecs.pck\", \"wb\"))"
   ]
  },
  {
   "cell_type": "code",
   "execution_count": null,
   "metadata": {
    "collapsed": true
   },
   "outputs": [],
   "source": [
    "from scipy import spatial"
   ]
  },
  {
   "cell_type": "code",
   "execution_count": null,
   "metadata": {
    "collapsed": true
   },
   "outputs": [],
   "source": [
    "works[0]['work'], works[1]['work']"
   ]
  },
  {
   "cell_type": "code",
   "execution_count": null,
   "metadata": {
    "collapsed": true
   },
   "outputs": [],
   "source": [
    "1 - spatial.distance.cosine(works[0]['vec'], works[1]['vec'])"
   ]
  },
  {
   "cell_type": "code",
   "execution_count": null,
   "metadata": {
    "collapsed": true
   },
   "outputs": [],
   "source": [
    "works[0]['vec'], works[1]['vec']"
   ]
  },
  {
   "cell_type": "code",
   "execution_count": null,
   "metadata": {
    "collapsed": true
   },
   "outputs": [],
   "source": [
    "# def f(work):      \n",
    "#     print(work)\n",
    "#     clear_skills, dirty_skills = [], []\n",
    "    \n",
    "#     for skill in split_into_skills(work['work']):\n",
    "#         normalized = normalize_skill(skill)\n",
    "        \n",
    "#         if len(normalized) > 0:\n",
    "#             clear_skills.append(\" \".join(normalized[0]))\n",
    "#             dirty_skills.append(\" \".join(normalized[1]))\n",
    "        \n",
    "#     return {\"name\": work['name'], \"clear_skills\": clear_skills, \"dirty_skills\": dirty_skills} "
   ]
  },
  {
   "cell_type": "code",
   "execution_count": null,
   "metadata": {
    "collapsed": true
   },
   "outputs": [],
   "source": [
    "# works_clear = parallel(f, works)"
   ]
  },
  {
   "cell_type": "code",
   "execution_count": null,
   "metadata": {
    "collapsed": true
   },
   "outputs": [],
   "source": []
  },
  {
   "cell_type": "code",
   "execution_count": null,
   "metadata": {
    "collapsed": true
   },
   "outputs": [],
   "source": [
    "# def f(i):\n",
    "#     tmp = []\n",
    "#     for j in split_into_skills(i['work']):\n",
    "#         for g in get_words(j.lower()):\n",
    "#             tmp.append(g)\n",
    "#     return tmp\n",
    "# words = parallel(f, works)"
   ]
  },
  {
   "cell_type": "code",
   "execution_count": null,
   "metadata": {
    "collapsed": true
   },
   "outputs": [],
   "source": [
    "# words_only = []\n",
    "# for word in words:\n",
    "#     for k in word:\n",
    "#         words_only.append(k)"
   ]
  },
  {
   "cell_type": "code",
   "execution_count": null,
   "metadata": {
    "collapsed": true
   },
   "outputs": [],
   "source": [
    "# words_only = list(set(words_only))"
   ]
  },
  {
   "cell_type": "code",
   "execution_count": null,
   "metadata": {
    "collapsed": true
   },
   "outputs": [],
   "source": [
    "# cache = {}\n",
    "\n",
    "# for word in tqdm(words_only):\n",
    "#     cache[word] = morph.parse(word)[0]"
   ]
  },
  {
   "cell_type": "code",
   "execution_count": null,
   "metadata": {
    "collapsed": true
   },
   "outputs": [],
   "source": [
    "# get_words(works[0][\"work\"])"
   ]
  },
  {
   "cell_type": "code",
   "execution_count": null,
   "metadata": {
    "collapsed": true
   },
   "outputs": [],
   "source": [
    "# for work in tqdm(works):\n",
    "#     text = work[\"work\"]\n",
    "#     text = text.lower()\n",
    "#     text = remove_numbers(text)\n",
    "#     text = split_into_skills(text)\n",
    "    \n",
    "#     for i in range(len(text)):\n",
    "#         text[i] = get_words(text[i])\n",
    "        \n",
    "#         def g(x):\n",
    "#             if x in cache:\n",
    "#                 return cache[x].normal_form\n",
    "#             else:\n",
    "#                 print(x)\n",
    "#                 return None\n",
    "#         text[i] = list(filter(lambda x: x, map(g, text[i])))\n",
    "        \n",
    "#     work[\"work_clear\"] = text"
   ]
  },
  {
   "cell_type": "code",
   "execution_count": null,
   "metadata": {
    "collapsed": true
   },
   "outputs": [],
   "source": []
  }
 ],
 "metadata": {
  "kernelspec": {
   "display_name": "Python 3",
   "language": "python",
   "name": "python3"
  },
  "language_info": {
   "codemirror_mode": {
    "name": "ipython",
    "version": 3
   },
   "file_extension": ".py",
   "mimetype": "text/x-python",
   "name": "python",
   "nbconvert_exporter": "python",
   "pygments_lexer": "ipython3",
   "version": "3.6.3"
  },
  "notify_time": "30",
  "varInspector": {
   "cols": {
    "lenName": 16,
    "lenType": 16,
    "lenVar": 40
   },
   "kernels_config": {
    "python": {
     "delete_cmd_postfix": "",
     "delete_cmd_prefix": "del ",
     "library": "var_list.py",
     "varRefreshCmd": "print(var_dic_list())"
    },
    "r": {
     "delete_cmd_postfix": ") ",
     "delete_cmd_prefix": "rm(",
     "library": "var_list.r",
     "varRefreshCmd": "cat(var_dic_list()) "
    }
   },
   "position": {
    "height": "144px",
    "left": "1354.6px",
    "right": "20px",
    "top": "386px",
    "width": "350px"
   },
   "types_to_exclude": [
    "module",
    "function",
    "builtin_function_or_method",
    "instance",
    "_Feature"
   ],
   "window_display": false
  }
 },
 "nbformat": 4,
 "nbformat_minor": 2
}
