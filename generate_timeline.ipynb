{
 "cells": [
  {
   "cell_type": "markdown",
   "metadata": {},
   "source": [
    "# Сортировка и анализ карьерных траекторий в резюме"
   ]
  },
  {
   "cell_type": "code",
   "execution_count": 3,
   "metadata": {
    "ExecuteTime": {
     "end_time": "2018-02-15T08:27:07.310104Z",
     "start_time": "2018-02-15T08:27:07.305856Z"
    },
    "collapsed": true
   },
   "outputs": [],
   "source": [
    "import os, glob\n",
    "import pickle\n",
    "import pymorphy2\n",
    "import nltk\n",
    "import numpy as np\n",
    "import re\n",
    "from typing import List\n",
    "import collections\n",
    "import datetime\n",
    "from cytoolz import pipe\n",
    "from tqdm import tqdm"
   ]
  },
  {
   "cell_type": "code",
   "execution_count": 4,
   "metadata": {
    "ExecuteTime": {
     "end_time": "2018-02-15T08:27:18.009566Z",
     "start_time": "2018-02-15T08:27:08.098250Z"
    }
   },
   "outputs": [],
   "source": [
    "resume = pickle.load(open(\"resume.pck\", \"rb\"))\n",
    "vacancy = pickle.load(open(\"vacancy.pck\", \"rb\"))"
   ]
  },
  {
   "cell_type": "code",
   "execution_count": null,
   "metadata": {
    "ExecuteTime": {
     "end_time": "2018-02-13T11:14:41.621475Z",
     "start_time": "2018-02-13T11:14:41.009839Z"
    },
    "collapsed": true
   },
   "outputs": [],
   "source": [
    "#word2vec\n",
    "morph = pymorphy2.MorphAnalyzer()\n",
    "stopwords = nltk.corpus.stopwords.words(\n",
    "    'russian') + nltk.corpus.stopwords.words('english')\n",
    "stopwords += [\n",
    "    'отличный', 'метр', 'наш', 'клиент', 'банка', 'проект', 'литр',\n",
    "    'желательный', 'др', 'самый', 'мочь', 'хороший', 'год', 'чел', 'обязательный'\n",
    "]\n",
    "\n",
    "cache = {}\n",
    "\n",
    "\n",
    "def remove_numbers(text):\n",
    "    return re.sub(r'\\d+', '', text)\n",
    "\n",
    "\n",
    "def _get_POS(word):\n",
    "    if word not in cache:\n",
    "        cache[word] = morph.parse(word)[0]\n",
    "    return cache[word].tag.POS\n",
    "\n",
    "\n",
    "def normal_form(word):\n",
    "    if word not in cache:\n",
    "        cache[word] = morph.parse(word)[0]\n",
    "    return cache[word].normal_form\n",
    "\n",
    "\n",
    "def is_word_pos_in(word: str, pos: List[str] = None) -> bool:\n",
    "    if not pos:\n",
    "        pos = ['NOUN', \"ADJF\", 'INFN', 'VERB', 'ADJS']\n",
    "\n",
    "    return _get_POS(word) in pos\n",
    "\n",
    "\n",
    "def get_words(text):\n",
    "    return re.findall(r'\\w+', text)\n",
    "\n",
    "\n",
    "def nonempty(x):\n",
    "    if isinstance(x, Sequence):\n",
    "        return filter(lambda x: len(x) > 0 and x != ' ', x)\n",
    "    return x\n",
    "\n",
    "helper = {}\n",
    "\n",
    "\n",
    "def remove_numbers(text):\n",
    "    return re.sub(r'\\d+', '', text)\n",
    "\n",
    "\n",
    "def normalize_skill(skill: str):\n",
    "    parsed = tuple(\n",
    "        pipe(\n",
    "            skill,\n",
    "            lambda x: x.lower(),\n",
    "            remove_numbers,\n",
    "            get_words,\n",
    "        ))\n",
    "    \n",
    "    clear_skill = []\n",
    "    dirty_skill = []\n",
    "    \n",
    "    # Последнее стоп слово для dirty_skill\n",
    "    last_stopword = None\n",
    "    \n",
    "    # Для каждого слова в скилле\n",
    "    for i in parsed:\n",
    "        # Нормализуем слово\n",
    "        word = normal_form(i)\n",
    "        \n",
    "        # Если стоп слово - запомним его\n",
    "        if word in nltk.corpus.stopwords.words('russian'):\n",
    "            last_stopword = word\n",
    "            \n",
    "            if word == \"без\":\n",
    "                clear_skill.append(word)\n",
    "        \n",
    "        # Проверим на часть речи, длинну и стоплова\n",
    "        elif is_word_pos_in(word) and len(word) > 3 and word not in stopwords:\n",
    "            \n",
    "            # Если до этого было стоп слово, добавим его в dirty\n",
    "            if last_stopword and len(dirty_skill) > 0:\n",
    "                dirty_skill.append(last_stopword)\n",
    "                last_stopword = None\n",
    "            \n",
    "            # Добавим в чистый скилл слово\n",
    "            clear_skill.append(word)\n",
    "            \n",
    "            if is_word_pos_in(word, ['NOUN', 'ADJF']):\n",
    "                dirty_skill.append(i)\n",
    "    #f len(clear_skill) > 1 and len(clear_skill) < 8:\n",
    "    return clear_skill, dirty_skill"
   ]
  },
  {
   "cell_type": "code",
   "execution_count": null,
   "metadata": {
    "collapsed": true
   },
   "outputs": [],
   "source": [
    "tmp_vector = np.array([0] * 300, dtype=np.float32)\n",
    "def _word2vec(word):\n",
    "    for i in [\"_NOUN\", \"_ADJ\", \"_VERB\"]:\n",
    "        tmp = \"{}{}\".format(word, i)\n",
    "        if tmp in model:\n",
    "            return model[tmp]\n",
    "        else:\n",
    "            return tmp_vector\n",
    "skill_to_vec = lambda x: np.mean(list(map(_word2vec, x)))"
   ]
  },
  {
   "cell_type": "code",
   "execution_count": 8,
   "metadata": {
    "ExecuteTime": {
     "end_time": "2018-02-15T08:41:01.097806Z",
     "start_time": "2018-02-15T08:41:01.080218Z"
    },
    "collapsed": true
   },
   "outputs": [],
   "source": [
    "#заполняем пропущенные данные и считаем количество дней, которое проработал человек на каждой работе\n",
    "def prepare_resumes():\n",
    "    for res in tqdm(resume):\n",
    "        if 'work_history' in res.keys():\n",
    "            for work in res['work_history']:\n",
    "                \n",
    "                if(work['yearend'] in [None, '0']):\n",
    "                    work['yearend'] = datetime.datetime.now().strftime(\"%Y\")\n",
    "                    work['monthend'] = datetime.datetime.now().strftime(\"%m\")\n",
    "                \n",
    "                if(work['yearbeg'] == None or work['yearbeg'] == '0'):\n",
    "                    work['yearbeg'] = work['yearend']\n",
    "                    \n",
    "                if(work['monthbeg'] == '0'):\n",
    "                    work['monthbeg'] = '1'\n",
    "                \n",
    "                if(work['monthend'] == '0'):\n",
    "                    work['monthend'] = '12'\n",
    "                #print(work['monthbeg'] + \" \" + work['monthend'] + \" \" + work['yearbeg'] + \" \" + work['yearend'])\n",
    "                #print()\n",
    "                start = datetime.datetime.strptime(work['monthbeg']+work['yearbeg'], \"%m%Y\").date()\n",
    "                finish = datetime.datetime.strptime(work['monthend']+work['yearend'], \"%m%Y\").date()\n",
    "                work['work_days'] = (finish-start+datetime.timedelta(days=1)).days"
   ]
  },
  {
   "cell_type": "code",
   "execution_count": 43,
   "metadata": {
    "ExecuteTime": {
     "end_time": "2018-02-14T12:19:37.832215Z",
     "start_time": "2018-02-14T12:19:37.828787Z"
    },
    "collapsed": true
   },
   "outputs": [],
   "source": [
    "#список всех работ человека, отсортированный по времени\n",
    "def get_jobs(resume_id):\n",
    "    ans = {}\n",
    "    for job in resume[resume_id]['work_history']:\n",
    "        ans[int(job['monthbeg'])/12 + int(job['yearbeg'])] = job\n",
    "    return dict(collections.OrderedDict(sorted(ans.items())))"
   ]
  },
  {
   "cell_type": "code",
   "execution_count": 9,
   "metadata": {
    "ExecuteTime": {
     "end_time": "2018-02-15T08:41:02.547416Z",
     "start_time": "2018-02-15T08:41:02.536995Z"
    }
   },
   "outputs": [
    {
     "name": "stderr",
     "output_type": "stream",
     "text": [
      "100%|██████████| 128945/128945 [00:30<00:00, 4197.96it/s]\n"
     ]
    }
   ],
   "source": [
    "prepare_resumes()"
   ]
  },
  {
   "cell_type": "code",
   "execution_count": 10,
   "metadata": {
    "ExecuteTime": {
     "end_time": "2018-02-15T08:45:57.114566Z",
     "start_time": "2018-02-15T08:45:56.925460Z"
    },
    "collapsed": true
   },
   "outputs": [],
   "source": [
    "a = 1\n",
    "for res in resume:\n",
    "    for work in res['work_history']:\n",
    "        work['id'] = a\n",
    "        a += 1"
   ]
  },
  {
   "cell_type": "code",
   "execution_count": 11,
   "metadata": {
    "ExecuteTime": {
     "end_time": "2018-02-15T08:36:15.623563Z",
     "start_time": "2018-02-15T08:36:07.942053Z"
    },
    "collapsed": true
   },
   "outputs": [],
   "source": [
    "pickle.dump(resume, open(\"resume_with_days.pkl\", 'wb'))"
   ]
  },
  {
   "cell_type": "code",
   "execution_count": 104,
   "metadata": {
    "ExecuteTime": {
     "end_time": "2018-02-15T08:46:42.914455Z",
     "start_time": "2018-02-15T08:46:42.909678Z"
    }
   },
   "outputs": [
    {
     "data": {
      "text/plain": [
       "{'additional_education': [],\n",
       " 'age': 40,\n",
       " 'base_education': [{'education_form': 'Дневная/Очная',\n",
       "   'education_type': 'Высшее',\n",
       "   'faculty': 'Экономический факультет',\n",
       "   'institute': 'Московский государственный университет им. М.В. Ломоносова',\n",
       "   'monthend': '0',\n",
       "   'profession': 'Специализация \"Экономика фирмы и отраслевых рынков\" (магистр)',\n",
       "   'town': 'Москва',\n",
       "   'yearend': '2001'},\n",
       "  {'education_form': 'Дневная/Очная',\n",
       "   'education_type': 'Высшее',\n",
       "   'faculty': 'Экономический факультет',\n",
       "   'institute': 'Московский государственный университет им. М.В. Ломоносова',\n",
       "   'monthend': '0',\n",
       "   'profession': 'Общая экономика (бакалавр)',\n",
       "   'town': 'Москва',\n",
       "   'yearend': '1999'}],\n",
       " 'best': 'Компьютерные навыки:\\nMS Excel 2007 (продвинутый пользователь, в т.ч. сводные таблицы), MS Word 2007 (продвинутый пользователь), MS PowerPoint 2007 (уверенный пользователь), MS Access 2007, 1С-Предприятие 7.7, 8.1 (уверенный пользователь), Справочная правовая система КонсультантПлюс 3000, Электронная почта, Навигация в Интернете, Project Expert (анализ и разработка проектов)...',\n",
       " 'business_trip': False,\n",
       " 'catalogues': ['Архивное дело', 'Государственные архивы, библиотеки'],\n",
       " 'children': 'есть',\n",
       " 'citizenship': '',\n",
       " 'desired_profession': 'Архивариус',\n",
       " 'dop': 'Персональные качества\\n· быстрая обучаемость и адаптируемость\\n· творческие способности\\n· способность работать в команде и руководить проектом/людьми\\n· требовательность к себе и окружающим\\n· нацеленность на успешную карьеру',\n",
       " 'driving_licence': 'B',\n",
       " 'experience_month_total': 213,\n",
       " 'id': 'e95551d982c4f06c56ca8efc0e3d495e539c0628',\n",
       " 'id_user': '404c828d130862d570a6707156b1f452403c799a',\n",
       " 'languages': [{'level': 'Технический', 'name': 'Французский'}],\n",
       " 'maritalstatus': 'cостоит в браке',\n",
       " 'num_languages': 1,\n",
       " 'payment': '90000',\n",
       " 'place_of_work': 'не имеет значения',\n",
       " 'pol': 'мужской',\n",
       " 'profession_tree_id': 860,\n",
       " 'profession_tree_name': 'Архивариус',\n",
       " 'town': 'Москва',\n",
       " 'type_of_work': 'полный рабочий день',\n",
       " 'work_history': [{'company_scope': None,\n",
       "   'id': 1,\n",
       "   'is_last': '1',\n",
       "   'monthbeg': '4',\n",
       "   'monthend': '02',\n",
       "   'name': 'b471044536f405677193e3d7fd775970',\n",
       "   'profession': 'Финансовый аналитик',\n",
       "   'town': 'Москва',\n",
       "   'type': 'Полная занятость',\n",
       "   'work': 'Методологическое сопровождение, контроль и развитие управленческого учета и отчетности предприятия, автоматизация процесса управленческого учета, анализ финансово-хозяйственной деятельности ',\n",
       "   'work_days': 3229,\n",
       "   'work_months': '107.63333333333334',\n",
       "   'yearbeg': '2009',\n",
       "   'yearend': '2018'},\n",
       "  {'company_scope': None,\n",
       "   'id': 2,\n",
       "   'is_last': '0',\n",
       "   'monthbeg': '3',\n",
       "   'monthend': '12',\n",
       "   'name': 'c567f6d49312f22fc00a277e2e55822b',\n",
       "   'profession': 'Финансовый менеджер (с функциями финансового директора)',\n",
       "   'town': 'Москва',\n",
       "   'type': 'Полная занятость',\n",
       "   'work': 'Бюджетирование, ведение управленческого учета, управление финансовыми потоками, оперативное финансовое планирование, составление управленческой и финансовой отчетности, ведение документооборота с инвесторами. ',\n",
       "   'work_days': 642,\n",
       "   'work_months': '21.4',\n",
       "   'yearbeg': '2007',\n",
       "   'yearend': '2008'},\n",
       "  {'company_scope': None,\n",
       "   'id': 3,\n",
       "   'is_last': '0',\n",
       "   'monthbeg': '1',\n",
       "   'monthend': '3',\n",
       "   'name': '04fef9a9e506216b6b232839bcac9717',\n",
       "   'profession': 'Финансовый директор',\n",
       "   'town': 'Москва',\n",
       "   'type': 'Полная занятость',\n",
       "   'work': 'Разработка и внедрение управленческого учета с нуля, контроль над ведением управленческого учета и составлением управленческой отчетности, управление финансовыми потоками, составление финансово-экономической отчетности для руководства. ',\n",
       "   'work_days': 425,\n",
       "   'work_months': '14.166666666666666',\n",
       "   'yearbeg': '2006',\n",
       "   'yearend': '2007'},\n",
       "  {'company_scope': None,\n",
       "   'id': 4,\n",
       "   'is_last': '0',\n",
       "   'monthbeg': '9',\n",
       "   'monthend': '11',\n",
       "   'name': '25c9cc24963d4299e55b3c66cba47dba',\n",
       "   'profession': 'Старший консультант',\n",
       "   'town': 'Москва',\n",
       "   'type': 'Полная занятость',\n",
       "   'work': 'Оценка бизнеса и недвижимого имущества, бизнес-планирование, управленческое консультирование, анализ финансово-хозяйственной деятельности. ',\n",
       "   'work_days': 793,\n",
       "   'work_months': '26.433333333333334',\n",
       "   'yearbeg': '2003',\n",
       "   'yearend': '2005'},\n",
       "  {'company_scope': None,\n",
       "   'id': 5,\n",
       "   'is_last': '0',\n",
       "   'monthbeg': '3',\n",
       "   'monthend': '9',\n",
       "   'name': '633d35cf8de238404f60f9ab6683fe5e',\n",
       "   'profession': 'Фин. директор',\n",
       "   'town': 'Москва',\n",
       "   'type': 'Полная занятость',\n",
       "   'work': 'Регулирование финансовых потоков, финансовое планирование, работа с кредитно-финансовыми организациями, оптимизация финансовых потоков, управленческая и финансовая отчетность, планирование производства. ',\n",
       "   'work_days': 185,\n",
       "   'work_months': '6.166666666666667',\n",
       "   'yearbeg': '2003',\n",
       "   'yearend': '2003'},\n",
       "  {'company_scope': None,\n",
       "   'id': 6,\n",
       "   'is_last': '0',\n",
       "   'monthbeg': '5',\n",
       "   'monthend': '3',\n",
       "   'name': '056f4fa32f57f7aea88b04c5bc268c31',\n",
       "   'profession': 'Старший экономист по консолидированной отчётности планово-экономического отдела',\n",
       "   'town': 'Москва',\n",
       "   'type': 'Полная занятость',\n",
       "   'work': 'Курирование и контроль подразделений холдинга, ведение управленческого учёта холдинга, консолидация управленческой отчётности, бюджетирование, участие в разработке методологии бюджетирования, участие в автоматизации управленческого учёта. ',\n",
       "   'work_days': 670,\n",
       "   'work_months': '22.333333333333332',\n",
       "   'yearbeg': '2001',\n",
       "   'yearend': '2003'},\n",
       "  {'company_scope': None,\n",
       "   'id': 7,\n",
       "   'is_last': '0',\n",
       "   'monthbeg': '1',\n",
       "   'monthend': '6',\n",
       "   'name': '7119f26423d0e892d1111d8a49372b15',\n",
       "   'profession': 'Экономист подразделения БиоХимИнвест',\n",
       "   'town': 'Москва',\n",
       "   'type': 'Полная занятость',\n",
       "   'work': 'Документооборот, контроль выполнения договоров, мониторинг дилеров. ',\n",
       "   'work_days': 153,\n",
       "   'work_months': '5.1',\n",
       "   'yearbeg': '2000',\n",
       "   'yearend': '2000'},\n",
       "  {'company_scope': None,\n",
       "   'id': 8,\n",
       "   'is_last': '0',\n",
       "   'monthbeg': '6',\n",
       "   'monthend': '11',\n",
       "   'name': '49748b69e3d3435cd98d241a6935f3d1',\n",
       "   'profession': 'Экономист',\n",
       "   'town': 'Москва',\n",
       "   'type': 'Полная занятость',\n",
       "   'work': 'Ведение складского учёта на ПК. ',\n",
       "   'work_days': 154,\n",
       "   'work_months': '5.133333333333334',\n",
       "   'yearbeg': '1997',\n",
       "   'yearend': '1997'},\n",
       "  {'company_scope': None,\n",
       "   'id': 9,\n",
       "   'is_last': '0',\n",
       "   'monthbeg': '2',\n",
       "   'monthend': '4',\n",
       "   'name': '336d370779b3261dcb00331fba5f7f47',\n",
       "   'profession': 'Менеджер по клиентским отношениям',\n",
       "   'town': 'Москва',\n",
       "   'type': 'Полная занятость',\n",
       "   'work': 'Ведение переговоров с потенциальными клиентами банка по поводу предоставления банковских услуг. ',\n",
       "   'work_days': 60,\n",
       "   'work_months': '2.0',\n",
       "   'yearbeg': '1997',\n",
       "   'yearend': '1997'}]}"
      ]
     },
     "execution_count": 104,
     "metadata": {},
     "output_type": "execute_result"
    }
   ],
   "source": [
    "resume[0]"
   ]
  },
  {
   "cell_type": "code",
   "execution_count": 105,
   "metadata": {
    "ExecuteTime": {
     "end_time": "2018-02-15T08:46:52.011383Z",
     "start_time": "2018-02-15T08:46:52.007088Z"
    }
   },
   "outputs": [
    {
     "data": {
      "text/plain": [
       "{1997.1666666666667: {'company_scope': None,\n",
       "  'id': 9,\n",
       "  'is_last': '0',\n",
       "  'monthbeg': '2',\n",
       "  'monthend': '4',\n",
       "  'name': '336d370779b3261dcb00331fba5f7f47',\n",
       "  'profession': 'Менеджер по клиентским отношениям',\n",
       "  'town': 'Москва',\n",
       "  'type': 'Полная занятость',\n",
       "  'work': 'Ведение переговоров с потенциальными клиентами банка по поводу предоставления банковских услуг. ',\n",
       "  'work_days': 60,\n",
       "  'work_months': '2.0',\n",
       "  'yearbeg': '1997',\n",
       "  'yearend': '1997'},\n",
       " 1997.5: {'company_scope': None,\n",
       "  'id': 8,\n",
       "  'is_last': '0',\n",
       "  'monthbeg': '6',\n",
       "  'monthend': '11',\n",
       "  'name': '49748b69e3d3435cd98d241a6935f3d1',\n",
       "  'profession': 'Экономист',\n",
       "  'town': 'Москва',\n",
       "  'type': 'Полная занятость',\n",
       "  'work': 'Ведение складского учёта на ПК. ',\n",
       "  'work_days': 154,\n",
       "  'work_months': '5.133333333333334',\n",
       "  'yearbeg': '1997',\n",
       "  'yearend': '1997'},\n",
       " 2000.0833333333333: {'company_scope': None,\n",
       "  'id': 7,\n",
       "  'is_last': '0',\n",
       "  'monthbeg': '1',\n",
       "  'monthend': '6',\n",
       "  'name': '7119f26423d0e892d1111d8a49372b15',\n",
       "  'profession': 'Экономист подразделения БиоХимИнвест',\n",
       "  'town': 'Москва',\n",
       "  'type': 'Полная занятость',\n",
       "  'work': 'Документооборот, контроль выполнения договоров, мониторинг дилеров. ',\n",
       "  'work_days': 153,\n",
       "  'work_months': '5.1',\n",
       "  'yearbeg': '2000',\n",
       "  'yearend': '2000'},\n",
       " 2001.4166666666667: {'company_scope': None,\n",
       "  'id': 6,\n",
       "  'is_last': '0',\n",
       "  'monthbeg': '5',\n",
       "  'monthend': '3',\n",
       "  'name': '056f4fa32f57f7aea88b04c5bc268c31',\n",
       "  'profession': 'Старший экономист по консолидированной отчётности планово-экономического отдела',\n",
       "  'town': 'Москва',\n",
       "  'type': 'Полная занятость',\n",
       "  'work': 'Курирование и контроль подразделений холдинга, ведение управленческого учёта холдинга, консолидация управленческой отчётности, бюджетирование, участие в разработке методологии бюджетирования, участие в автоматизации управленческого учёта. ',\n",
       "  'work_days': 670,\n",
       "  'work_months': '22.333333333333332',\n",
       "  'yearbeg': '2001',\n",
       "  'yearend': '2003'},\n",
       " 2003.25: {'company_scope': None,\n",
       "  'id': 5,\n",
       "  'is_last': '0',\n",
       "  'monthbeg': '3',\n",
       "  'monthend': '9',\n",
       "  'name': '633d35cf8de238404f60f9ab6683fe5e',\n",
       "  'profession': 'Фин. директор',\n",
       "  'town': 'Москва',\n",
       "  'type': 'Полная занятость',\n",
       "  'work': 'Регулирование финансовых потоков, финансовое планирование, работа с кредитно-финансовыми организациями, оптимизация финансовых потоков, управленческая и финансовая отчетность, планирование производства. ',\n",
       "  'work_days': 185,\n",
       "  'work_months': '6.166666666666667',\n",
       "  'yearbeg': '2003',\n",
       "  'yearend': '2003'},\n",
       " 2003.75: {'company_scope': None,\n",
       "  'id': 4,\n",
       "  'is_last': '0',\n",
       "  'monthbeg': '9',\n",
       "  'monthend': '11',\n",
       "  'name': '25c9cc24963d4299e55b3c66cba47dba',\n",
       "  'profession': 'Старший консультант',\n",
       "  'town': 'Москва',\n",
       "  'type': 'Полная занятость',\n",
       "  'work': 'Оценка бизнеса и недвижимого имущества, бизнес-планирование, управленческое консультирование, анализ финансово-хозяйственной деятельности. ',\n",
       "  'work_days': 793,\n",
       "  'work_months': '26.433333333333334',\n",
       "  'yearbeg': '2003',\n",
       "  'yearend': '2005'},\n",
       " 2006.0833333333333: {'company_scope': None,\n",
       "  'id': 3,\n",
       "  'is_last': '0',\n",
       "  'monthbeg': '1',\n",
       "  'monthend': '3',\n",
       "  'name': '04fef9a9e506216b6b232839bcac9717',\n",
       "  'profession': 'Финансовый директор',\n",
       "  'town': 'Москва',\n",
       "  'type': 'Полная занятость',\n",
       "  'work': 'Разработка и внедрение управленческого учета с нуля, контроль над ведением управленческого учета и составлением управленческой отчетности, управление финансовыми потоками, составление финансово-экономической отчетности для руководства. ',\n",
       "  'work_days': 425,\n",
       "  'work_months': '14.166666666666666',\n",
       "  'yearbeg': '2006',\n",
       "  'yearend': '2007'},\n",
       " 2007.25: {'company_scope': None,\n",
       "  'id': 2,\n",
       "  'is_last': '0',\n",
       "  'monthbeg': '3',\n",
       "  'monthend': '12',\n",
       "  'name': 'c567f6d49312f22fc00a277e2e55822b',\n",
       "  'profession': 'Финансовый менеджер (с функциями финансового директора)',\n",
       "  'town': 'Москва',\n",
       "  'type': 'Полная занятость',\n",
       "  'work': 'Бюджетирование, ведение управленческого учета, управление финансовыми потоками, оперативное финансовое планирование, составление управленческой и финансовой отчетности, ведение документооборота с инвесторами. ',\n",
       "  'work_days': 642,\n",
       "  'work_months': '21.4',\n",
       "  'yearbeg': '2007',\n",
       "  'yearend': '2008'},\n",
       " 2009.3333333333333: {'company_scope': None,\n",
       "  'id': 1,\n",
       "  'is_last': '1',\n",
       "  'monthbeg': '4',\n",
       "  'monthend': '02',\n",
       "  'name': 'b471044536f405677193e3d7fd775970',\n",
       "  'profession': 'Финансовый аналитик',\n",
       "  'town': 'Москва',\n",
       "  'type': 'Полная занятость',\n",
       "  'work': 'Методологическое сопровождение, контроль и развитие управленческого учета и отчетности предприятия, автоматизация процесса управленческого учета, анализ финансово-хозяйственной деятельности ',\n",
       "  'work_days': 3229,\n",
       "  'work_months': '107.63333333333334',\n",
       "  'yearbeg': '2009',\n",
       "  'yearend': '2018'}}"
      ]
     },
     "execution_count": 105,
     "metadata": {},
     "output_type": "execute_result"
    }
   ],
   "source": [
    "get_jobs(0)"
   ]
  },
  {
   "cell_type": "code",
   "execution_count": null,
   "metadata": {
    "collapsed": true
   },
   "outputs": [],
   "source": []
  }
 ],
 "metadata": {
  "kernelspec": {
   "display_name": "Python 3",
   "language": "python",
   "name": "python3"
  },
  "language_info": {
   "codemirror_mode": {
    "name": "ipython",
    "version": 3
   },
   "file_extension": ".py",
   "mimetype": "text/x-python",
   "name": "python",
   "nbconvert_exporter": "python",
   "pygments_lexer": "ipython3",
   "version": "3.6.3"
  },
  "varInspector": {
   "cols": {
    "lenName": 16,
    "lenType": 16,
    "lenVar": 40
   },
   "kernels_config": {
    "python": {
     "delete_cmd_postfix": "",
     "delete_cmd_prefix": "del ",
     "library": "var_list.py",
     "varRefreshCmd": "print(var_dic_list())"
    },
    "r": {
     "delete_cmd_postfix": ") ",
     "delete_cmd_prefix": "rm(",
     "library": "var_list.r",
     "varRefreshCmd": "cat(var_dic_list()) "
    }
   },
   "types_to_exclude": [
    "module",
    "function",
    "builtin_function_or_method",
    "instance",
    "_Feature"
   ],
   "window_display": false
  }
 },
 "nbformat": 4,
 "nbformat_minor": 2
}
