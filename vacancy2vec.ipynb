{
 "cells": [
  {
   "cell_type": "code",
   "execution_count": 6,
   "metadata": {},
   "outputs": [],
   "source": [
    "import gensim\n",
    "import pickle\n",
    "import numpy as np\n",
    "import semantic as sem"
   ]
  },
  {
   "cell_type": "code",
   "execution_count": null,
   "metadata": {},
   "outputs": [],
   "source": [
    "ress = pickle.load(open(\"resume.pck\", \"rb\"))\n",
    "vacs = pickle.load(open(\"vacancy.pck\", \"rb\"))"
   ]
  },
  {
   "cell_type": "code",
   "execution_count": 5,
   "metadata": {},
   "outputs": [
    {
     "name": "stdout",
     "output_type": "stream",
     "text": [
      "Collecting semantic\n",
      "  Downloading semantic-1.0.3.tar.gz\n",
      "Collecting quantities (from semantic)\n",
      "  Downloading quantities-0.12.1.tar.gz (81kB)\n",
      "\u001b[K    100% |████████████████████████████████| 81kB 430kB/s ta 0:00:011\n",
      "\u001b[?25hRequirement already satisfied: numpy in /home/tvorogme/.anaconda3/lib/python3.6/site-packages (from semantic)\n",
      "Building wheels for collected packages: semantic, quantities\n",
      "  Running setup.py bdist_wheel for semantic ... \u001b[?25ldone\n",
      "\u001b[?25h  Stored in directory: /home/tvorogme/.cache/pip/wheels/45/0c/3d/35ba2354ac8de03085e3fb319ce2a7af92f5dc7f0c7156a1c6\n",
      "  Running setup.py bdist_wheel for quantities ... \u001b[?25ldone\n",
      "\u001b[?25h  Stored in directory: /home/tvorogme/.cache/pip/wheels/88/ff/0e/34ded60ca6cddc546c9d824f41950fd972e6fdb5f5352acb80\n",
      "Successfully built semantic quantities\n",
      "Installing collected packages: quantities, semantic\n",
      "Successfully installed quantities-0.12.1 semantic-1.0.3\n"
     ]
    }
   ],
   "source": [
    "!pip install semantic"
   ]
  },
  {
   "cell_type": "code",
   "execution_count": 13,
   "metadata": {},
   "outputs": [],
   "source": [
    "model = gensim.models.KeyedVectors.load_word2vec_format(\"ruwikiruscorpora_upos_cbow_300_20_2017.bin.gz\", binary=True)\n"
   ]
  },
  {
   "cell_type": "code",
   "execution_count": null,
   "metadata": {},
   "outputs": [],
   "source": [
    "tmp_vector = np.array([0] * 300, dtype=np.float32)\n",
    "def _word2vec(word):\n",
    "    for i in [\"_NOUN\", \"_ADJ\", \"_VERB\"]:\n",
    "        tmp = \"{}{}\".format(word, i)\n",
    "        if tmp in model:\n",
    "            return model[tmp]\n",
    "        else:\n",
    "            return tmp_vector\n",
    "skill_to_vec = lambda x: np.mean(list(map(_word2vec, x)))"
   ]
  },
  {
   "cell_type": "code",
   "execution_count": 14,
   "metadata": {},
   "outputs": [
    {
     "name": "stdout",
     "output_type": "stream",
     "text": [
      "Stored 'model' (EuclideanKeyedVectors)\n"
     ]
    }
   ],
   "source": [
    "%store model"
   ]
  },
  {
   "cell_type": "code",
   "execution_count": null,
   "metadata": {},
   "outputs": [],
   "source": []
  }
 ],
 "metadata": {
  "kernelspec": {
   "display_name": "Python 3",
   "language": "python",
   "name": "python3"
  },
  "language_info": {
   "codemirror_mode": {
    "name": "ipython",
    "version": 3
   },
   "file_extension": ".py",
   "mimetype": "text/x-python",
   "name": "python",
   "nbconvert_exporter": "python",
   "pygments_lexer": "ipython3",
   "version": "3.6.3"
  }
 },
 "nbformat": 4,
 "nbformat_minor": 2
}
